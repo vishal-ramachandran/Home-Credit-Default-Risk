{
  "nbformat": 4,
  "nbformat_minor": 0,
  "metadata": {
    "colab": {
      "name": "Home_Credit_Default_Risk (4).ipynb",
      "provenance": [],
      "collapsed_sections": [],
      "machine_shape": "hm"
    },
    "kernelspec": {
      "name": "python3",
      "display_name": "Python 3"
    },
    "accelerator": "GPU"
  },
  "cells": [
    {
      "cell_type": "markdown",
      "metadata": {
        "id": "mxmRo-wwSeRx",
        "colab_type": "text"
      },
      "source": [
        "**Colab Setup**"
      ]
    },
    {
      "cell_type": "code",
      "metadata": {
        "id": "Azca3saAIWTm",
        "colab_type": "code",
        "colab": {}
      },
      "source": [
        "# Code to read csv file into Colaboratory:\n",
        "!pip install -U -q PyDrive\n",
        "from pydrive.auth import GoogleAuth\n",
        "from pydrive.drive import GoogleDrive\n",
        "from google.colab import auth\n",
        "from oauth2client.client import GoogleCredentials\n",
        "# Authenticate and create the PyDrive client.\n",
        "auth.authenticate_user()\n",
        "gauth = GoogleAuth()\n",
        "gauth.credentials = GoogleCredentials.get_application_default()\n",
        "drive = GoogleDrive(gauth)"
      ],
      "execution_count": 0,
      "outputs": []
    },
    {
      "cell_type": "code",
      "metadata": {
        "id": "kZQuP-r0IqSl",
        "colab_type": "code",
        "outputId": "68705ed9-2d91-438b-c5d3-72e14d659646",
        "colab": {
          "base_uri": "https://localhost:8080/",
          "height": 34
        }
      },
      "source": [
        "link = 'https://drive.google.com/open?id=1Xsz_3yecmbQsz5dPhss4vDjlfsBQsk99' # Paste the shareable link here\n",
        "\n",
        "fluff, id = link.split('=')\n",
        "print (id) # Verify that you have everything after '='\n",
        "\n",
        "downloaded = drive.CreateFile({'id':id}) \n",
        "downloaded.GetContentFile('train.csv') # file will be stored as train.csv in the colab directory"
      ],
      "execution_count": 0,
      "outputs": [
        {
          "output_type": "stream",
          "text": [
            "1Xsz_3yecmbQsz5dPhss4vDjlfsBQsk99\n"
          ],
          "name": "stdout"
        }
      ]
    },
    {
      "cell_type": "code",
      "metadata": {
        "id": "lAOgMOg2Gkk_",
        "colab_type": "code",
        "outputId": "b559ba27-13de-4502-a7ab-ded9eb0a0f1a",
        "colab": {
          "base_uri": "https://localhost:8080/",
          "height": 34
        }
      },
      "source": [
        "link = 'https://drive.google.com/open?id=1-rGgBBekK2U0sw_nW6PV7j3f1VJLd0-0' # Paste the shareable link here\n",
        "\n",
        "fluff, id = link.split('=')\n",
        "print (id) # Verify that you have everything after '='\n",
        "\n",
        "downloaded = drive.CreateFile({'id':id}) \n",
        "downloaded.GetContentFile('test.csv')"
      ],
      "execution_count": 0,
      "outputs": [
        {
          "output_type": "stream",
          "text": [
            "1-rGgBBekK2U0sw_nW6PV7j3f1VJLd0-0\n"
          ],
          "name": "stdout"
        }
      ]
    },
    {
      "cell_type": "markdown",
      "metadata": {
        "id": "UyaldSGMSk2e",
        "colab_type": "text"
      },
      "source": [
        "**Data Import**"
      ]
    },
    {
      "cell_type": "code",
      "metadata": {
        "id": "VLP7ZxspIxBJ",
        "colab_type": "code",
        "outputId": "cb0810b2-5826-4c23-9fde-7dbc3171086e",
        "colab": {
          "base_uri": "https://localhost:8080/",
          "height": 34
        }
      },
      "source": [
        "import os\n",
        "os.listdir('/content/')"
      ],
      "execution_count": 0,
      "outputs": [
        {
          "output_type": "execute_result",
          "data": {
            "text/plain": [
              "['.config', 'train.csv', 'adc.json', 'test.csv', 'sample_data']"
            ]
          },
          "metadata": {
            "tags": []
          },
          "execution_count": 5
        }
      ]
    },
    {
      "cell_type": "code",
      "metadata": {
        "id": "s-BCZvwqI7jI",
        "colab_type": "code",
        "colab": {}
      },
      "source": [
        "import pandas as pd\n",
        "import numpy as np\n",
        "import matplotlib.pyplot as plt"
      ],
      "execution_count": 0,
      "outputs": []
    },
    {
      "cell_type": "code",
      "metadata": {
        "id": "GkLoMUQhSEaL",
        "colab_type": "code",
        "colab": {}
      },
      "source": [
        "train = pd.read_csv('train.csv')\n",
        "test = pd.read_csv('test.csv')"
      ],
      "execution_count": 0,
      "outputs": []
    },
    {
      "cell_type": "code",
      "metadata": {
        "id": "AtSYaYI7Tgi7",
        "colab_type": "code",
        "outputId": "0cf302b7-15a9-49bd-cdab-1c07bd979f7a",
        "colab": {
          "base_uri": "https://localhost:8080/",
          "height": 34
        }
      },
      "source": [
        "train.shape, test.shape"
      ],
      "execution_count": 0,
      "outputs": [
        {
          "output_type": "execute_result",
          "data": {
            "text/plain": [
              "((307511, 122), (48744, 121))"
            ]
          },
          "metadata": {
            "tags": []
          },
          "execution_count": 179
        }
      ]
    },
    {
      "cell_type": "code",
      "metadata": {
        "id": "rZT5L8Yy1By-",
        "colab_type": "code",
        "colab": {}
      },
      "source": [
        "#Check for categoical columns with numbers before one hot encoding\n",
        "categorical_columns=(train[train.columns].nunique()<10) & (train[train.columns].nunique()>2)\n",
        "categorical_columns=pd.DataFrame(categorical_columns)"
      ],
      "execution_count": 0,
      "outputs": []
    },
    {
      "cell_type": "code",
      "metadata": {
        "id": "J3XXFG6Gew-2",
        "colab_type": "code",
        "outputId": "86d8e571-af6d-40cb-a917-3091fd708aed",
        "colab": {
          "base_uri": "https://localhost:8080/",
          "height": 195
        }
      },
      "source": [
        "categorical_columns['Datatype']=(train.dtypes!='object')\n",
        "categorical_columns.columns=['Unique<10','Not object']\n",
        "categorical_columns.head()"
      ],
      "execution_count": 0,
      "outputs": [
        {
          "output_type": "execute_result",
          "data": {
            "text/html": [
              "<div>\n",
              "<style scoped>\n",
              "    .dataframe tbody tr th:only-of-type {\n",
              "        vertical-align: middle;\n",
              "    }\n",
              "\n",
              "    .dataframe tbody tr th {\n",
              "        vertical-align: top;\n",
              "    }\n",
              "\n",
              "    .dataframe thead th {\n",
              "        text-align: right;\n",
              "    }\n",
              "</style>\n",
              "<table border=\"1\" class=\"dataframe\">\n",
              "  <thead>\n",
              "    <tr style=\"text-align: right;\">\n",
              "      <th></th>\n",
              "      <th>Unique&lt;10</th>\n",
              "      <th>Not object</th>\n",
              "    </tr>\n",
              "  </thead>\n",
              "  <tbody>\n",
              "    <tr>\n",
              "      <th>SK_ID_CURR</th>\n",
              "      <td>False</td>\n",
              "      <td>True</td>\n",
              "    </tr>\n",
              "    <tr>\n",
              "      <th>TARGET</th>\n",
              "      <td>False</td>\n",
              "      <td>True</td>\n",
              "    </tr>\n",
              "    <tr>\n",
              "      <th>NAME_CONTRACT_TYPE</th>\n",
              "      <td>False</td>\n",
              "      <td>False</td>\n",
              "    </tr>\n",
              "    <tr>\n",
              "      <th>CODE_GENDER</th>\n",
              "      <td>True</td>\n",
              "      <td>False</td>\n",
              "    </tr>\n",
              "    <tr>\n",
              "      <th>FLAG_OWN_CAR</th>\n",
              "      <td>False</td>\n",
              "      <td>False</td>\n",
              "    </tr>\n",
              "  </tbody>\n",
              "</table>\n",
              "</div>"
            ],
            "text/plain": [
              "                    Unique<10  Not object\n",
              "SK_ID_CURR              False        True\n",
              "TARGET                  False        True\n",
              "NAME_CONTRACT_TYPE      False       False\n",
              "CODE_GENDER              True       False\n",
              "FLAG_OWN_CAR            False       False"
            ]
          },
          "metadata": {
            "tags": []
          },
          "execution_count": 181
        }
      ]
    },
    {
      "cell_type": "code",
      "metadata": {
        "id": "X_ZzWjPCistL",
        "colab_type": "code",
        "outputId": "0672beda-3599-4c62-a042-1a267889eebc",
        "colab": {
          "base_uri": "https://localhost:8080/",
          "height": 84
        }
      },
      "source": [
        "categorical_columns[(categorical_columns['Unique<10']==True) & (categorical_columns['Not object']==True)].index"
      ],
      "execution_count": 0,
      "outputs": [
        {
          "output_type": "execute_result",
          "data": {
            "text/plain": [
              "Index(['REGION_RATING_CLIENT', 'REGION_RATING_CLIENT_W_CITY',\n",
              "       'DEF_60_CNT_SOCIAL_CIRCLE', 'AMT_REQ_CREDIT_BUREAU_HOUR',\n",
              "       'AMT_REQ_CREDIT_BUREAU_DAY', 'AMT_REQ_CREDIT_BUREAU_WEEK'],\n",
              "      dtype='object')"
            ]
          },
          "metadata": {
            "tags": []
          },
          "execution_count": 182
        }
      ]
    },
    {
      "cell_type": "code",
      "metadata": {
        "id": "R9VfhRCUSL6n",
        "colab_type": "code",
        "outputId": "c017615e-2757-445c-95ee-1573b8fb3891",
        "colab": {
          "base_uri": "https://localhost:8080/",
          "height": 311
        }
      },
      "source": [
        "train.head()"
      ],
      "execution_count": 0,
      "outputs": [
        {
          "output_type": "execute_result",
          "data": {
            "text/html": [
              "<div>\n",
              "<style scoped>\n",
              "    .dataframe tbody tr th:only-of-type {\n",
              "        vertical-align: middle;\n",
              "    }\n",
              "\n",
              "    .dataframe tbody tr th {\n",
              "        vertical-align: top;\n",
              "    }\n",
              "\n",
              "    .dataframe thead th {\n",
              "        text-align: right;\n",
              "    }\n",
              "</style>\n",
              "<table border=\"1\" class=\"dataframe\">\n",
              "  <thead>\n",
              "    <tr style=\"text-align: right;\">\n",
              "      <th></th>\n",
              "      <th>SK_ID_CURR</th>\n",
              "      <th>TARGET</th>\n",
              "      <th>NAME_CONTRACT_TYPE</th>\n",
              "      <th>CODE_GENDER</th>\n",
              "      <th>FLAG_OWN_CAR</th>\n",
              "      <th>FLAG_OWN_REALTY</th>\n",
              "      <th>CNT_CHILDREN</th>\n",
              "      <th>AMT_INCOME_TOTAL</th>\n",
              "      <th>AMT_CREDIT</th>\n",
              "      <th>AMT_ANNUITY</th>\n",
              "      <th>AMT_GOODS_PRICE</th>\n",
              "      <th>NAME_TYPE_SUITE</th>\n",
              "      <th>NAME_INCOME_TYPE</th>\n",
              "      <th>NAME_EDUCATION_TYPE</th>\n",
              "      <th>NAME_FAMILY_STATUS</th>\n",
              "      <th>NAME_HOUSING_TYPE</th>\n",
              "      <th>REGION_POPULATION_RELATIVE</th>\n",
              "      <th>DAYS_BIRTH</th>\n",
              "      <th>DAYS_EMPLOYED</th>\n",
              "      <th>DAYS_REGISTRATION</th>\n",
              "      <th>DAYS_ID_PUBLISH</th>\n",
              "      <th>OWN_CAR_AGE</th>\n",
              "      <th>FLAG_MOBIL</th>\n",
              "      <th>FLAG_EMP_PHONE</th>\n",
              "      <th>FLAG_WORK_PHONE</th>\n",
              "      <th>FLAG_CONT_MOBILE</th>\n",
              "      <th>FLAG_PHONE</th>\n",
              "      <th>FLAG_EMAIL</th>\n",
              "      <th>OCCUPATION_TYPE</th>\n",
              "      <th>CNT_FAM_MEMBERS</th>\n",
              "      <th>REGION_RATING_CLIENT</th>\n",
              "      <th>REGION_RATING_CLIENT_W_CITY</th>\n",
              "      <th>WEEKDAY_APPR_PROCESS_START</th>\n",
              "      <th>HOUR_APPR_PROCESS_START</th>\n",
              "      <th>REG_REGION_NOT_LIVE_REGION</th>\n",
              "      <th>REG_REGION_NOT_WORK_REGION</th>\n",
              "      <th>LIVE_REGION_NOT_WORK_REGION</th>\n",
              "      <th>REG_CITY_NOT_LIVE_CITY</th>\n",
              "      <th>REG_CITY_NOT_WORK_CITY</th>\n",
              "      <th>LIVE_CITY_NOT_WORK_CITY</th>\n",
              "      <th>...</th>\n",
              "      <th>LIVINGAPARTMENTS_MEDI</th>\n",
              "      <th>LIVINGAREA_MEDI</th>\n",
              "      <th>NONLIVINGAPARTMENTS_MEDI</th>\n",
              "      <th>NONLIVINGAREA_MEDI</th>\n",
              "      <th>FONDKAPREMONT_MODE</th>\n",
              "      <th>HOUSETYPE_MODE</th>\n",
              "      <th>TOTALAREA_MODE</th>\n",
              "      <th>WALLSMATERIAL_MODE</th>\n",
              "      <th>EMERGENCYSTATE_MODE</th>\n",
              "      <th>OBS_30_CNT_SOCIAL_CIRCLE</th>\n",
              "      <th>DEF_30_CNT_SOCIAL_CIRCLE</th>\n",
              "      <th>OBS_60_CNT_SOCIAL_CIRCLE</th>\n",
              "      <th>DEF_60_CNT_SOCIAL_CIRCLE</th>\n",
              "      <th>DAYS_LAST_PHONE_CHANGE</th>\n",
              "      <th>FLAG_DOCUMENT_2</th>\n",
              "      <th>FLAG_DOCUMENT_3</th>\n",
              "      <th>FLAG_DOCUMENT_4</th>\n",
              "      <th>FLAG_DOCUMENT_5</th>\n",
              "      <th>FLAG_DOCUMENT_6</th>\n",
              "      <th>FLAG_DOCUMENT_7</th>\n",
              "      <th>FLAG_DOCUMENT_8</th>\n",
              "      <th>FLAG_DOCUMENT_9</th>\n",
              "      <th>FLAG_DOCUMENT_10</th>\n",
              "      <th>FLAG_DOCUMENT_11</th>\n",
              "      <th>FLAG_DOCUMENT_12</th>\n",
              "      <th>FLAG_DOCUMENT_13</th>\n",
              "      <th>FLAG_DOCUMENT_14</th>\n",
              "      <th>FLAG_DOCUMENT_15</th>\n",
              "      <th>FLAG_DOCUMENT_16</th>\n",
              "      <th>FLAG_DOCUMENT_17</th>\n",
              "      <th>FLAG_DOCUMENT_18</th>\n",
              "      <th>FLAG_DOCUMENT_19</th>\n",
              "      <th>FLAG_DOCUMENT_20</th>\n",
              "      <th>FLAG_DOCUMENT_21</th>\n",
              "      <th>AMT_REQ_CREDIT_BUREAU_HOUR</th>\n",
              "      <th>AMT_REQ_CREDIT_BUREAU_DAY</th>\n",
              "      <th>AMT_REQ_CREDIT_BUREAU_WEEK</th>\n",
              "      <th>AMT_REQ_CREDIT_BUREAU_MON</th>\n",
              "      <th>AMT_REQ_CREDIT_BUREAU_QRT</th>\n",
              "      <th>AMT_REQ_CREDIT_BUREAU_YEAR</th>\n",
              "    </tr>\n",
              "  </thead>\n",
              "  <tbody>\n",
              "    <tr>\n",
              "      <th>0</th>\n",
              "      <td>100002</td>\n",
              "      <td>1</td>\n",
              "      <td>Cash loans</td>\n",
              "      <td>M</td>\n",
              "      <td>N</td>\n",
              "      <td>Y</td>\n",
              "      <td>0</td>\n",
              "      <td>202500.0</td>\n",
              "      <td>406597.5</td>\n",
              "      <td>24700.5</td>\n",
              "      <td>351000.0</td>\n",
              "      <td>Unaccompanied</td>\n",
              "      <td>Working</td>\n",
              "      <td>Secondary / secondary special</td>\n",
              "      <td>Single / not married</td>\n",
              "      <td>House / apartment</td>\n",
              "      <td>0.018801</td>\n",
              "      <td>-9461</td>\n",
              "      <td>-637</td>\n",
              "      <td>-3648.0</td>\n",
              "      <td>-2120</td>\n",
              "      <td>NaN</td>\n",
              "      <td>1</td>\n",
              "      <td>1</td>\n",
              "      <td>0</td>\n",
              "      <td>1</td>\n",
              "      <td>1</td>\n",
              "      <td>0</td>\n",
              "      <td>Laborers</td>\n",
              "      <td>1.0</td>\n",
              "      <td>2</td>\n",
              "      <td>2</td>\n",
              "      <td>WEDNESDAY</td>\n",
              "      <td>10</td>\n",
              "      <td>0</td>\n",
              "      <td>0</td>\n",
              "      <td>0</td>\n",
              "      <td>0</td>\n",
              "      <td>0</td>\n",
              "      <td>0</td>\n",
              "      <td>...</td>\n",
              "      <td>0.0205</td>\n",
              "      <td>0.0193</td>\n",
              "      <td>0.0000</td>\n",
              "      <td>0.00</td>\n",
              "      <td>reg oper account</td>\n",
              "      <td>block of flats</td>\n",
              "      <td>0.0149</td>\n",
              "      <td>Stone, brick</td>\n",
              "      <td>No</td>\n",
              "      <td>2.0</td>\n",
              "      <td>2.0</td>\n",
              "      <td>2.0</td>\n",
              "      <td>2.0</td>\n",
              "      <td>-1134.0</td>\n",
              "      <td>0</td>\n",
              "      <td>1</td>\n",
              "      <td>0</td>\n",
              "      <td>0</td>\n",
              "      <td>0</td>\n",
              "      <td>0</td>\n",
              "      <td>0</td>\n",
              "      <td>0</td>\n",
              "      <td>0</td>\n",
              "      <td>0</td>\n",
              "      <td>0</td>\n",
              "      <td>0</td>\n",
              "      <td>0</td>\n",
              "      <td>0</td>\n",
              "      <td>0</td>\n",
              "      <td>0</td>\n",
              "      <td>0</td>\n",
              "      <td>0</td>\n",
              "      <td>0</td>\n",
              "      <td>0</td>\n",
              "      <td>0.0</td>\n",
              "      <td>0.0</td>\n",
              "      <td>0.0</td>\n",
              "      <td>0.0</td>\n",
              "      <td>0.0</td>\n",
              "      <td>1.0</td>\n",
              "    </tr>\n",
              "    <tr>\n",
              "      <th>1</th>\n",
              "      <td>100003</td>\n",
              "      <td>0</td>\n",
              "      <td>Cash loans</td>\n",
              "      <td>F</td>\n",
              "      <td>N</td>\n",
              "      <td>N</td>\n",
              "      <td>0</td>\n",
              "      <td>270000.0</td>\n",
              "      <td>1293502.5</td>\n",
              "      <td>35698.5</td>\n",
              "      <td>1129500.0</td>\n",
              "      <td>Family</td>\n",
              "      <td>State servant</td>\n",
              "      <td>Higher education</td>\n",
              "      <td>Married</td>\n",
              "      <td>House / apartment</td>\n",
              "      <td>0.003541</td>\n",
              "      <td>-16765</td>\n",
              "      <td>-1188</td>\n",
              "      <td>-1186.0</td>\n",
              "      <td>-291</td>\n",
              "      <td>NaN</td>\n",
              "      <td>1</td>\n",
              "      <td>1</td>\n",
              "      <td>0</td>\n",
              "      <td>1</td>\n",
              "      <td>1</td>\n",
              "      <td>0</td>\n",
              "      <td>Core staff</td>\n",
              "      <td>2.0</td>\n",
              "      <td>1</td>\n",
              "      <td>1</td>\n",
              "      <td>MONDAY</td>\n",
              "      <td>11</td>\n",
              "      <td>0</td>\n",
              "      <td>0</td>\n",
              "      <td>0</td>\n",
              "      <td>0</td>\n",
              "      <td>0</td>\n",
              "      <td>0</td>\n",
              "      <td>...</td>\n",
              "      <td>0.0787</td>\n",
              "      <td>0.0558</td>\n",
              "      <td>0.0039</td>\n",
              "      <td>0.01</td>\n",
              "      <td>reg oper account</td>\n",
              "      <td>block of flats</td>\n",
              "      <td>0.0714</td>\n",
              "      <td>Block</td>\n",
              "      <td>No</td>\n",
              "      <td>1.0</td>\n",
              "      <td>0.0</td>\n",
              "      <td>1.0</td>\n",
              "      <td>0.0</td>\n",
              "      <td>-828.0</td>\n",
              "      <td>0</td>\n",
              "      <td>1</td>\n",
              "      <td>0</td>\n",
              "      <td>0</td>\n",
              "      <td>0</td>\n",
              "      <td>0</td>\n",
              "      <td>0</td>\n",
              "      <td>0</td>\n",
              "      <td>0</td>\n",
              "      <td>0</td>\n",
              "      <td>0</td>\n",
              "      <td>0</td>\n",
              "      <td>0</td>\n",
              "      <td>0</td>\n",
              "      <td>0</td>\n",
              "      <td>0</td>\n",
              "      <td>0</td>\n",
              "      <td>0</td>\n",
              "      <td>0</td>\n",
              "      <td>0</td>\n",
              "      <td>0.0</td>\n",
              "      <td>0.0</td>\n",
              "      <td>0.0</td>\n",
              "      <td>0.0</td>\n",
              "      <td>0.0</td>\n",
              "      <td>0.0</td>\n",
              "    </tr>\n",
              "    <tr>\n",
              "      <th>2</th>\n",
              "      <td>100004</td>\n",
              "      <td>0</td>\n",
              "      <td>Revolving loans</td>\n",
              "      <td>M</td>\n",
              "      <td>Y</td>\n",
              "      <td>Y</td>\n",
              "      <td>0</td>\n",
              "      <td>67500.0</td>\n",
              "      <td>135000.0</td>\n",
              "      <td>6750.0</td>\n",
              "      <td>135000.0</td>\n",
              "      <td>Unaccompanied</td>\n",
              "      <td>Working</td>\n",
              "      <td>Secondary / secondary special</td>\n",
              "      <td>Single / not married</td>\n",
              "      <td>House / apartment</td>\n",
              "      <td>0.010032</td>\n",
              "      <td>-19046</td>\n",
              "      <td>-225</td>\n",
              "      <td>-4260.0</td>\n",
              "      <td>-2531</td>\n",
              "      <td>26.0</td>\n",
              "      <td>1</td>\n",
              "      <td>1</td>\n",
              "      <td>1</td>\n",
              "      <td>1</td>\n",
              "      <td>1</td>\n",
              "      <td>0</td>\n",
              "      <td>Laborers</td>\n",
              "      <td>1.0</td>\n",
              "      <td>2</td>\n",
              "      <td>2</td>\n",
              "      <td>MONDAY</td>\n",
              "      <td>9</td>\n",
              "      <td>0</td>\n",
              "      <td>0</td>\n",
              "      <td>0</td>\n",
              "      <td>0</td>\n",
              "      <td>0</td>\n",
              "      <td>0</td>\n",
              "      <td>...</td>\n",
              "      <td>NaN</td>\n",
              "      <td>NaN</td>\n",
              "      <td>NaN</td>\n",
              "      <td>NaN</td>\n",
              "      <td>NaN</td>\n",
              "      <td>NaN</td>\n",
              "      <td>NaN</td>\n",
              "      <td>NaN</td>\n",
              "      <td>NaN</td>\n",
              "      <td>0.0</td>\n",
              "      <td>0.0</td>\n",
              "      <td>0.0</td>\n",
              "      <td>0.0</td>\n",
              "      <td>-815.0</td>\n",
              "      <td>0</td>\n",
              "      <td>0</td>\n",
              "      <td>0</td>\n",
              "      <td>0</td>\n",
              "      <td>0</td>\n",
              "      <td>0</td>\n",
              "      <td>0</td>\n",
              "      <td>0</td>\n",
              "      <td>0</td>\n",
              "      <td>0</td>\n",
              "      <td>0</td>\n",
              "      <td>0</td>\n",
              "      <td>0</td>\n",
              "      <td>0</td>\n",
              "      <td>0</td>\n",
              "      <td>0</td>\n",
              "      <td>0</td>\n",
              "      <td>0</td>\n",
              "      <td>0</td>\n",
              "      <td>0</td>\n",
              "      <td>0.0</td>\n",
              "      <td>0.0</td>\n",
              "      <td>0.0</td>\n",
              "      <td>0.0</td>\n",
              "      <td>0.0</td>\n",
              "      <td>0.0</td>\n",
              "    </tr>\n",
              "    <tr>\n",
              "      <th>3</th>\n",
              "      <td>100006</td>\n",
              "      <td>0</td>\n",
              "      <td>Cash loans</td>\n",
              "      <td>F</td>\n",
              "      <td>N</td>\n",
              "      <td>Y</td>\n",
              "      <td>0</td>\n",
              "      <td>135000.0</td>\n",
              "      <td>312682.5</td>\n",
              "      <td>29686.5</td>\n",
              "      <td>297000.0</td>\n",
              "      <td>Unaccompanied</td>\n",
              "      <td>Working</td>\n",
              "      <td>Secondary / secondary special</td>\n",
              "      <td>Civil marriage</td>\n",
              "      <td>House / apartment</td>\n",
              "      <td>0.008019</td>\n",
              "      <td>-19005</td>\n",
              "      <td>-3039</td>\n",
              "      <td>-9833.0</td>\n",
              "      <td>-2437</td>\n",
              "      <td>NaN</td>\n",
              "      <td>1</td>\n",
              "      <td>1</td>\n",
              "      <td>0</td>\n",
              "      <td>1</td>\n",
              "      <td>0</td>\n",
              "      <td>0</td>\n",
              "      <td>Laborers</td>\n",
              "      <td>2.0</td>\n",
              "      <td>2</td>\n",
              "      <td>2</td>\n",
              "      <td>WEDNESDAY</td>\n",
              "      <td>17</td>\n",
              "      <td>0</td>\n",
              "      <td>0</td>\n",
              "      <td>0</td>\n",
              "      <td>0</td>\n",
              "      <td>0</td>\n",
              "      <td>0</td>\n",
              "      <td>...</td>\n",
              "      <td>NaN</td>\n",
              "      <td>NaN</td>\n",
              "      <td>NaN</td>\n",
              "      <td>NaN</td>\n",
              "      <td>NaN</td>\n",
              "      <td>NaN</td>\n",
              "      <td>NaN</td>\n",
              "      <td>NaN</td>\n",
              "      <td>NaN</td>\n",
              "      <td>2.0</td>\n",
              "      <td>0.0</td>\n",
              "      <td>2.0</td>\n",
              "      <td>0.0</td>\n",
              "      <td>-617.0</td>\n",
              "      <td>0</td>\n",
              "      <td>1</td>\n",
              "      <td>0</td>\n",
              "      <td>0</td>\n",
              "      <td>0</td>\n",
              "      <td>0</td>\n",
              "      <td>0</td>\n",
              "      <td>0</td>\n",
              "      <td>0</td>\n",
              "      <td>0</td>\n",
              "      <td>0</td>\n",
              "      <td>0</td>\n",
              "      <td>0</td>\n",
              "      <td>0</td>\n",
              "      <td>0</td>\n",
              "      <td>0</td>\n",
              "      <td>0</td>\n",
              "      <td>0</td>\n",
              "      <td>0</td>\n",
              "      <td>0</td>\n",
              "      <td>NaN</td>\n",
              "      <td>NaN</td>\n",
              "      <td>NaN</td>\n",
              "      <td>NaN</td>\n",
              "      <td>NaN</td>\n",
              "      <td>NaN</td>\n",
              "    </tr>\n",
              "    <tr>\n",
              "      <th>4</th>\n",
              "      <td>100007</td>\n",
              "      <td>0</td>\n",
              "      <td>Cash loans</td>\n",
              "      <td>M</td>\n",
              "      <td>N</td>\n",
              "      <td>Y</td>\n",
              "      <td>0</td>\n",
              "      <td>121500.0</td>\n",
              "      <td>513000.0</td>\n",
              "      <td>21865.5</td>\n",
              "      <td>513000.0</td>\n",
              "      <td>Unaccompanied</td>\n",
              "      <td>Working</td>\n",
              "      <td>Secondary / secondary special</td>\n",
              "      <td>Single / not married</td>\n",
              "      <td>House / apartment</td>\n",
              "      <td>0.028663</td>\n",
              "      <td>-19932</td>\n",
              "      <td>-3038</td>\n",
              "      <td>-4311.0</td>\n",
              "      <td>-3458</td>\n",
              "      <td>NaN</td>\n",
              "      <td>1</td>\n",
              "      <td>1</td>\n",
              "      <td>0</td>\n",
              "      <td>1</td>\n",
              "      <td>0</td>\n",
              "      <td>0</td>\n",
              "      <td>Core staff</td>\n",
              "      <td>1.0</td>\n",
              "      <td>2</td>\n",
              "      <td>2</td>\n",
              "      <td>THURSDAY</td>\n",
              "      <td>11</td>\n",
              "      <td>0</td>\n",
              "      <td>0</td>\n",
              "      <td>0</td>\n",
              "      <td>0</td>\n",
              "      <td>1</td>\n",
              "      <td>1</td>\n",
              "      <td>...</td>\n",
              "      <td>NaN</td>\n",
              "      <td>NaN</td>\n",
              "      <td>NaN</td>\n",
              "      <td>NaN</td>\n",
              "      <td>NaN</td>\n",
              "      <td>NaN</td>\n",
              "      <td>NaN</td>\n",
              "      <td>NaN</td>\n",
              "      <td>NaN</td>\n",
              "      <td>0.0</td>\n",
              "      <td>0.0</td>\n",
              "      <td>0.0</td>\n",
              "      <td>0.0</td>\n",
              "      <td>-1106.0</td>\n",
              "      <td>0</td>\n",
              "      <td>0</td>\n",
              "      <td>0</td>\n",
              "      <td>0</td>\n",
              "      <td>0</td>\n",
              "      <td>0</td>\n",
              "      <td>1</td>\n",
              "      <td>0</td>\n",
              "      <td>0</td>\n",
              "      <td>0</td>\n",
              "      <td>0</td>\n",
              "      <td>0</td>\n",
              "      <td>0</td>\n",
              "      <td>0</td>\n",
              "      <td>0</td>\n",
              "      <td>0</td>\n",
              "      <td>0</td>\n",
              "      <td>0</td>\n",
              "      <td>0</td>\n",
              "      <td>0</td>\n",
              "      <td>0.0</td>\n",
              "      <td>0.0</td>\n",
              "      <td>0.0</td>\n",
              "      <td>0.0</td>\n",
              "      <td>0.0</td>\n",
              "      <td>0.0</td>\n",
              "    </tr>\n",
              "  </tbody>\n",
              "</table>\n",
              "<p>5 rows × 122 columns</p>\n",
              "</div>"
            ],
            "text/plain": [
              "   SK_ID_CURR  TARGET  ... AMT_REQ_CREDIT_BUREAU_QRT AMT_REQ_CREDIT_BUREAU_YEAR\n",
              "0      100002       1  ...                       0.0                        1.0\n",
              "1      100003       0  ...                       0.0                        0.0\n",
              "2      100004       0  ...                       0.0                        0.0\n",
              "3      100006       0  ...                       NaN                        NaN\n",
              "4      100007       0  ...                       0.0                        0.0\n",
              "\n",
              "[5 rows x 122 columns]"
            ]
          },
          "metadata": {
            "tags": []
          },
          "execution_count": 183
        }
      ]
    },
    {
      "cell_type": "markdown",
      "metadata": {
        "id": "KZVxsf0YbPbs",
        "colab_type": "text"
      },
      "source": [
        "**Exploratory Data Analysis and Data Cleaning**"
      ]
    },
    {
      "cell_type": "code",
      "metadata": {
        "id": "shqCbyckKA58",
        "colab_type": "code",
        "outputId": "978d0c85-890c-4df4-ffa2-9c14d3c0c22d",
        "colab": {
          "base_uri": "https://localhost:8080/",
          "height": 67
        }
      },
      "source": [
        "# Imbalanced Class Data - About 8% of the train set are observations that defaulted on their loans\n",
        "train.TARGET.value_counts()"
      ],
      "execution_count": 0,
      "outputs": [
        {
          "output_type": "execute_result",
          "data": {
            "text/plain": [
              "0    282686\n",
              "1     24825\n",
              "Name: TARGET, dtype: int64"
            ]
          },
          "metadata": {
            "tags": []
          },
          "execution_count": 184
        }
      ]
    },
    {
      "cell_type": "code",
      "metadata": {
        "id": "H5rEio6IcbsZ",
        "colab_type": "code",
        "outputId": "a2b8d18c-93bd-45da-8b0f-a3d18efe1516",
        "colab": {
          "base_uri": "https://localhost:8080/",
          "height": 84
        }
      },
      "source": [
        "# checking data types\n",
        "train.dtypes.value_counts()"
      ],
      "execution_count": 0,
      "outputs": [
        {
          "output_type": "execute_result",
          "data": {
            "text/plain": [
              "float64    65\n",
              "int64      41\n",
              "object     16\n",
              "dtype: int64"
            ]
          },
          "metadata": {
            "tags": []
          },
          "execution_count": 185
        }
      ]
    },
    {
      "cell_type": "code",
      "metadata": {
        "id": "1EdMUpsmSTCi",
        "colab_type": "code",
        "outputId": "c8dee159-d690-47d0-fb1b-d98f196728f9",
        "colab": {
          "base_uri": "https://localhost:8080/",
          "height": 1000
        }
      },
      "source": [
        "train.dtypes"
      ],
      "execution_count": 0,
      "outputs": [
        {
          "output_type": "execute_result",
          "data": {
            "text/plain": [
              "SK_ID_CURR                      int64\n",
              "TARGET                          int64\n",
              "NAME_CONTRACT_TYPE             object\n",
              "CODE_GENDER                    object\n",
              "FLAG_OWN_CAR                   object\n",
              "FLAG_OWN_REALTY                object\n",
              "CNT_CHILDREN                    int64\n",
              "AMT_INCOME_TOTAL              float64\n",
              "AMT_CREDIT                    float64\n",
              "AMT_ANNUITY                   float64\n",
              "AMT_GOODS_PRICE               float64\n",
              "NAME_TYPE_SUITE                object\n",
              "NAME_INCOME_TYPE               object\n",
              "NAME_EDUCATION_TYPE            object\n",
              "NAME_FAMILY_STATUS             object\n",
              "NAME_HOUSING_TYPE              object\n",
              "REGION_POPULATION_RELATIVE    float64\n",
              "DAYS_BIRTH                      int64\n",
              "DAYS_EMPLOYED                   int64\n",
              "DAYS_REGISTRATION             float64\n",
              "DAYS_ID_PUBLISH                 int64\n",
              "OWN_CAR_AGE                   float64\n",
              "FLAG_MOBIL                      int64\n",
              "FLAG_EMP_PHONE                  int64\n",
              "FLAG_WORK_PHONE                 int64\n",
              "FLAG_CONT_MOBILE                int64\n",
              "FLAG_PHONE                      int64\n",
              "FLAG_EMAIL                      int64\n",
              "OCCUPATION_TYPE                object\n",
              "CNT_FAM_MEMBERS               float64\n",
              "                               ...   \n",
              "DEF_30_CNT_SOCIAL_CIRCLE      float64\n",
              "OBS_60_CNT_SOCIAL_CIRCLE      float64\n",
              "DEF_60_CNT_SOCIAL_CIRCLE      float64\n",
              "DAYS_LAST_PHONE_CHANGE        float64\n",
              "FLAG_DOCUMENT_2                 int64\n",
              "FLAG_DOCUMENT_3                 int64\n",
              "FLAG_DOCUMENT_4                 int64\n",
              "FLAG_DOCUMENT_5                 int64\n",
              "FLAG_DOCUMENT_6                 int64\n",
              "FLAG_DOCUMENT_7                 int64\n",
              "FLAG_DOCUMENT_8                 int64\n",
              "FLAG_DOCUMENT_9                 int64\n",
              "FLAG_DOCUMENT_10                int64\n",
              "FLAG_DOCUMENT_11                int64\n",
              "FLAG_DOCUMENT_12                int64\n",
              "FLAG_DOCUMENT_13                int64\n",
              "FLAG_DOCUMENT_14                int64\n",
              "FLAG_DOCUMENT_15                int64\n",
              "FLAG_DOCUMENT_16                int64\n",
              "FLAG_DOCUMENT_17                int64\n",
              "FLAG_DOCUMENT_18                int64\n",
              "FLAG_DOCUMENT_19                int64\n",
              "FLAG_DOCUMENT_20                int64\n",
              "FLAG_DOCUMENT_21                int64\n",
              "AMT_REQ_CREDIT_BUREAU_HOUR    float64\n",
              "AMT_REQ_CREDIT_BUREAU_DAY     float64\n",
              "AMT_REQ_CREDIT_BUREAU_WEEK    float64\n",
              "AMT_REQ_CREDIT_BUREAU_MON     float64\n",
              "AMT_REQ_CREDIT_BUREAU_QRT     float64\n",
              "AMT_REQ_CREDIT_BUREAU_YEAR    float64\n",
              "Length: 122, dtype: object"
            ]
          },
          "metadata": {
            "tags": []
          },
          "execution_count": 186
        }
      ]
    },
    {
      "cell_type": "code",
      "metadata": {
        "id": "EIAIqsemI1YB",
        "colab_type": "code",
        "colab": {}
      },
      "source": [
        "# merging train and test\n",
        "#Creating a new column 'Train_YN' to differentiate between train and test after merging\n",
        "train['Train_YN'] = 1\n",
        "test['Train_YN'] = 0\n",
        "test['TARGET'] = -999 #Setting a dummy value of -999 for 'Target' volumn in test dataset"
      ],
      "execution_count": 0,
      "outputs": []
    },
    {
      "cell_type": "code",
      "metadata": {
        "id": "o4lDTjx_rvPD",
        "colab_type": "code",
        "outputId": "bd48f557-23fb-49c1-de4d-01d96a1ac7f4",
        "colab": {
          "base_uri": "https://localhost:8080/",
          "height": 34
        }
      },
      "source": [
        "train.shape, test.shape"
      ],
      "execution_count": 0,
      "outputs": [
        {
          "output_type": "execute_result",
          "data": {
            "text/plain": [
              "((307511, 123), (48744, 123))"
            ]
          },
          "metadata": {
            "tags": []
          },
          "execution_count": 188
        }
      ]
    },
    {
      "cell_type": "code",
      "metadata": {
        "id": "RB0xpBi9LeLJ",
        "colab_type": "code",
        "outputId": "56de76ac-45b6-43f5-ad1b-93c0a042e944",
        "colab": {
          "base_uri": "https://localhost:8080/",
          "height": 151
        }
      },
      "source": [
        "train_test_merged = pd.concat([train,test])"
      ],
      "execution_count": 0,
      "outputs": [
        {
          "output_type": "stream",
          "text": [
            "/usr/local/lib/python3.6/dist-packages/ipykernel_launcher.py:1: FutureWarning: Sorting because non-concatenation axis is not aligned. A future version\n",
            "of pandas will change to not sort by default.\n",
            "\n",
            "To accept the future behavior, pass 'sort=False'.\n",
            "\n",
            "To retain the current behavior and silence the warning, pass 'sort=True'.\n",
            "\n",
            "  \"\"\"Entry point for launching an IPython kernel.\n"
          ],
          "name": "stderr"
        }
      ]
    },
    {
      "cell_type": "code",
      "metadata": {
        "id": "qxyMmdc2qaM-",
        "colab_type": "code",
        "colab": {}
      },
      "source": [
        "train_test_merged = train_test_merged.reset_index()"
      ],
      "execution_count": 0,
      "outputs": []
    },
    {
      "cell_type": "code",
      "metadata": {
        "id": "NtoST6F1qjIV",
        "colab_type": "code",
        "colab": {}
      },
      "source": [
        "train_test_merged.drop(columns = ['index'], inplace = True)"
      ],
      "execution_count": 0,
      "outputs": []
    },
    {
      "cell_type": "code",
      "metadata": {
        "id": "kDKC59vbMBOo",
        "colab_type": "code",
        "outputId": "4617d64a-9f39-402e-eb87-9dd7bcc3c43e",
        "colab": {
          "base_uri": "https://localhost:8080/",
          "height": 84
        }
      },
      "source": [
        "train_test_merged['TARGET'].value_counts()"
      ],
      "execution_count": 0,
      "outputs": [
        {
          "output_type": "execute_result",
          "data": {
            "text/plain": [
              " 0      282686\n",
              "-999     48744\n",
              " 1       24825\n",
              "Name: TARGET, dtype: int64"
            ]
          },
          "metadata": {
            "tags": []
          },
          "execution_count": 192
        }
      ]
    },
    {
      "cell_type": "code",
      "metadata": {
        "id": "tJleZFd1dAhv",
        "colab_type": "code",
        "colab": {}
      },
      "source": [
        "# pd.get_dummies(train_test_merged['EMERGENCYSTATE_MODE'])\n",
        "# train_test_merged.select_dtypes('object').apply(pd.Series.nunique, axis = 0)"
      ],
      "execution_count": 0,
      "outputs": []
    },
    {
      "cell_type": "code",
      "metadata": {
        "id": "c4a_lSDfOMbM",
        "colab_type": "code",
        "outputId": "6e2789b8-a75c-460e-ceec-f3c31c7da2a0",
        "colab": {
          "base_uri": "https://localhost:8080/",
          "height": 96
        }
      },
      "source": [
        "# emptying train\n",
        "train.drop(train.index, inplace=True)\n",
        "train"
      ],
      "execution_count": 0,
      "outputs": [
        {
          "output_type": "execute_result",
          "data": {
            "text/html": [
              "<div>\n",
              "<style scoped>\n",
              "    .dataframe tbody tr th:only-of-type {\n",
              "        vertical-align: middle;\n",
              "    }\n",
              "\n",
              "    .dataframe tbody tr th {\n",
              "        vertical-align: top;\n",
              "    }\n",
              "\n",
              "    .dataframe thead th {\n",
              "        text-align: right;\n",
              "    }\n",
              "</style>\n",
              "<table border=\"1\" class=\"dataframe\">\n",
              "  <thead>\n",
              "    <tr style=\"text-align: right;\">\n",
              "      <th></th>\n",
              "      <th>SK_ID_CURR</th>\n",
              "      <th>TARGET</th>\n",
              "      <th>NAME_CONTRACT_TYPE</th>\n",
              "      <th>CODE_GENDER</th>\n",
              "      <th>FLAG_OWN_CAR</th>\n",
              "      <th>FLAG_OWN_REALTY</th>\n",
              "      <th>CNT_CHILDREN</th>\n",
              "      <th>AMT_INCOME_TOTAL</th>\n",
              "      <th>AMT_CREDIT</th>\n",
              "      <th>AMT_ANNUITY</th>\n",
              "      <th>AMT_GOODS_PRICE</th>\n",
              "      <th>NAME_TYPE_SUITE</th>\n",
              "      <th>NAME_INCOME_TYPE</th>\n",
              "      <th>NAME_EDUCATION_TYPE</th>\n",
              "      <th>NAME_FAMILY_STATUS</th>\n",
              "      <th>NAME_HOUSING_TYPE</th>\n",
              "      <th>REGION_POPULATION_RELATIVE</th>\n",
              "      <th>DAYS_BIRTH</th>\n",
              "      <th>DAYS_EMPLOYED</th>\n",
              "      <th>DAYS_REGISTRATION</th>\n",
              "      <th>DAYS_ID_PUBLISH</th>\n",
              "      <th>OWN_CAR_AGE</th>\n",
              "      <th>FLAG_MOBIL</th>\n",
              "      <th>FLAG_EMP_PHONE</th>\n",
              "      <th>FLAG_WORK_PHONE</th>\n",
              "      <th>FLAG_CONT_MOBILE</th>\n",
              "      <th>FLAG_PHONE</th>\n",
              "      <th>FLAG_EMAIL</th>\n",
              "      <th>OCCUPATION_TYPE</th>\n",
              "      <th>CNT_FAM_MEMBERS</th>\n",
              "      <th>REGION_RATING_CLIENT</th>\n",
              "      <th>REGION_RATING_CLIENT_W_CITY</th>\n",
              "      <th>WEEKDAY_APPR_PROCESS_START</th>\n",
              "      <th>HOUR_APPR_PROCESS_START</th>\n",
              "      <th>REG_REGION_NOT_LIVE_REGION</th>\n",
              "      <th>REG_REGION_NOT_WORK_REGION</th>\n",
              "      <th>LIVE_REGION_NOT_WORK_REGION</th>\n",
              "      <th>REG_CITY_NOT_LIVE_CITY</th>\n",
              "      <th>REG_CITY_NOT_WORK_CITY</th>\n",
              "      <th>LIVE_CITY_NOT_WORK_CITY</th>\n",
              "      <th>...</th>\n",
              "      <th>LIVINGAREA_MEDI</th>\n",
              "      <th>NONLIVINGAPARTMENTS_MEDI</th>\n",
              "      <th>NONLIVINGAREA_MEDI</th>\n",
              "      <th>FONDKAPREMONT_MODE</th>\n",
              "      <th>HOUSETYPE_MODE</th>\n",
              "      <th>TOTALAREA_MODE</th>\n",
              "      <th>WALLSMATERIAL_MODE</th>\n",
              "      <th>EMERGENCYSTATE_MODE</th>\n",
              "      <th>OBS_30_CNT_SOCIAL_CIRCLE</th>\n",
              "      <th>DEF_30_CNT_SOCIAL_CIRCLE</th>\n",
              "      <th>OBS_60_CNT_SOCIAL_CIRCLE</th>\n",
              "      <th>DEF_60_CNT_SOCIAL_CIRCLE</th>\n",
              "      <th>DAYS_LAST_PHONE_CHANGE</th>\n",
              "      <th>FLAG_DOCUMENT_2</th>\n",
              "      <th>FLAG_DOCUMENT_3</th>\n",
              "      <th>FLAG_DOCUMENT_4</th>\n",
              "      <th>FLAG_DOCUMENT_5</th>\n",
              "      <th>FLAG_DOCUMENT_6</th>\n",
              "      <th>FLAG_DOCUMENT_7</th>\n",
              "      <th>FLAG_DOCUMENT_8</th>\n",
              "      <th>FLAG_DOCUMENT_9</th>\n",
              "      <th>FLAG_DOCUMENT_10</th>\n",
              "      <th>FLAG_DOCUMENT_11</th>\n",
              "      <th>FLAG_DOCUMENT_12</th>\n",
              "      <th>FLAG_DOCUMENT_13</th>\n",
              "      <th>FLAG_DOCUMENT_14</th>\n",
              "      <th>FLAG_DOCUMENT_15</th>\n",
              "      <th>FLAG_DOCUMENT_16</th>\n",
              "      <th>FLAG_DOCUMENT_17</th>\n",
              "      <th>FLAG_DOCUMENT_18</th>\n",
              "      <th>FLAG_DOCUMENT_19</th>\n",
              "      <th>FLAG_DOCUMENT_20</th>\n",
              "      <th>FLAG_DOCUMENT_21</th>\n",
              "      <th>AMT_REQ_CREDIT_BUREAU_HOUR</th>\n",
              "      <th>AMT_REQ_CREDIT_BUREAU_DAY</th>\n",
              "      <th>AMT_REQ_CREDIT_BUREAU_WEEK</th>\n",
              "      <th>AMT_REQ_CREDIT_BUREAU_MON</th>\n",
              "      <th>AMT_REQ_CREDIT_BUREAU_QRT</th>\n",
              "      <th>AMT_REQ_CREDIT_BUREAU_YEAR</th>\n",
              "      <th>Train_YN</th>\n",
              "    </tr>\n",
              "  </thead>\n",
              "  <tbody>\n",
              "  </tbody>\n",
              "</table>\n",
              "<p>0 rows × 123 columns</p>\n",
              "</div>"
            ],
            "text/plain": [
              "Empty DataFrame\n",
              "Columns: [SK_ID_CURR, TARGET, NAME_CONTRACT_TYPE, CODE_GENDER, FLAG_OWN_CAR, FLAG_OWN_REALTY, CNT_CHILDREN, AMT_INCOME_TOTAL, AMT_CREDIT, AMT_ANNUITY, AMT_GOODS_PRICE, NAME_TYPE_SUITE, NAME_INCOME_TYPE, NAME_EDUCATION_TYPE, NAME_FAMILY_STATUS, NAME_HOUSING_TYPE, REGION_POPULATION_RELATIVE, DAYS_BIRTH, DAYS_EMPLOYED, DAYS_REGISTRATION, DAYS_ID_PUBLISH, OWN_CAR_AGE, FLAG_MOBIL, FLAG_EMP_PHONE, FLAG_WORK_PHONE, FLAG_CONT_MOBILE, FLAG_PHONE, FLAG_EMAIL, OCCUPATION_TYPE, CNT_FAM_MEMBERS, REGION_RATING_CLIENT, REGION_RATING_CLIENT_W_CITY, WEEKDAY_APPR_PROCESS_START, HOUR_APPR_PROCESS_START, REG_REGION_NOT_LIVE_REGION, REG_REGION_NOT_WORK_REGION, LIVE_REGION_NOT_WORK_REGION, REG_CITY_NOT_LIVE_CITY, REG_CITY_NOT_WORK_CITY, LIVE_CITY_NOT_WORK_CITY, ORGANIZATION_TYPE, EXT_SOURCE_1, EXT_SOURCE_2, EXT_SOURCE_3, APARTMENTS_AVG, BASEMENTAREA_AVG, YEARS_BEGINEXPLUATATION_AVG, YEARS_BUILD_AVG, COMMONAREA_AVG, ELEVATORS_AVG, ENTRANCES_AVG, FLOORSMAX_AVG, FLOORSMIN_AVG, LANDAREA_AVG, LIVINGAPARTMENTS_AVG, LIVINGAREA_AVG, NONLIVINGAPARTMENTS_AVG, NONLIVINGAREA_AVG, APARTMENTS_MODE, BASEMENTAREA_MODE, YEARS_BEGINEXPLUATATION_MODE, YEARS_BUILD_MODE, COMMONAREA_MODE, ELEVATORS_MODE, ENTRANCES_MODE, FLOORSMAX_MODE, FLOORSMIN_MODE, LANDAREA_MODE, LIVINGAPARTMENTS_MODE, LIVINGAREA_MODE, NONLIVINGAPARTMENTS_MODE, NONLIVINGAREA_MODE, APARTMENTS_MEDI, BASEMENTAREA_MEDI, YEARS_BEGINEXPLUATATION_MEDI, YEARS_BUILD_MEDI, COMMONAREA_MEDI, ELEVATORS_MEDI, ENTRANCES_MEDI, FLOORSMAX_MEDI, FLOORSMIN_MEDI, LANDAREA_MEDI, LIVINGAPARTMENTS_MEDI, LIVINGAREA_MEDI, NONLIVINGAPARTMENTS_MEDI, NONLIVINGAREA_MEDI, FONDKAPREMONT_MODE, HOUSETYPE_MODE, TOTALAREA_MODE, WALLSMATERIAL_MODE, EMERGENCYSTATE_MODE, OBS_30_CNT_SOCIAL_CIRCLE, DEF_30_CNT_SOCIAL_CIRCLE, OBS_60_CNT_SOCIAL_CIRCLE, DEF_60_CNT_SOCIAL_CIRCLE, DAYS_LAST_PHONE_CHANGE, FLAG_DOCUMENT_2, FLAG_DOCUMENT_3, FLAG_DOCUMENT_4, FLAG_DOCUMENT_5, ...]\n",
              "Index: []\n",
              "\n",
              "[0 rows x 123 columns]"
            ]
          },
          "metadata": {
            "tags": []
          },
          "execution_count": 194
        }
      ]
    },
    {
      "cell_type": "markdown",
      "metadata": {
        "id": "v3gsGbgJMzji",
        "colab_type": "text"
      },
      "source": [
        "We will do the data cleaning on merged dataset and split it later"
      ]
    },
    {
      "cell_type": "code",
      "metadata": {
        "id": "KR4WP-jXTIib",
        "colab_type": "code",
        "outputId": "ea516afc-d631-42ba-f676-3ef747096bdd",
        "colab": {
          "base_uri": "https://localhost:8080/",
          "height": 1000
        }
      },
      "source": [
        "# A lot of variables seem to have 2/3rd null values, we will drop the columns with more than 2/3rd (200k) null records - they look redundant\n",
        "train_test_merged.isnull().sum().sort_values(ascending = False)"
      ],
      "execution_count": 0,
      "outputs": [
        {
          "output_type": "execute_result",
          "data": {
            "text/plain": [
              "COMMONAREA_AVG                 248360\n",
              "COMMONAREA_MODE                248360\n",
              "COMMONAREA_MEDI                248360\n",
              "NONLIVINGAPARTMENTS_MODE       246861\n",
              "NONLIVINGAPARTMENTS_AVG        246861\n",
              "NONLIVINGAPARTMENTS_MEDI       246861\n",
              "FONDKAPREMONT_MODE             243092\n",
              "LIVINGAPARTMENTS_AVG           242979\n",
              "LIVINGAPARTMENTS_MEDI          242979\n",
              "LIVINGAPARTMENTS_MODE          242979\n",
              "FLOORSMIN_AVG                  241108\n",
              "FLOORSMIN_MEDI                 241108\n",
              "FLOORSMIN_MODE                 241108\n",
              "YEARS_BUILD_MEDI               236306\n",
              "YEARS_BUILD_MODE               236306\n",
              "YEARS_BUILD_AVG                236306\n",
              "OWN_CAR_AGE                    235241\n",
              "LANDAREA_AVG                   210844\n",
              "LANDAREA_MEDI                  210844\n",
              "LANDAREA_MODE                  210844\n",
              "BASEMENTAREA_MODE              207584\n",
              "BASEMENTAREA_MEDI              207584\n",
              "BASEMENTAREA_AVG               207584\n",
              "NONLIVINGAREA_MODE             195766\n",
              "NONLIVINGAREA_MEDI             195766\n",
              "NONLIVINGAREA_AVG              195766\n",
              "EXT_SOURCE_1                   193910\n",
              "ELEVATORS_AVG                  189080\n",
              "ELEVATORS_MODE                 189080\n",
              "ELEVATORS_MEDI                 189080\n",
              "                                ...  \n",
              "NAME_CONTRACT_TYPE                  0\n",
              "LIVE_REGION_NOT_WORK_REGION         0\n",
              "LIVE_CITY_NOT_WORK_CITY             0\n",
              "HOUR_APPR_PROCESS_START             0\n",
              "FLAG_DOCUMENT_5                     0\n",
              "FLAG_DOCUMENT_4                     0\n",
              "FLAG_DOCUMENT_3                     0\n",
              "FLAG_DOCUMENT_21                    0\n",
              "FLAG_DOCUMENT_20                    0\n",
              "FLAG_DOCUMENT_2                     0\n",
              "FLAG_DOCUMENT_19                    0\n",
              "FLAG_DOCUMENT_18                    0\n",
              "FLAG_DOCUMENT_17                    0\n",
              "FLAG_DOCUMENT_16                    0\n",
              "FLAG_DOCUMENT_15                    0\n",
              "FLAG_DOCUMENT_14                    0\n",
              "FLAG_DOCUMENT_13                    0\n",
              "FLAG_DOCUMENT_12                    0\n",
              "FLAG_DOCUMENT_11                    0\n",
              "FLAG_DOCUMENT_10                    0\n",
              "FLAG_CONT_MOBILE                    0\n",
              "FLAG_DOCUMENT_8                     0\n",
              "FLAG_DOCUMENT_9                     0\n",
              "FLAG_EMAIL                          0\n",
              "FLAG_MOBIL                          0\n",
              "FLAG_OWN_CAR                        0\n",
              "FLAG_OWN_REALTY                     0\n",
              "FLAG_PHONE                          0\n",
              "FLAG_WORK_PHONE                     0\n",
              "FLAG_EMP_PHONE                      0\n",
              "Length: 123, dtype: int64"
            ]
          },
          "metadata": {
            "tags": []
          },
          "execution_count": 195
        }
      ]
    },
    {
      "cell_type": "code",
      "metadata": {
        "id": "tpeLDaVNIyYJ",
        "colab_type": "code",
        "colab": {}
      },
      "source": [
        "# 23 variables dropped\n",
        "train_test_merged.drop(columns = train_test_merged.columns[train_test_merged.isnull().sum() > 195766], inplace = True)"
      ],
      "execution_count": 0,
      "outputs": []
    },
    {
      "cell_type": "code",
      "metadata": {
        "id": "YM1kPnfJNiku",
        "colab_type": "code",
        "outputId": "2b050b67-9c90-4775-9738-23d0ceca211d",
        "colab": {
          "base_uri": "https://localhost:8080/",
          "height": 34
        }
      },
      "source": [
        "train_test_merged.shape"
      ],
      "execution_count": 0,
      "outputs": [
        {
          "output_type": "execute_result",
          "data": {
            "text/plain": [
              "(356255, 100)"
            ]
          },
          "metadata": {
            "tags": []
          },
          "execution_count": 197
        }
      ]
    },
    {
      "cell_type": "markdown",
      "metadata": {
        "id": "Ps_XoGRDNssl",
        "colab_type": "text"
      },
      "source": [
        "Let's try to see the patterns in missing fields"
      ]
    },
    {
      "cell_type": "code",
      "metadata": {
        "id": "9pjJmpQ1WV6P",
        "colab_type": "code",
        "outputId": "775a9adc-b6c9-4895-a00e-7c7a38a710a2",
        "colab": {
          "base_uri": "https://localhost:8080/",
          "height": 168
        }
      },
      "source": [
        "# Checking the days_employed predictor\n",
        "train_test_merged['DAYS_EMPLOYED'].describe()"
      ],
      "execution_count": 0,
      "outputs": [
        {
          "output_type": "execute_result",
          "data": {
            "text/plain": [
              "count    356255.000000\n",
              "mean      64317.231413\n",
              "std      141705.532576\n",
              "min      -17912.000000\n",
              "25%       -2781.000000\n",
              "50%       -1224.000000\n",
              "75%        -290.000000\n",
              "max      365243.000000\n",
              "Name: DAYS_EMPLOYED, dtype: float64"
            ]
          },
          "metadata": {
            "tags": []
          },
          "execution_count": 198
        }
      ]
    },
    {
      "cell_type": "code",
      "metadata": {
        "id": "AQElZE3mWX6k",
        "colab_type": "code",
        "colab": {}
      },
      "source": [
        "# 307511 days is more than 1000 years, replacing it with nulls\n",
        "train_test_merged['DAYS_EMPLOYED'].replace({365243:np.nan},inplace=True)"
      ],
      "execution_count": 0,
      "outputs": []
    },
    {
      "cell_type": "code",
      "metadata": {
        "id": "seejTca4WbYx",
        "colab_type": "code",
        "outputId": "45c1086b-182f-4c55-aa3a-4e819ecf41a1",
        "colab": {
          "base_uri": "https://localhost:8080/",
          "height": 295
        }
      },
      "source": [
        "#Checking the distribution of days of employment\n",
        "train_test_merged['DAYS_EMPLOYED'].plot.hist(title = 'Days Employment Histogram');\n",
        "plt.xlabel('Days Employment');"
      ],
      "execution_count": 0,
      "outputs": [
        {
          "output_type": "display_data",
          "data": {
            "image/png": "[encoded data removed]",
            "text/plain": [
              "<Figure size 432x288 with 1 Axes>"
            ]
          },
          "metadata": {
            "tags": []
          }
        }
      ]
    },
    {
      "cell_type": "code",
      "metadata": {
        "id": "p0_tBa03Wek5",
        "colab_type": "code",
        "colab": {}
      },
      "source": [
        "# data is skewed, replacing the nulls with the median\n",
        "train_test_merged['DAYS_EMPLOYED']=train_test_merged['DAYS_EMPLOYED'].fillna(train_test_merged['DAYS_EMPLOYED'].median())"
      ],
      "execution_count": 0,
      "outputs": []
    },
    {
      "cell_type": "code",
      "metadata": {
        "id": "XGCsHm8vY_Iw",
        "colab_type": "code",
        "outputId": "e036739f-d109-4bcc-db6d-9b9fc2d6d08e",
        "colab": {
          "base_uri": "https://localhost:8080/",
          "height": 284
        }
      },
      "source": [
        "# Checking impact of gender on target variable\n",
        "((train_test_merged[train_test_merged['CODE_GENDER']!='XNA']['CODE_GENDER'].value_counts())/len(train_test_merged)).plot(kind='bar')"
      ],
      "execution_count": 0,
      "outputs": [
        {
          "output_type": "execute_result",
          "data": {
            "text/plain": [
              "<matplotlib.axes._subplots.AxesSubplot at 0x7f29ada50dd8>"
            ]
          },
          "metadata": {
            "tags": []
          },
          "execution_count": 202
        },
        {
          "output_type": "display_data",
          "data": {
            "image/png": "[encoded data removed]",
            "text/plain": [
              "<Figure size 432x288 with 1 Axes>"
            ]
          },
          "metadata": {
            "tags": []
          }
        }
      ]
    },
    {
      "cell_type": "code",
      "metadata": {
        "id": "pKwUTeOQZCIm",
        "colab_type": "code",
        "outputId": "0d2b5ffb-15bb-422c-a66d-c45f0c5f2f3c",
        "colab": {
          "base_uri": "https://localhost:8080/",
          "height": 362
        }
      },
      "source": [
        "# Male tends to default more\n",
        "lst=[]\n",
        "\n",
        "lst.append(len(train_test_merged[(train_test_merged['CODE_GENDER']=='M') & (train_test_merged['TARGET']==1)])*1.0/(len(train_test_merged[train_test_merged['CODE_GENDER']=='M'])))\n",
        "lst.append(len(train_test_merged[(train_test_merged['CODE_GENDER']=='F') & (train_test_merged['TARGET']==1)])*1.0/(len(train_test_merged[train_test_merged['CODE_GENDER']=='F'])))\n",
        "\n",
        "names=['Male Defaulter','Female Defaulter']\n",
        "\n",
        "gender_default=pd.DataFrame(lst,names)\n",
        "gender_default=gender_default*100\n",
        "gender_default.columns=['Percentage share']\n",
        "gender_default.plot(kind='bar')"
      ],
      "execution_count": 0,
      "outputs": [
        {
          "output_type": "execute_result",
          "data": {
            "text/plain": [
              "<matplotlib.axes._subplots.AxesSubplot at 0x7f29cfdad518>"
            ]
          },
          "metadata": {
            "tags": []
          },
          "execution_count": 203
        },
        {
          "output_type": "display_data",
          "data": {
            "image/png": "[encoded data removed]",
            "text/plain": [
              "<Figure size 432x288 with 1 Axes>"
            ]
          },
          "metadata": {
            "tags": []
          }
        }
      ]
    },
    {
      "cell_type": "code",
      "metadata": {
        "id": "K9LZXf-XZQlz",
        "colab_type": "code",
        "outputId": "9be4cc91-1c56-4be2-c775-f4b17b88ee8a",
        "colab": {
          "base_uri": "https://localhost:8080/",
          "height": 428
        }
      },
      "source": [
        "# Checking the impact of education level on target variable - education seems to be inversely proportional to loan default\n",
        "\n",
        "((train_test_merged[train_test_merged['TARGET']==1]['NAME_EDUCATION_TYPE'].value_counts())*100/(train_test_merged['NAME_EDUCATION_TYPE'].value_counts())).plot(kind='bar')"
      ],
      "execution_count": 0,
      "outputs": [
        {
          "output_type": "execute_result",
          "data": {
            "text/plain": [
              "<matplotlib.axes._subplots.AxesSubplot at 0x7f29cfd9cb00>"
            ]
          },
          "metadata": {
            "tags": []
          },
          "execution_count": 204
        },
        {
          "output_type": "display_data",
          "data": {
            "image/png": "[encoded data removed]",
            "text/plain": [
              "<Figure size 432x288 with 1 Axes>"
            ]
          },
          "metadata": {
            "tags": []
          }
        }
      ]
    },
    {
      "cell_type": "code",
      "metadata": {
        "id": "YYoeUPFuZTSh",
        "colab_type": "code",
        "outputId": "f051284c-ea9c-4f12-e1b2-5fde410f40aa",
        "colab": {
          "base_uri": "https://localhost:8080/",
          "height": 382
        }
      },
      "source": [
        "# Low skilled employees tend to do more default\n",
        "\n",
        "((train_test_merged[train_test_merged['TARGET']==1]['OCCUPATION_TYPE'].value_counts())*100/(train_test_merged['OCCUPATION_TYPE'].value_counts())).plot(kind='bar')"
      ],
      "execution_count": 0,
      "outputs": [
        {
          "output_type": "execute_result",
          "data": {
            "text/plain": [
              "<matplotlib.axes._subplots.AxesSubplot at 0x7f29cfcced68>"
            ]
          },
          "metadata": {
            "tags": []
          },
          "execution_count": 205
        },
        {
          "output_type": "display_data",
          "data": {
            "image/png": "[encoded data removed]",
            "text/plain": [
              "<Figure size 432x288 with 1 Axes>"
            ]
          },
          "metadata": {
            "tags": []
          }
        }
      ]
    },
    {
      "cell_type": "code",
      "metadata": {
        "id": "rPlLbfAmMN1N",
        "colab_type": "code",
        "outputId": "b8f4a175-4c68-492a-98e2-123a8e0f8019",
        "colab": {
          "base_uri": "https://localhost:8080/",
          "height": 118
        }
      },
      "source": [
        "#Checking the distribution of other variables in the dataset\n",
        "train_test_merged.AMT_REQ_CREDIT_BUREAU_HOUR.value_counts()"
      ],
      "execution_count": 0,
      "outputs": [
        {
          "output_type": "execute_result",
          "data": {
            "text/plain": [
              "0.0    306972\n",
              "1.0      1648\n",
              "2.0        57\n",
              "3.0         9\n",
              "4.0         1\n",
              "Name: AMT_REQ_CREDIT_BUREAU_HOUR, dtype: int64"
            ]
          },
          "metadata": {
            "tags": []
          },
          "execution_count": 206
        }
      ]
    },
    {
      "cell_type": "code",
      "metadata": {
        "id": "rVGOqPDGMiJU",
        "colab_type": "code",
        "outputId": "78bdf48e-cb45-4b14-b58a-af9690e72350",
        "colab": {
          "base_uri": "https://localhost:8080/",
          "height": 185
        }
      },
      "source": [
        "train_test_merged.AMT_REQ_CREDIT_BUREAU_DAY.value_counts()"
      ],
      "execution_count": 0,
      "outputs": [
        {
          "output_type": "execute_result",
          "data": {
            "text/plain": [
              "0.0    307128\n",
              "1.0      1355\n",
              "2.0       113\n",
              "3.0        45\n",
              "4.0        26\n",
              "5.0         9\n",
              "6.0         8\n",
              "9.0         2\n",
              "8.0         1\n",
              "Name: AMT_REQ_CREDIT_BUREAU_DAY, dtype: int64"
            ]
          },
          "metadata": {
            "tags": []
          },
          "execution_count": 207
        }
      ]
    },
    {
      "cell_type": "code",
      "metadata": {
        "id": "ru2XORUZMpVy",
        "colab_type": "code",
        "outputId": "0d529be8-6111-46da-df49-4215275e0f91",
        "colab": {
          "base_uri": "https://localhost:8080/",
          "height": 437
        }
      },
      "source": [
        "train_test_merged.AMT_REQ_CREDIT_BUREAU_MON.value_counts()"
      ],
      "execution_count": 0,
      "outputs": [
        {
          "output_type": "execute_result",
          "data": {
            "text/plain": [
              "0.0     264574\n",
              "1.0      33471\n",
              "2.0       5409\n",
              "3.0       1995\n",
              "4.0       1077\n",
              "5.0        603\n",
              "6.0        344\n",
              "7.0        298\n",
              "9.0        206\n",
              "8.0        185\n",
              "10.0       132\n",
              "11.0       119\n",
              "12.0        77\n",
              "13.0        72\n",
              "14.0        40\n",
              "15.0        35\n",
              "16.0        23\n",
              "17.0        14\n",
              "18.0         6\n",
              "19.0         3\n",
              "24.0         1\n",
              "27.0         1\n",
              "22.0         1\n",
              "23.0         1\n",
              "Name: AMT_REQ_CREDIT_BUREAU_MON, dtype: int64"
            ]
          },
          "metadata": {
            "tags": []
          },
          "execution_count": 208
        }
      ]
    },
    {
      "cell_type": "code",
      "metadata": {
        "id": "15pYkHTMMpCY",
        "colab_type": "code",
        "outputId": "7e98f575-2985-4935-aa80-2f13d96da1d4",
        "colab": {
          "base_uri": "https://localhost:8080/",
          "height": 185
        }
      },
      "source": [
        "train_test_merged.AMT_REQ_CREDIT_BUREAU_WEEK.value_counts()"
      ],
      "execution_count": 0,
      "outputs": [
        {
          "output_type": "execute_result",
          "data": {
            "text/plain": [
              "0.0    300035\n",
              "1.0      8321\n",
              "2.0       202\n",
              "3.0        58\n",
              "4.0        34\n",
              "6.0        20\n",
              "5.0        10\n",
              "8.0         5\n",
              "7.0         2\n",
              "Name: AMT_REQ_CREDIT_BUREAU_WEEK, dtype: int64"
            ]
          },
          "metadata": {
            "tags": []
          },
          "execution_count": 209
        }
      ]
    },
    {
      "cell_type": "code",
      "metadata": {
        "id": "sY1pwE3mMnnY",
        "colab_type": "code",
        "outputId": "49469d5a-dbd5-4758-9a40-37f5e10ec492",
        "colab": {
          "base_uri": "https://localhost:8080/",
          "height": 218
        }
      },
      "source": [
        "train_test_merged.AMT_REQ_CREDIT_BUREAU_QRT.value_counts()"
      ],
      "execution_count": 0,
      "outputs": [
        {
          "output_type": "execute_result",
          "data": {
            "text/plain": [
              "0.0      238976\n",
              "1.0       49435\n",
              "2.0       17410\n",
              "3.0        2212\n",
              "4.0         533\n",
              "5.0          75\n",
              "6.0          29\n",
              "7.0           8\n",
              "8.0           7\n",
              "19.0          1\n",
              "261.0         1\n",
              "Name: AMT_REQ_CREDIT_BUREAU_QRT, dtype: int64"
            ]
          },
          "metadata": {
            "tags": []
          },
          "execution_count": 210
        }
      ]
    },
    {
      "cell_type": "code",
      "metadata": {
        "id": "SdTr-cxkMoU4",
        "colab_type": "code",
        "outputId": "aa4c4c8b-f36c-4393-a9fe-72b45600a787",
        "colab": {
          "base_uri": "https://localhost:8080/",
          "height": 454
        }
      },
      "source": [
        "train_test_merged.AMT_REQ_CREDIT_BUREAU_YEAR.value_counts()"
      ],
      "execution_count": 0,
      "outputs": [
        {
          "output_type": "execute_result",
          "data": {
            "text/plain": [
              "0.0     82640\n",
              "1.0     72616\n",
              "2.0     58681\n",
              "3.0     39822\n",
              "4.0     24459\n",
              "5.0     14128\n",
              "6.0      8094\n",
              "7.0      4422\n",
              "8.0      2424\n",
              "9.0      1218\n",
              "10.0       43\n",
              "11.0       43\n",
              "12.0       35\n",
              "13.0       21\n",
              "14.0       11\n",
              "17.0        8\n",
              "15.0        6\n",
              "19.0        4\n",
              "18.0        4\n",
              "16.0        3\n",
              "21.0        1\n",
              "23.0        1\n",
              "25.0        1\n",
              "20.0        1\n",
              "22.0        1\n",
              "Name: AMT_REQ_CREDIT_BUREAU_YEAR, dtype: int64"
            ]
          },
          "metadata": {
            "tags": []
          },
          "execution_count": 211
        }
      ]
    },
    {
      "cell_type": "code",
      "metadata": {
        "id": "bKEGjnUWeG8c",
        "colab_type": "code",
        "colab": {}
      },
      "source": [
        "# Except the year, 0 looks the most common value in all other Credit Bureau enquiry fields\n",
        "train_test_merged.AMT_REQ_CREDIT_BUREAU_HOUR.fillna(0, inplace=True)\n",
        "train_test_merged.AMT_REQ_CREDIT_BUREAU_DAY.fillna(0, inplace=True)\n",
        "train_test_merged.AMT_REQ_CREDIT_BUREAU_MON.fillna(0, inplace=True)\n",
        "train_test_merged.AMT_REQ_CREDIT_BUREAU_WEEK.fillna(0, inplace=True)\n",
        "train_test_merged.AMT_REQ_CREDIT_BUREAU_QRT.fillna(0, inplace=True)"
      ],
      "execution_count": 0,
      "outputs": []
    },
    {
      "cell_type": "code",
      "metadata": {
        "id": "jFIECOMxlF2F",
        "colab_type": "code",
        "outputId": "1d6a7def-3dcd-4e8d-db9d-83d1f3a7e574",
        "colab": {
          "base_uri": "https://localhost:8080/",
          "height": 286
        }
      },
      "source": [
        "# Let's explore EXT_SOURCE_3 \n",
        "train_test_merged['EXT_SOURCE_3'].value_counts().head(15)"
      ],
      "execution_count": 0,
      "outputs": [
        {
          "output_type": "execute_result",
          "data": {
            "text/plain": [
              "0.746300    1660\n",
              "0.713631    1510\n",
              "0.694093    1459\n",
              "0.670652    1388\n",
              "0.581484    1335\n",
              "0.595456    1333\n",
              "0.652897    1331\n",
              "0.554947    1319\n",
              "0.689479    1303\n",
              "0.621226    1270\n",
              "0.626304    1247\n",
              "0.450747    1246\n",
              "0.657784    1245\n",
              "0.607557    1230\n",
              "0.706205    1211\n",
              "Name: EXT_SOURCE_3, dtype: int64"
            ]
          },
          "metadata": {
            "tags": []
          },
          "execution_count": 213
        }
      ]
    },
    {
      "cell_type": "code",
      "metadata": {
        "id": "7Cf509bZQSS2",
        "colab_type": "code",
        "outputId": "cef8eaac-e221-4143-ec8a-7ee739ecc0c9",
        "colab": {
          "base_uri": "https://localhost:8080/",
          "height": 168
        }
      },
      "source": [
        "train_test_merged['EXT_SOURCE_3'].describe()"
      ],
      "execution_count": 0,
      "outputs": [
        {
          "output_type": "execute_result",
          "data": {
            "text/plain": [
              "count    286622.000000\n",
              "mean          0.509350\n",
              "std           0.194141\n",
              "min           0.000527\n",
              "25%           0.368969\n",
              "50%           0.533482\n",
              "75%           0.665855\n",
              "max           0.896010\n",
              "Name: EXT_SOURCE_3, dtype: float64"
            ]
          },
          "metadata": {
            "tags": []
          },
          "execution_count": 214
        }
      ]
    },
    {
      "cell_type": "code",
      "metadata": {
        "id": "pmWDH3oHqsul",
        "colab_type": "code",
        "outputId": "01ec8736-5abf-48b3-a5b1-bc700dd47d9c",
        "colab": {
          "base_uri": "https://localhost:8080/",
          "height": 34
        }
      },
      "source": [
        "train_test_merged.EXT_SOURCE_3.corr(train_test_merged.EXT_SOURCE_2)"
      ],
      "execution_count": 0,
      "outputs": [
        {
          "output_type": "execute_result",
          "data": {
            "text/plain": [
              "0.10848036379191903"
            ]
          },
          "metadata": {
            "tags": []
          },
          "execution_count": 215
        }
      ]
    },
    {
      "cell_type": "code",
      "metadata": {
        "id": "_2RH5NRYwkuR",
        "colab_type": "code",
        "outputId": "530f1e30-ff1b-4f9f-8b8c-6648d0ea2197",
        "colab": {
          "base_uri": "https://localhost:8080/",
          "height": 34
        }
      },
      "source": [
        "# weak correlation with other external sources (EXT_SOURCE_1 and EXT_SOURCE_2)\n",
        "train_test_merged.EXT_SOURCE_3.corr(train_test_merged.EXT_SOURCE_1)"
      ],
      "execution_count": 0,
      "outputs": [
        {
          "output_type": "execute_result",
          "data": {
            "text/plain": [
              "0.18139022335926558"
            ]
          },
          "metadata": {
            "tags": []
          },
          "execution_count": 216
        }
      ]
    },
    {
      "cell_type": "code",
      "metadata": {
        "id": "yMSSw_VYw-sG",
        "colab_type": "code",
        "colab": {}
      },
      "source": [
        "# couldn't find any specific pattern, replacing with median\n",
        "train_test_merged.EXT_SOURCE_3.fillna(train_test_merged.EXT_SOURCE_3.median(),inplace = True)"
      ],
      "execution_count": 0,
      "outputs": []
    },
    {
      "cell_type": "code",
      "metadata": {
        "id": "5FfyNzhwy0ax",
        "colab_type": "code",
        "outputId": "a6234651-4698-4a7f-925f-7c42c1827e50",
        "colab": {
          "base_uri": "https://localhost:8080/",
          "height": 336
        }
      },
      "source": [
        "# Occupation Type\n",
        "train_test_merged.OCCUPATION_TYPE.value_counts()"
      ],
      "execution_count": 0,
      "outputs": [
        {
          "output_type": "execute_result",
          "data": {
            "text/plain": [
              "Laborers                 63841\n",
              "Sales staff              37174\n",
              "Core staff               31931\n",
              "Managers                 24945\n",
              "Drivers                  21376\n",
              "High skill tech staff    13234\n",
              "Accountants              11441\n",
              "Medicine staff            9853\n",
              "Security staff            7636\n",
              "Cooking staff             6840\n",
              "Cleaning staff            5309\n",
              "Private service staff     3107\n",
              "Low-skill Laborers        2365\n",
              "Waiters/barmen staff      1526\n",
              "Secretaries               1518\n",
              "Realty agents              889\n",
              "HR staff                   667\n",
              "IT staff                   607\n",
              "Name: OCCUPATION_TYPE, dtype: int64"
            ]
          },
          "metadata": {
            "tags": []
          },
          "execution_count": 218
        }
      ]
    },
    {
      "cell_type": "code",
      "metadata": {
        "id": "u-zNTv2Nii5y",
        "colab_type": "code",
        "outputId": "2cd213fa-d510-4ef1-da34-5bc3372d7ded",
        "colab": {
          "base_uri": "https://localhost:8080/",
          "height": 610
        }
      },
      "source": [
        "# checking if salary is a good indicator for OCCUPATION_TYPE - all the salaries are very close, can't get any inference out of it\n",
        "train_test_merged.groupby(train_test_merged.OCCUPATION_TYPE).describe()['AMT_INCOME_TOTAL']"
      ],
      "execution_count": 0,
      "outputs": [
        {
          "output_type": "execute_result",
          "data": {
            "text/html": [
              "<div>\n",
              "<style scoped>\n",
              "    .dataframe tbody tr th:only-of-type {\n",
              "        vertical-align: middle;\n",
              "    }\n",
              "\n",
              "    .dataframe tbody tr th {\n",
              "        vertical-align: top;\n",
              "    }\n",
              "\n",
              "    .dataframe thead th {\n",
              "        text-align: right;\n",
              "    }\n",
              "</style>\n",
              "<table border=\"1\" class=\"dataframe\">\n",
              "  <thead>\n",
              "    <tr style=\"text-align: right;\">\n",
              "      <th></th>\n",
              "      <th>count</th>\n",
              "      <th>mean</th>\n",
              "      <th>std</th>\n",
              "      <th>min</th>\n",
              "      <th>25%</th>\n",
              "      <th>50%</th>\n",
              "      <th>75%</th>\n",
              "      <th>max</th>\n",
              "    </tr>\n",
              "    <tr>\n",
              "      <th>OCCUPATION_TYPE</th>\n",
              "      <th></th>\n",
              "      <th></th>\n",
              "      <th></th>\n",
              "      <th></th>\n",
              "      <th></th>\n",
              "      <th></th>\n",
              "      <th></th>\n",
              "      <th></th>\n",
              "    </tr>\n",
              "  </thead>\n",
              "  <tbody>\n",
              "    <tr>\n",
              "      <th>Accountants</th>\n",
              "      <td>11441.0</td>\n",
              "      <td>196376.927760</td>\n",
              "      <td>108430.582209</td>\n",
              "      <td>27000.0</td>\n",
              "      <td>135000.0</td>\n",
              "      <td>180000.0</td>\n",
              "      <td>225000.000</td>\n",
              "      <td>2214117.0</td>\n",
              "    </tr>\n",
              "    <tr>\n",
              "      <th>Cleaning staff</th>\n",
              "      <td>5309.0</td>\n",
              "      <td>132455.091919</td>\n",
              "      <td>64902.601810</td>\n",
              "      <td>25650.0</td>\n",
              "      <td>90000.0</td>\n",
              "      <td>117000.0</td>\n",
              "      <td>157500.000</td>\n",
              "      <td>1080000.0</td>\n",
              "    </tr>\n",
              "    <tr>\n",
              "      <th>Cooking staff</th>\n",
              "      <td>6840.0</td>\n",
              "      <td>140280.394388</td>\n",
              "      <td>64146.255699</td>\n",
              "      <td>27000.0</td>\n",
              "      <td>90000.0</td>\n",
              "      <td>135000.0</td>\n",
              "      <td>174223.125</td>\n",
              "      <td>675000.0</td>\n",
              "    </tr>\n",
              "    <tr>\n",
              "      <th>Core staff</th>\n",
              "      <td>31931.0</td>\n",
              "      <td>173919.965399</td>\n",
              "      <td>97610.266386</td>\n",
              "      <td>27000.0</td>\n",
              "      <td>112500.0</td>\n",
              "      <td>157500.0</td>\n",
              "      <td>207000.000</td>\n",
              "      <td>3600000.0</td>\n",
              "    </tr>\n",
              "    <tr>\n",
              "      <th>Drivers</th>\n",
              "      <td>21376.0</td>\n",
              "      <td>188228.164722</td>\n",
              "      <td>82374.903445</td>\n",
              "      <td>27000.0</td>\n",
              "      <td>135000.0</td>\n",
              "      <td>180000.0</td>\n",
              "      <td>225000.000</td>\n",
              "      <td>2475000.0</td>\n",
              "    </tr>\n",
              "    <tr>\n",
              "      <th>HR staff</th>\n",
              "      <td>667.0</td>\n",
              "      <td>194530.284108</td>\n",
              "      <td>148149.120727</td>\n",
              "      <td>30600.0</td>\n",
              "      <td>135000.0</td>\n",
              "      <td>162000.0</td>\n",
              "      <td>225000.000</td>\n",
              "      <td>3150000.0</td>\n",
              "    </tr>\n",
              "    <tr>\n",
              "      <th>High skill tech staff</th>\n",
              "      <td>13234.0</td>\n",
              "      <td>184175.735369</td>\n",
              "      <td>95489.610358</td>\n",
              "      <td>27000.0</td>\n",
              "      <td>117000.0</td>\n",
              "      <td>157500.0</td>\n",
              "      <td>225000.000</td>\n",
              "      <td>1890000.0</td>\n",
              "    </tr>\n",
              "    <tr>\n",
              "      <th>IT staff</th>\n",
              "      <td>607.0</td>\n",
              "      <td>212949.763591</td>\n",
              "      <td>139822.415570</td>\n",
              "      <td>45000.0</td>\n",
              "      <td>135000.0</td>\n",
              "      <td>180000.0</td>\n",
              "      <td>247500.000</td>\n",
              "      <td>2025000.0</td>\n",
              "    </tr>\n",
              "    <tr>\n",
              "      <th>Laborers</th>\n",
              "      <td>63841.0</td>\n",
              "      <td>167061.270487</td>\n",
              "      <td>469565.621547</td>\n",
              "      <td>27000.0</td>\n",
              "      <td>112500.0</td>\n",
              "      <td>157500.0</td>\n",
              "      <td>202500.000</td>\n",
              "      <td>117000000.0</td>\n",
              "    </tr>\n",
              "    <tr>\n",
              "      <th>Low-skill Laborers</th>\n",
              "      <td>2365.0</td>\n",
              "      <td>134910.235941</td>\n",
              "      <td>55011.409271</td>\n",
              "      <td>27000.0</td>\n",
              "      <td>90000.0</td>\n",
              "      <td>126000.0</td>\n",
              "      <td>157500.000</td>\n",
              "      <td>450000.0</td>\n",
              "    </tr>\n",
              "    <tr>\n",
              "      <th>Managers</th>\n",
              "      <td>24945.0</td>\n",
              "      <td>262478.357569</td>\n",
              "      <td>184105.309286</td>\n",
              "      <td>27000.0</td>\n",
              "      <td>157500.0</td>\n",
              "      <td>225000.0</td>\n",
              "      <td>315000.000</td>\n",
              "      <td>9000000.0</td>\n",
              "    </tr>\n",
              "    <tr>\n",
              "      <th>Medicine staff</th>\n",
              "      <td>9853.0</td>\n",
              "      <td>150818.122501</td>\n",
              "      <td>74735.770951</td>\n",
              "      <td>26550.0</td>\n",
              "      <td>99000.0</td>\n",
              "      <td>135000.0</td>\n",
              "      <td>180000.000</td>\n",
              "      <td>1350000.0</td>\n",
              "    </tr>\n",
              "    <tr>\n",
              "      <th>Private service staff</th>\n",
              "      <td>3107.0</td>\n",
              "      <td>185143.763598</td>\n",
              "      <td>105541.416840</td>\n",
              "      <td>36000.0</td>\n",
              "      <td>126000.0</td>\n",
              "      <td>157500.0</td>\n",
              "      <td>225000.000</td>\n",
              "      <td>3150000.0</td>\n",
              "    </tr>\n",
              "    <tr>\n",
              "      <th>Realty agents</th>\n",
              "      <td>889.0</td>\n",
              "      <td>195517.154106</td>\n",
              "      <td>82840.591154</td>\n",
              "      <td>67500.0</td>\n",
              "      <td>135000.0</td>\n",
              "      <td>180000.0</td>\n",
              "      <td>225000.000</td>\n",
              "      <td>675000.0</td>\n",
              "    </tr>\n",
              "    <tr>\n",
              "      <th>Sales staff</th>\n",
              "      <td>37174.0</td>\n",
              "      <td>153493.493516</td>\n",
              "      <td>77774.164307</td>\n",
              "      <td>27000.0</td>\n",
              "      <td>108000.0</td>\n",
              "      <td>135000.0</td>\n",
              "      <td>180000.000</td>\n",
              "      <td>2025000.0</td>\n",
              "    </tr>\n",
              "    <tr>\n",
              "      <th>Secretaries</th>\n",
              "      <td>1518.0</td>\n",
              "      <td>160576.725296</td>\n",
              "      <td>111281.932707</td>\n",
              "      <td>41850.0</td>\n",
              "      <td>108000.0</td>\n",
              "      <td>135000.0</td>\n",
              "      <td>180000.000</td>\n",
              "      <td>2025000.0</td>\n",
              "    </tr>\n",
              "    <tr>\n",
              "      <th>Security staff</th>\n",
              "      <td>7636.0</td>\n",
              "      <td>150696.048913</td>\n",
              "      <td>69762.018104</td>\n",
              "      <td>27000.0</td>\n",
              "      <td>103500.0</td>\n",
              "      <td>135000.0</td>\n",
              "      <td>180000.000</td>\n",
              "      <td>832500.0</td>\n",
              "    </tr>\n",
              "    <tr>\n",
              "      <th>Waiters/barmen staff</th>\n",
              "      <td>1526.0</td>\n",
              "      <td>145243.409567</td>\n",
              "      <td>66876.700710</td>\n",
              "      <td>29250.0</td>\n",
              "      <td>95625.0</td>\n",
              "      <td>135000.0</td>\n",
              "      <td>180000.000</td>\n",
              "      <td>585000.0</td>\n",
              "    </tr>\n",
              "  </tbody>\n",
              "</table>\n",
              "</div>"
            ],
            "text/plain": [
              "                         count           mean  ...         75%          max\n",
              "OCCUPATION_TYPE                                ...                         \n",
              "Accountants            11441.0  196376.927760  ...  225000.000    2214117.0\n",
              "Cleaning staff          5309.0  132455.091919  ...  157500.000    1080000.0\n",
              "Cooking staff           6840.0  140280.394388  ...  174223.125     675000.0\n",
              "Core staff             31931.0  173919.965399  ...  207000.000    3600000.0\n",
              "Drivers                21376.0  188228.164722  ...  225000.000    2475000.0\n",
              "HR staff                 667.0  194530.284108  ...  225000.000    3150000.0\n",
              "High skill tech staff  13234.0  184175.735369  ...  225000.000    1890000.0\n",
              "IT staff                 607.0  212949.763591  ...  247500.000    2025000.0\n",
              "Laborers               63841.0  167061.270487  ...  202500.000  117000000.0\n",
              "Low-skill Laborers      2365.0  134910.235941  ...  157500.000     450000.0\n",
              "Managers               24945.0  262478.357569  ...  315000.000    9000000.0\n",
              "Medicine staff          9853.0  150818.122501  ...  180000.000    1350000.0\n",
              "Private service staff   3107.0  185143.763598  ...  225000.000    3150000.0\n",
              "Realty agents            889.0  195517.154106  ...  225000.000     675000.0\n",
              "Sales staff            37174.0  153493.493516  ...  180000.000    2025000.0\n",
              "Secretaries             1518.0  160576.725296  ...  180000.000    2025000.0\n",
              "Security staff          7636.0  150696.048913  ...  180000.000     832500.0\n",
              "Waiters/barmen staff    1526.0  145243.409567  ...  180000.000     585000.0\n",
              "\n",
              "[18 rows x 8 columns]"
            ]
          },
          "metadata": {
            "tags": []
          },
          "execution_count": 219
        }
      ]
    },
    {
      "cell_type": "markdown",
      "metadata": {
        "id": "A6FoH3TER6LJ",
        "colab_type": "text"
      },
      "source": [
        "Imputing the remaining missing values using sklearn's iterative_imputer package(inspired from R's MICE package)"
      ]
    },
    {
      "cell_type": "code",
      "metadata": {
        "id": "qFv6uBv6foMP",
        "colab_type": "code",
        "colab": {}
      },
      "source": [
        "# importing library\n",
        "from sklearn.experimental import enable_iterative_imputer\n",
        "from sklearn.impute import IterativeImputer\n",
        "\n",
        "imp = IterativeImputer(max_iter = 10, random_state = 0)"
      ],
      "execution_count": 0,
      "outputs": []
    },
    {
      "cell_type": "code",
      "metadata": {
        "id": "5A28Dx8fSEf5",
        "colab_type": "code",
        "outputId": "3657da56-69d8-474b-8b11-d694467ac5fb",
        "colab": {
          "base_uri": "https://localhost:8080/",
          "height": 118
        }
      },
      "source": [
        "# categorical columns\n",
        "train_test_merged.columns[train_test_merged.dtypes.values == 'O']"
      ],
      "execution_count": 0,
      "outputs": [
        {
          "output_type": "execute_result",
          "data": {
            "text/plain": [
              "Index(['CODE_GENDER', 'EMERGENCYSTATE_MODE', 'FLAG_OWN_CAR', 'FLAG_OWN_REALTY',\n",
              "       'HOUSETYPE_MODE', 'NAME_CONTRACT_TYPE', 'NAME_EDUCATION_TYPE',\n",
              "       'NAME_FAMILY_STATUS', 'NAME_HOUSING_TYPE', 'NAME_INCOME_TYPE',\n",
              "       'NAME_TYPE_SUITE', 'OCCUPATION_TYPE', 'ORGANIZATION_TYPE',\n",
              "       'WALLSMATERIAL_MODE', 'WEEKDAY_APPR_PROCESS_START'],\n",
              "      dtype='object')"
            ]
          },
          "metadata": {
            "tags": []
          },
          "execution_count": 221
        }
      ]
    },
    {
      "cell_type": "code",
      "metadata": {
        "id": "d_Js1ufyDafs",
        "colab_type": "code",
        "outputId": "05331935-fba8-45f2-ecf4-eeb5f31e8eab",
        "colab": {
          "base_uri": "https://localhost:8080/",
          "height": 101
        }
      },
      "source": [
        "imp.fit(train_test_merged.loc[:, ~train_test_merged.columns.isin(['CODE_GENDER', 'EMERGENCYSTATE_MODE', 'FLAG_OWN_CAR', 'FLAG_OWN_REALTY',\n",
        "       'HOUSETYPE_MODE', 'Label', 'NAME_CONTRACT_TYPE', 'NAME_EDUCATION_TYPE','NAME_FAMILY_STATUS', 'NAME_HOUSING_TYPE', 'NAME_INCOME_TYPE',\n",
        "       'NAME_TYPE_SUITE', 'OCCUPATION_TYPE', 'ORGANIZATION_TYPE', 'TARGET','WALLSMATERIAL_MODE', 'WEEKDAY_APPR_PROCESS_START'])])"
      ],
      "execution_count": 0,
      "outputs": [
        {
          "output_type": "execute_result",
          "data": {
            "text/plain": [
              "IterativeImputer(add_indicator=False, estimator=None,\n",
              "                 imputation_order='ascending', initial_strategy='mean',\n",
              "                 max_iter=10, max_value=None, min_value=None,\n",
              "                 missing_values=nan, n_nearest_features=None, random_state=0,\n",
              "                 sample_posterior=False, tol=0.001, verbose=0)"
            ]
          },
          "metadata": {
            "tags": []
          },
          "execution_count": 222
        }
      ]
    },
    {
      "cell_type": "code",
      "metadata": {
        "id": "yGb5zUWn7yMd",
        "colab_type": "code",
        "colab": {}
      },
      "source": [
        "imputation_result = pd.DataFrame(imp.transform(train_test_merged.loc[:, ~train_test_merged.columns.isin(['CODE_GENDER', 'EMERGENCYSTATE_MODE', 'FLAG_OWN_CAR', 'FLAG_OWN_REALTY',\n",
        "       'HOUSETYPE_MODE', 'Label', 'NAME_CONTRACT_TYPE', 'NAME_EDUCATION_TYPE','NAME_FAMILY_STATUS', 'NAME_HOUSING_TYPE', 'NAME_INCOME_TYPE',\n",
        "       'NAME_TYPE_SUITE', 'OCCUPATION_TYPE', 'ORGANIZATION_TYPE', 'TARGET','WALLSMATERIAL_MODE', 'WEEKDAY_APPR_PROCESS_START'])]))"
      ],
      "execution_count": 0,
      "outputs": []
    },
    {
      "cell_type": "code",
      "metadata": {
        "id": "VcggfO0sW6DZ",
        "colab_type": "code",
        "outputId": "50963e46-290a-42f6-f901-33b5a351d2b5",
        "colab": {
          "base_uri": "https://localhost:8080/",
          "height": 34
        }
      },
      "source": [
        "imputation_result.shape"
      ],
      "execution_count": 0,
      "outputs": [
        {
          "output_type": "execute_result",
          "data": {
            "text/plain": [
              "(356255, 84)"
            ]
          },
          "metadata": {
            "tags": []
          },
          "execution_count": 224
        }
      ]
    },
    {
      "cell_type": "code",
      "metadata": {
        "id": "ulhYcWFCUmhj",
        "colab_type": "code",
        "colab": {}
      },
      "source": [
        "imputation_result.columns = train_test_merged.loc[:, ~train_test_merged.columns.isin(['CODE_GENDER', 'EMERGENCYSTATE_MODE', 'FLAG_OWN_CAR', 'FLAG_OWN_REALTY',\n",
        "       'HOUSETYPE_MODE', 'Label', 'NAME_CONTRACT_TYPE', 'NAME_EDUCATION_TYPE','NAME_FAMILY_STATUS', 'NAME_HOUSING_TYPE', 'NAME_INCOME_TYPE',\n",
        "       'NAME_TYPE_SUITE', 'OCCUPATION_TYPE', 'ORGANIZATION_TYPE', 'TARGET','WALLSMATERIAL_MODE', 'WEEKDAY_APPR_PROCESS_START'])].columns"
      ],
      "execution_count": 0,
      "outputs": []
    },
    {
      "cell_type": "code",
      "metadata": {
        "id": "DsXc-RfRXSuM",
        "colab_type": "code",
        "outputId": "fccdb6bc-add4-423d-efe5-2ca2e3a7bf89",
        "colab": {
          "base_uri": "https://localhost:8080/",
          "height": 155
        }
      },
      "source": [
        "imputation_result.head(2)"
      ],
      "execution_count": 0,
      "outputs": [
        {
          "output_type": "execute_result",
          "data": {
            "text/html": [
              "<div>\n",
              "<style scoped>\n",
              "    .dataframe tbody tr th:only-of-type {\n",
              "        vertical-align: middle;\n",
              "    }\n",
              "\n",
              "    .dataframe tbody tr th {\n",
              "        vertical-align: top;\n",
              "    }\n",
              "\n",
              "    .dataframe thead th {\n",
              "        text-align: right;\n",
              "    }\n",
              "</style>\n",
              "<table border=\"1\" class=\"dataframe\">\n",
              "  <thead>\n",
              "    <tr style=\"text-align: right;\">\n",
              "      <th></th>\n",
              "      <th>AMT_ANNUITY</th>\n",
              "      <th>AMT_CREDIT</th>\n",
              "      <th>AMT_GOODS_PRICE</th>\n",
              "      <th>AMT_INCOME_TOTAL</th>\n",
              "      <th>AMT_REQ_CREDIT_BUREAU_DAY</th>\n",
              "      <th>AMT_REQ_CREDIT_BUREAU_HOUR</th>\n",
              "      <th>AMT_REQ_CREDIT_BUREAU_MON</th>\n",
              "      <th>AMT_REQ_CREDIT_BUREAU_QRT</th>\n",
              "      <th>AMT_REQ_CREDIT_BUREAU_WEEK</th>\n",
              "      <th>AMT_REQ_CREDIT_BUREAU_YEAR</th>\n",
              "      <th>APARTMENTS_AVG</th>\n",
              "      <th>APARTMENTS_MEDI</th>\n",
              "      <th>APARTMENTS_MODE</th>\n",
              "      <th>CNT_CHILDREN</th>\n",
              "      <th>CNT_FAM_MEMBERS</th>\n",
              "      <th>DAYS_BIRTH</th>\n",
              "      <th>DAYS_EMPLOYED</th>\n",
              "      <th>DAYS_ID_PUBLISH</th>\n",
              "      <th>DAYS_LAST_PHONE_CHANGE</th>\n",
              "      <th>DAYS_REGISTRATION</th>\n",
              "      <th>DEF_30_CNT_SOCIAL_CIRCLE</th>\n",
              "      <th>DEF_60_CNT_SOCIAL_CIRCLE</th>\n",
              "      <th>ELEVATORS_AVG</th>\n",
              "      <th>ELEVATORS_MEDI</th>\n",
              "      <th>ELEVATORS_MODE</th>\n",
              "      <th>ENTRANCES_AVG</th>\n",
              "      <th>ENTRANCES_MEDI</th>\n",
              "      <th>ENTRANCES_MODE</th>\n",
              "      <th>EXT_SOURCE_1</th>\n",
              "      <th>EXT_SOURCE_2</th>\n",
              "      <th>EXT_SOURCE_3</th>\n",
              "      <th>FLAG_CONT_MOBILE</th>\n",
              "      <th>FLAG_DOCUMENT_10</th>\n",
              "      <th>FLAG_DOCUMENT_11</th>\n",
              "      <th>FLAG_DOCUMENT_12</th>\n",
              "      <th>FLAG_DOCUMENT_13</th>\n",
              "      <th>FLAG_DOCUMENT_14</th>\n",
              "      <th>FLAG_DOCUMENT_15</th>\n",
              "      <th>FLAG_DOCUMENT_16</th>\n",
              "      <th>FLAG_DOCUMENT_17</th>\n",
              "      <th>...</th>\n",
              "      <th>FLAG_DOCUMENT_21</th>\n",
              "      <th>FLAG_DOCUMENT_3</th>\n",
              "      <th>FLAG_DOCUMENT_4</th>\n",
              "      <th>FLAG_DOCUMENT_5</th>\n",
              "      <th>FLAG_DOCUMENT_6</th>\n",
              "      <th>FLAG_DOCUMENT_7</th>\n",
              "      <th>FLAG_DOCUMENT_8</th>\n",
              "      <th>FLAG_DOCUMENT_9</th>\n",
              "      <th>FLAG_EMAIL</th>\n",
              "      <th>FLAG_EMP_PHONE</th>\n",
              "      <th>FLAG_MOBIL</th>\n",
              "      <th>FLAG_PHONE</th>\n",
              "      <th>FLAG_WORK_PHONE</th>\n",
              "      <th>FLOORSMAX_AVG</th>\n",
              "      <th>FLOORSMAX_MEDI</th>\n",
              "      <th>FLOORSMAX_MODE</th>\n",
              "      <th>HOUR_APPR_PROCESS_START</th>\n",
              "      <th>LIVE_CITY_NOT_WORK_CITY</th>\n",
              "      <th>LIVE_REGION_NOT_WORK_REGION</th>\n",
              "      <th>LIVINGAREA_AVG</th>\n",
              "      <th>LIVINGAREA_MEDI</th>\n",
              "      <th>LIVINGAREA_MODE</th>\n",
              "      <th>NONLIVINGAREA_AVG</th>\n",
              "      <th>NONLIVINGAREA_MEDI</th>\n",
              "      <th>NONLIVINGAREA_MODE</th>\n",
              "      <th>OBS_30_CNT_SOCIAL_CIRCLE</th>\n",
              "      <th>OBS_60_CNT_SOCIAL_CIRCLE</th>\n",
              "      <th>REGION_POPULATION_RELATIVE</th>\n",
              "      <th>REGION_RATING_CLIENT</th>\n",
              "      <th>REGION_RATING_CLIENT_W_CITY</th>\n",
              "      <th>REG_CITY_NOT_LIVE_CITY</th>\n",
              "      <th>REG_CITY_NOT_WORK_CITY</th>\n",
              "      <th>REG_REGION_NOT_LIVE_REGION</th>\n",
              "      <th>REG_REGION_NOT_WORK_REGION</th>\n",
              "      <th>SK_ID_CURR</th>\n",
              "      <th>TOTALAREA_MODE</th>\n",
              "      <th>Train_YN</th>\n",
              "      <th>YEARS_BEGINEXPLUATATION_AVG</th>\n",
              "      <th>YEARS_BEGINEXPLUATATION_MEDI</th>\n",
              "      <th>YEARS_BEGINEXPLUATATION_MODE</th>\n",
              "    </tr>\n",
              "  </thead>\n",
              "  <tbody>\n",
              "    <tr>\n",
              "      <th>0</th>\n",
              "      <td>24700.5</td>\n",
              "      <td>406597.5</td>\n",
              "      <td>351000.0</td>\n",
              "      <td>202500.0</td>\n",
              "      <td>0.0</td>\n",
              "      <td>0.0</td>\n",
              "      <td>0.0</td>\n",
              "      <td>0.0</td>\n",
              "      <td>0.0</td>\n",
              "      <td>1.0</td>\n",
              "      <td>0.0247</td>\n",
              "      <td>0.0250</td>\n",
              "      <td>0.0252</td>\n",
              "      <td>0.0</td>\n",
              "      <td>1.0</td>\n",
              "      <td>-9461.0</td>\n",
              "      <td>-637.0</td>\n",
              "      <td>-2120.0</td>\n",
              "      <td>-1134.0</td>\n",
              "      <td>-3648.0</td>\n",
              "      <td>2.0</td>\n",
              "      <td>2.0</td>\n",
              "      <td>0.00</td>\n",
              "      <td>0.00</td>\n",
              "      <td>0.0000</td>\n",
              "      <td>0.0690</td>\n",
              "      <td>0.0690</td>\n",
              "      <td>0.0690</td>\n",
              "      <td>0.083037</td>\n",
              "      <td>0.262949</td>\n",
              "      <td>0.139376</td>\n",
              "      <td>1.0</td>\n",
              "      <td>0.0</td>\n",
              "      <td>0.0</td>\n",
              "      <td>0.0</td>\n",
              "      <td>0.0</td>\n",
              "      <td>0.0</td>\n",
              "      <td>0.0</td>\n",
              "      <td>0.0</td>\n",
              "      <td>0.0</td>\n",
              "      <td>...</td>\n",
              "      <td>0.0</td>\n",
              "      <td>1.0</td>\n",
              "      <td>0.0</td>\n",
              "      <td>0.0</td>\n",
              "      <td>0.0</td>\n",
              "      <td>0.0</td>\n",
              "      <td>0.0</td>\n",
              "      <td>0.0</td>\n",
              "      <td>0.0</td>\n",
              "      <td>1.0</td>\n",
              "      <td>1.0</td>\n",
              "      <td>1.0</td>\n",
              "      <td>0.0</td>\n",
              "      <td>0.0833</td>\n",
              "      <td>0.0833</td>\n",
              "      <td>0.0833</td>\n",
              "      <td>10.0</td>\n",
              "      <td>0.0</td>\n",
              "      <td>0.0</td>\n",
              "      <td>0.0190</td>\n",
              "      <td>0.0193</td>\n",
              "      <td>0.0198</td>\n",
              "      <td>0.0000</td>\n",
              "      <td>0.00</td>\n",
              "      <td>0.0</td>\n",
              "      <td>2.0</td>\n",
              "      <td>2.0</td>\n",
              "      <td>0.018801</td>\n",
              "      <td>2.0</td>\n",
              "      <td>2.0</td>\n",
              "      <td>0.0</td>\n",
              "      <td>0.0</td>\n",
              "      <td>0.0</td>\n",
              "      <td>0.0</td>\n",
              "      <td>100002.0</td>\n",
              "      <td>0.0149</td>\n",
              "      <td>1.0</td>\n",
              "      <td>0.9722</td>\n",
              "      <td>0.9722</td>\n",
              "      <td>0.9722</td>\n",
              "    </tr>\n",
              "    <tr>\n",
              "      <th>1</th>\n",
              "      <td>35698.5</td>\n",
              "      <td>1293502.5</td>\n",
              "      <td>1129500.0</td>\n",
              "      <td>270000.0</td>\n",
              "      <td>0.0</td>\n",
              "      <td>0.0</td>\n",
              "      <td>0.0</td>\n",
              "      <td>0.0</td>\n",
              "      <td>0.0</td>\n",
              "      <td>0.0</td>\n",
              "      <td>0.0959</td>\n",
              "      <td>0.0968</td>\n",
              "      <td>0.0924</td>\n",
              "      <td>0.0</td>\n",
              "      <td>2.0</td>\n",
              "      <td>-16765.0</td>\n",
              "      <td>-1188.0</td>\n",
              "      <td>-291.0</td>\n",
              "      <td>-828.0</td>\n",
              "      <td>-1186.0</td>\n",
              "      <td>0.0</td>\n",
              "      <td>0.0</td>\n",
              "      <td>0.08</td>\n",
              "      <td>0.08</td>\n",
              "      <td>0.0806</td>\n",
              "      <td>0.0345</td>\n",
              "      <td>0.0345</td>\n",
              "      <td>0.0345</td>\n",
              "      <td>0.311267</td>\n",
              "      <td>0.622246</td>\n",
              "      <td>0.533482</td>\n",
              "      <td>1.0</td>\n",
              "      <td>0.0</td>\n",
              "      <td>0.0</td>\n",
              "      <td>0.0</td>\n",
              "      <td>0.0</td>\n",
              "      <td>0.0</td>\n",
              "      <td>0.0</td>\n",
              "      <td>0.0</td>\n",
              "      <td>0.0</td>\n",
              "      <td>...</td>\n",
              "      <td>0.0</td>\n",
              "      <td>1.0</td>\n",
              "      <td>0.0</td>\n",
              "      <td>0.0</td>\n",
              "      <td>0.0</td>\n",
              "      <td>0.0</td>\n",
              "      <td>0.0</td>\n",
              "      <td>0.0</td>\n",
              "      <td>0.0</td>\n",
              "      <td>1.0</td>\n",
              "      <td>1.0</td>\n",
              "      <td>1.0</td>\n",
              "      <td>0.0</td>\n",
              "      <td>0.2917</td>\n",
              "      <td>0.2917</td>\n",
              "      <td>0.2917</td>\n",
              "      <td>11.0</td>\n",
              "      <td>0.0</td>\n",
              "      <td>0.0</td>\n",
              "      <td>0.0549</td>\n",
              "      <td>0.0558</td>\n",
              "      <td>0.0554</td>\n",
              "      <td>0.0098</td>\n",
              "      <td>0.01</td>\n",
              "      <td>0.0</td>\n",
              "      <td>1.0</td>\n",
              "      <td>1.0</td>\n",
              "      <td>0.003541</td>\n",
              "      <td>1.0</td>\n",
              "      <td>1.0</td>\n",
              "      <td>0.0</td>\n",
              "      <td>0.0</td>\n",
              "      <td>0.0</td>\n",
              "      <td>0.0</td>\n",
              "      <td>100003.0</td>\n",
              "      <td>0.0714</td>\n",
              "      <td>1.0</td>\n",
              "      <td>0.9851</td>\n",
              "      <td>0.9851</td>\n",
              "      <td>0.9851</td>\n",
              "    </tr>\n",
              "  </tbody>\n",
              "</table>\n",
              "<p>2 rows × 84 columns</p>\n",
              "</div>"
            ],
            "text/plain": [
              "   AMT_ANNUITY  ...  YEARS_BEGINEXPLUATATION_MODE\n",
              "0      24700.5  ...                        0.9722\n",
              "1      35698.5  ...                        0.9851\n",
              "\n",
              "[2 rows x 84 columns]"
            ]
          },
          "metadata": {
            "tags": []
          },
          "execution_count": 226
        }
      ]
    },
    {
      "cell_type": "code",
      "metadata": {
        "id": "2khAgH8bpALx",
        "colab_type": "code",
        "colab": {}
      },
      "source": [
        "train_test_merged.loc[:, ~train_test_merged.columns.isin(['CODE_GENDER', 'EMERGENCYSTATE_MODE', 'FLAG_OWN_CAR', 'FLAG_OWN_REALTY',\n",
        "       'HOUSETYPE_MODE', 'Label', 'NAME_CONTRACT_TYPE', 'NAME_EDUCATION_TYPE','NAME_FAMILY_STATUS', 'NAME_HOUSING_TYPE', 'NAME_INCOME_TYPE',\n",
        "       'NAME_TYPE_SUITE', 'OCCUPATION_TYPE', 'ORGANIZATION_TYPE', 'TARGET','WALLSMATERIAL_MODE', 'WEEKDAY_APPR_PROCESS_START'])] = imputation_result.copy()"
      ],
      "execution_count": 0,
      "outputs": []
    },
    {
      "cell_type": "code",
      "metadata": {
        "id": "hXc3wGFuYMFM",
        "colab_type": "code",
        "outputId": "d7ed13cf-bd38-4658-c528-993e19fc083f",
        "colab": {
          "base_uri": "https://localhost:8080/",
          "height": 134
        }
      },
      "source": [
        "# we have 5 categorical features with null values\n",
        "train_test_merged.isnull().sum().sort_values(ascending = False).iloc[:6]"
      ],
      "execution_count": 0,
      "outputs": [
        {
          "output_type": "execute_result",
          "data": {
            "text/plain": [
              "WALLSMATERIAL_MODE              180234\n",
              "HOUSETYPE_MODE                  177916\n",
              "EMERGENCYSTATE_MODE             167964\n",
              "OCCUPATION_TYPE                 111996\n",
              "NAME_TYPE_SUITE                   2203\n",
              "YEARS_BEGINEXPLUATATION_MODE         0\n",
              "dtype: int64"
            ]
          },
          "metadata": {
            "tags": []
          },
          "execution_count": 228
        }
      ]
    },
    {
      "cell_type": "markdown",
      "metadata": {
        "id": "6mrxDQNyYomz",
        "colab_type": "text"
      },
      "source": [
        "Let's impute the remaining values"
      ]
    },
    {
      "cell_type": "code",
      "metadata": {
        "id": "zUW7JLGCYxbU",
        "colab_type": "code",
        "outputId": "1f8d707d-703d-453e-8c96-622e5d0ad81d",
        "colab": {
          "base_uri": "https://localhost:8080/",
          "height": 151
        }
      },
      "source": [
        "train_test_merged['NAME_TYPE_SUITE'].value_counts()"
      ],
      "execution_count": 0,
      "outputs": [
        {
          "output_type": "execute_result",
          "data": {
            "text/plain": [
              "Unaccompanied      288253\n",
              "Family              46030\n",
              "Spouse, partner     12818\n",
              "Children             3675\n",
              "Other_B              1981\n",
              "Other_A               975\n",
              "Group of people       320\n",
              "Name: NAME_TYPE_SUITE, dtype: int64"
            ]
          },
          "metadata": {
            "tags": []
          },
          "execution_count": 229
        }
      ]
    },
    {
      "cell_type": "code",
      "metadata": {
        "id": "rjeNZyQMBgVl",
        "colab_type": "code",
        "colab": {}
      },
      "source": [
        "train_test_merged.NAME_TYPE_SUITE.fillna('Unaccompanied', inplace=True)"
      ],
      "execution_count": 0,
      "outputs": []
    },
    {
      "cell_type": "code",
      "metadata": {
        "id": "tbnizT4PY8hO",
        "colab_type": "code",
        "outputId": "c049eae2-548c-474c-8ee9-e92437751c23",
        "colab": {
          "base_uri": "https://localhost:8080/",
          "height": 84
        }
      },
      "source": [
        "train_test_merged['HOUSETYPE_MODE'].value_counts()"
      ],
      "execution_count": 0,
      "outputs": [
        {
          "output_type": "execute_result",
          "data": {
            "text/plain": [
              "block of flats      175162\n",
              "specific housing      1761\n",
              "terraced house        1416\n",
              "Name: HOUSETYPE_MODE, dtype: int64"
            ]
          },
          "metadata": {
            "tags": []
          },
          "execution_count": 231
        }
      ]
    },
    {
      "cell_type": "code",
      "metadata": {
        "id": "y26JS2MvZVDP",
        "colab_type": "code",
        "colab": {}
      },
      "source": [
        "train_test_merged.HOUSETYPE_MODE.fillna('block of flats', inplace=True)"
      ],
      "execution_count": 0,
      "outputs": []
    },
    {
      "cell_type": "code",
      "metadata": {
        "id": "FoWUpkVmY9mM",
        "colab_type": "code",
        "outputId": "ff846048-55da-426f-f868-7a1832486055",
        "colab": {
          "base_uri": "https://localhost:8080/",
          "height": 67
        }
      },
      "source": [
        "train_test_merged['EMERGENCYSTATE_MODE'].value_counts()"
      ],
      "execution_count": 0,
      "outputs": [
        {
          "output_type": "execute_result",
          "data": {
            "text/plain": [
              "No     185607\n",
              "Yes      2684\n",
              "Name: EMERGENCYSTATE_MODE, dtype: int64"
            ]
          },
          "metadata": {
            "tags": []
          },
          "execution_count": 233
        }
      ]
    },
    {
      "cell_type": "code",
      "metadata": {
        "id": "YWyLcIeZZksP",
        "colab_type": "code",
        "colab": {}
      },
      "source": [
        "train_test_merged.EMERGENCYSTATE_MODE.fillna('EMERGENCYSTATE_MODE', inplace=True)"
      ],
      "execution_count": 0,
      "outputs": []
    },
    {
      "cell_type": "code",
      "metadata": {
        "id": "I8uF9Ub4Y5wT",
        "colab_type": "code",
        "outputId": "612432c1-2b33-44e5-a6fb-083172db70de",
        "colab": {
          "base_uri": "https://localhost:8080/",
          "height": 151
        }
      },
      "source": [
        "train_test_merged['WALLSMATERIAL_MODE'].value_counts()"
      ],
      "execution_count": 0,
      "outputs": [
        {
          "output_type": "execute_result",
          "data": {
            "text/plain": [
              "Panel           77309\n",
              "Stone, brick    75249\n",
              "Block           10681\n",
              "Wooden           6156\n",
              "Mixed            2649\n",
              "Monolithic       2068\n",
              "Others           1909\n",
              "Name: WALLSMATERIAL_MODE, dtype: int64"
            ]
          },
          "metadata": {
            "tags": []
          },
          "execution_count": 235
        }
      ]
    },
    {
      "cell_type": "code",
      "metadata": {
        "id": "yKyA2PUBZyUg",
        "colab_type": "code",
        "colab": {}
      },
      "source": [
        "train_test_merged.WALLSMATERIAL_MODE.fillna('Panel', inplace=True)"
      ],
      "execution_count": 0,
      "outputs": []
    },
    {
      "cell_type": "code",
      "metadata": {
        "id": "dc98FxIqY9Ng",
        "colab_type": "code",
        "outputId": "8d26f845-9efc-4f9b-a09c-18029b09b3d1",
        "colab": {
          "base_uri": "https://localhost:8080/",
          "height": 336
        }
      },
      "source": [
        "train_test_merged['OCCUPATION_TYPE'].value_counts()"
      ],
      "execution_count": 0,
      "outputs": [
        {
          "output_type": "execute_result",
          "data": {
            "text/plain": [
              "Laborers                 63841\n",
              "Sales staff              37174\n",
              "Core staff               31931\n",
              "Managers                 24945\n",
              "Drivers                  21376\n",
              "High skill tech staff    13234\n",
              "Accountants              11441\n",
              "Medicine staff            9853\n",
              "Security staff            7636\n",
              "Cooking staff             6840\n",
              "Cleaning staff            5309\n",
              "Private service staff     3107\n",
              "Low-skill Laborers        2365\n",
              "Waiters/barmen staff      1526\n",
              "Secretaries               1518\n",
              "Realty agents              889\n",
              "HR staff                   667\n",
              "IT staff                   607\n",
              "Name: OCCUPATION_TYPE, dtype: int64"
            ]
          },
          "metadata": {
            "tags": []
          },
          "execution_count": 237
        }
      ]
    },
    {
      "cell_type": "code",
      "metadata": {
        "id": "NRT4GcQNZ4tl",
        "colab_type": "code",
        "colab": {}
      },
      "source": [
        "train_test_merged.OCCUPATION_TYPE.fillna('Laborers', inplace=True)"
      ],
      "execution_count": 0,
      "outputs": []
    },
    {
      "cell_type": "code",
      "metadata": {
        "id": "H9K0khsmaCz0",
        "colab_type": "code",
        "outputId": "57fccd4e-27c8-40e8-d97d-9c9d30952abb",
        "colab": {
          "base_uri": "https://localhost:8080/",
          "height": 34
        }
      },
      "source": [
        "# no more nulls\n",
        "train_test_merged.isnull().any().sum()"
      ],
      "execution_count": 0,
      "outputs": [
        {
          "output_type": "execute_result",
          "data": {
            "text/plain": [
              "0"
            ]
          },
          "metadata": {
            "tags": []
          },
          "execution_count": 239
        }
      ]
    },
    {
      "cell_type": "markdown",
      "metadata": {
        "id": "gsVekx1lbNmc",
        "colab_type": "text"
      },
      "source": [
        "**Feature Engineering**"
      ]
    },
    {
      "cell_type": "code",
      "metadata": {
        "id": "4CKVmLdFW0fg",
        "colab_type": "code",
        "colab": {}
      },
      "source": [
        "#Changing the days value to positive\n",
        "train_test_merged['DAYS_EMPLOYED']=abs(train_test_merged['DAYS_EMPLOYED'])\n",
        "train_test_merged['DAYS_BIRTH']=abs(train_test_merged['DAYS_BIRTH'])\n",
        "\n",
        "#Converting days to years\n",
        "train_test_merged['YEARS_EMPLOYED']=train_test_merged['DAYS_EMPLOYED']*1.0/365\n",
        "train_test_merged['YEARS_BIRTH']=train_test_merged['DAYS_BIRTH']*1.0/365"
      ],
      "execution_count": 0,
      "outputs": []
    },
    {
      "cell_type": "code",
      "metadata": {
        "id": "ht-9BDlGdvV4",
        "colab_type": "code",
        "colab": {}
      },
      "source": [
        "# train_test_merged[train_test_merged['Label'] == 'Train'].corr()['TARGET']"
      ],
      "execution_count": 0,
      "outputs": []
    },
    {
      "cell_type": "code",
      "metadata": {
        "id": "B3Vd3abIXhvL",
        "colab_type": "code",
        "colab": {}
      },
      "source": [
        "# Find correlations with the target and sort\n",
        "# abs(train_test_merged.corr()['TARGET']).sort_values(ascending = False)[:10]"
      ],
      "execution_count": 0,
      "outputs": []
    },
    {
      "cell_type": "code",
      "metadata": {
        "id": "HeJ7Nb5lZi6L",
        "colab_type": "code",
        "outputId": "da4051e9-7a78-4c56-d9fd-2833cde9449d",
        "colab": {
          "base_uri": "https://localhost:8080/",
          "height": 370
        }
      },
      "source": [
        "# Bucketing Family size\n",
        "train_test_merged['CNT_FAM_MEMBERS'].value_counts()"
      ],
      "execution_count": 0,
      "outputs": [
        {
          "output_type": "execute_result",
          "data": {
            "text/plain": [
              "2.000000     184411\n",
              "1.000000      78098\n",
              "3.000000      60774\n",
              "4.000000      28387\n",
              "5.000000       3990\n",
              "6.000000        451\n",
              "7.000000         93\n",
              "8.000000         22\n",
              "9.000000          7\n",
              "10.000000         6\n",
              "13.000000         3\n",
              "20.000000         2\n",
              "16.000000         2\n",
              "12.000000         2\n",
              "14.000000         2\n",
              "15.000000         1\n",
              "1.738185          1\n",
              "21.000000         1\n",
              "11.000000         1\n",
              "1.591184          1\n",
              "Name: CNT_FAM_MEMBERS, dtype: int64"
            ]
          },
          "metadata": {
            "tags": []
          },
          "execution_count": 243
        }
      ]
    },
    {
      "cell_type": "code",
      "metadata": {
        "id": "1jpyfaTYZkr3",
        "colab_type": "code",
        "colab": {}
      },
      "source": [
        "bins = pd.IntervalIndex.from_tuples([(0,1), (1,2), (2,4), (4,22)])\n",
        "train_test_merged['FAMILY SIZE'] = pd.cut(train_test_merged['CNT_FAM_MEMBERS'],bins)\n",
        "train_test_merged['FAMILY SIZE']=train_test_merged['FAMILY SIZE'].astype('str')"
      ],
      "execution_count": 0,
      "outputs": []
    },
    {
      "cell_type": "code",
      "metadata": {
        "id": "J-HfkaDxZsGb",
        "colab_type": "code",
        "colab": {}
      },
      "source": [
        "train_test_merged['FAMILY SIZE']=train_test_merged['FAMILY SIZE'].replace('(1, 2]','Small')\n",
        "train_test_merged['FAMILY SIZE']=train_test_merged['FAMILY SIZE'].replace('(0, 1]','Single')\n",
        "train_test_merged['FAMILY SIZE']=train_test_merged['FAMILY SIZE'].replace('(2, 4]','Normal')\n",
        "train_test_merged['FAMILY SIZE']=train_test_merged['FAMILY SIZE'].replace('(4, 22]','Big')"
      ],
      "execution_count": 0,
      "outputs": []
    },
    {
      "cell_type": "code",
      "metadata": {
        "id": "A6dmbPruZuUS",
        "colab_type": "code",
        "outputId": "10d088b0-080b-4339-b69c-9b10b3892c9e",
        "colab": {
          "base_uri": "https://localhost:8080/",
          "height": 312
        }
      },
      "source": [
        "train_test_merged['FAMILY SIZE'].value_counts().plot(kind='bar')"
      ],
      "execution_count": 0,
      "outputs": [
        {
          "output_type": "execute_result",
          "data": {
            "text/plain": [
              "<matplotlib.axes._subplots.AxesSubplot at 0x7f29e208a2b0>"
            ]
          },
          "metadata": {
            "tags": []
          },
          "execution_count": 246
        },
        {
          "output_type": "display_data",
          "data": {
            "image/png": "[encoded data removed]",
            "text/plain": [
              "<Figure size 432x288 with 1 Axes>"
            ]
          },
          "metadata": {
            "tags": []
          }
        }
      ]
    },
    {
      "cell_type": "code",
      "metadata": {
        "id": "OekCOFILZxhR",
        "colab_type": "code",
        "outputId": "b2e1b89b-65fd-4eac-9dbc-c5685f9ddd39",
        "colab": {
          "base_uri": "https://localhost:8080/",
          "height": 302
        }
      },
      "source": [
        "# bucketing children count\n",
        "train_test_merged['CNT_CHILDREN'].value_counts()"
      ],
      "execution_count": 0,
      "outputs": [
        {
          "output_type": "execute_result",
          "data": {
            "text/plain": [
              "0.0     250056\n",
              "1.0      70623\n",
              "2.0      30698\n",
              "3.0       4252\n",
              "4.0        478\n",
              "5.0         96\n",
              "6.0         24\n",
              "7.0          8\n",
              "8.0          5\n",
              "11.0         3\n",
              "14.0         3\n",
              "12.0         2\n",
              "10.0         2\n",
              "19.0         2\n",
              "9.0          2\n",
              "20.0         1\n",
              "Name: CNT_CHILDREN, dtype: int64"
            ]
          },
          "metadata": {
            "tags": []
          },
          "execution_count": 247
        }
      ]
    },
    {
      "cell_type": "code",
      "metadata": {
        "id": "p9BnatXNZ484",
        "colab_type": "code",
        "colab": {}
      },
      "source": [
        "bins = pd.IntervalIndex.from_tuples([(-1,0), (0,20)])\n",
        "train_test_merged['IS_CHILDREN'] = pd.cut(train_test_merged['CNT_CHILDREN'],bins)\n",
        "train_test_merged['IS_CHILDREN']=train_test_merged['IS_CHILDREN'].astype('str')"
      ],
      "execution_count": 0,
      "outputs": []
    },
    {
      "cell_type": "code",
      "metadata": {
        "id": "KtlwY1LwZ7qA",
        "colab_type": "code",
        "colab": {}
      },
      "source": [
        "train_test_merged['IS_CHILDREN']=train_test_merged['IS_CHILDREN'].replace('(-1, 0]','0')\n",
        "train_test_merged['IS_CHILDREN']=train_test_merged['IS_CHILDREN'].replace('(0, 20]','1')"
      ],
      "execution_count": 0,
      "outputs": []
    },
    {
      "cell_type": "code",
      "metadata": {
        "id": "iFg4kv-WZ98h",
        "colab_type": "code",
        "outputId": "85ce921a-04a3-4ebf-bc4d-e34720ce2a76",
        "colab": {
          "base_uri": "https://localhost:8080/",
          "height": 282
        }
      },
      "source": [
        "train_test_merged['IS_CHILDREN'].value_counts().plot(kind='bar')"
      ],
      "execution_count": 0,
      "outputs": [
        {
          "output_type": "execute_result",
          "data": {
            "text/plain": [
              "<matplotlib.axes._subplots.AxesSubplot at 0x7f29cc8616d8>"
            ]
          },
          "metadata": {
            "tags": []
          },
          "execution_count": 250
        },
        {
          "output_type": "display_data",
          "data": {
            "image/png": "[encoded data removed]",
            "text/plain": [
              "<Figure size 432x288 with 1 Axes>"
            ]
          },
          "metadata": {
            "tags": []
          }
        }
      ]
    },
    {
      "cell_type": "code",
      "metadata": {
        "id": "pc_dM0rqiVpv",
        "colab_type": "code",
        "colab": {}
      },
      "source": [
        "# credit income ratio\n",
        "train_test_merged['credit_income_ratio'] = train_test_merged['AMT_CREDIT'] / train_test_merged['AMT_INCOME_TOTAL']"
      ],
      "execution_count": 0,
      "outputs": []
    },
    {
      "cell_type": "code",
      "metadata": {
        "id": "y1YEPjebiWFT",
        "colab_type": "code",
        "colab": {}
      },
      "source": [
        "# annuity income ratio\n",
        "train_test_merged['annuity_income_ratio'] = train_test_merged['AMT_ANNUITY'] / train_test_merged['AMT_INCOME_TOTAL']"
      ],
      "execution_count": 0,
      "outputs": []
    },
    {
      "cell_type": "code",
      "metadata": {
        "id": "Hf28kc9Zbxnr",
        "colab_type": "code",
        "outputId": "c6fc4b05-99e0-460c-efc8-241ec2175939",
        "colab": {
          "base_uri": "https://localhost:8080/",
          "height": 34
        }
      },
      "source": [
        "test.shape"
      ],
      "execution_count": 0,
      "outputs": [
        {
          "output_type": "execute_result",
          "data": {
            "text/plain": [
              "(48744, 123)"
            ]
          },
          "metadata": {
            "tags": []
          },
          "execution_count": 253
        }
      ]
    },
    {
      "cell_type": "markdown",
      "metadata": {
        "id": "yIdjriCsbSWt",
        "colab_type": "text"
      },
      "source": [
        "Split train and test back"
      ]
    },
    {
      "cell_type": "code",
      "metadata": {
        "id": "0dUBsOKbzY_A",
        "colab_type": "code",
        "colab": {}
      },
      "source": [
        "train_test_merged[['REGION_RATING_CLIENT', 'REGION_RATING_CLIENT_W_CITY']]=train_test_merged[['REGION_RATING_CLIENT', 'REGION_RATING_CLIENT_W_CITY']].astype('object')"
      ],
      "execution_count": 0,
      "outputs": []
    },
    {
      "cell_type": "code",
      "metadata": {
        "id": "CLaAZLt9zfh1",
        "colab_type": "code",
        "outputId": "ac48c4bc-7466-4da8-9a66-6b107b978fa8",
        "colab": {
          "base_uri": "https://localhost:8080/",
          "height": 34
        }
      },
      "source": [
        "train_test_merged.shape"
      ],
      "execution_count": 0,
      "outputs": [
        {
          "output_type": "execute_result",
          "data": {
            "text/plain": [
              "(356255, 106)"
            ]
          },
          "metadata": {
            "tags": []
          },
          "execution_count": 255
        }
      ]
    },
    {
      "cell_type": "code",
      "metadata": {
        "id": "05YT-tnyqhzj",
        "colab_type": "code",
        "colab": {}
      },
      "source": [
        "train_test_merged_dummy = pd.get_dummies(train_test_merged)"
      ],
      "execution_count": 0,
      "outputs": []
    },
    {
      "cell_type": "code",
      "metadata": {
        "id": "OPYj9Pe1q__6",
        "colab_type": "code",
        "outputId": "2c0bfac1-4797-47c2-faef-a8b1b0140cba",
        "colab": {
          "base_uri": "https://localhost:8080/",
          "height": 34
        }
      },
      "source": [
        "train_test_merged_dummy.shape, train_test_merged.shape"
      ],
      "execution_count": 0,
      "outputs": [
        {
          "output_type": "execute_result",
          "data": {
            "text/plain": [
              "((356255, 237), (356255, 106))"
            ]
          },
          "metadata": {
            "tags": []
          },
          "execution_count": 257
        }
      ]
    },
    {
      "cell_type": "code",
      "metadata": {
        "id": "ZjefahHpn4Uu",
        "colab_type": "code",
        "colab": {}
      },
      "source": [
        "# Feature names\n",
        "features = list(train_test_merged_dummy.columns)"
      ],
      "execution_count": 0,
      "outputs": []
    },
    {
      "cell_type": "code",
      "metadata": {
        "id": "jHpe-gVSv4Tl",
        "colab_type": "code",
        "outputId": "92aedd03-107d-40a7-b94d-7cbb655b3f71",
        "colab": {
          "base_uri": "https://localhost:8080/",
          "height": 84
        }
      },
      "source": [
        "train_test_merged_dummy['TARGET'].value_counts()"
      ],
      "execution_count": 0,
      "outputs": [
        {
          "output_type": "execute_result",
          "data": {
            "text/plain": [
              " 0      282686\n",
              "-999     48744\n",
              " 1       24825\n",
              "Name: TARGET, dtype: int64"
            ]
          },
          "metadata": {
            "tags": []
          },
          "execution_count": 259
        }
      ]
    },
    {
      "cell_type": "code",
      "metadata": {
        "id": "F8fI-tVSv6eH",
        "colab_type": "code",
        "outputId": "857bf80f-2191-4ce1-e628-e3cb82441a73",
        "colab": {
          "base_uri": "https://localhost:8080/",
          "height": 84
        }
      },
      "source": [
        "train_test_merged['TARGET'].value_counts()"
      ],
      "execution_count": 0,
      "outputs": [
        {
          "output_type": "execute_result",
          "data": {
            "text/plain": [
              " 0      282686\n",
              "-999     48744\n",
              " 1       24825\n",
              "Name: TARGET, dtype: int64"
            ]
          },
          "metadata": {
            "tags": []
          },
          "execution_count": 260
        }
      ]
    },
    {
      "cell_type": "code",
      "metadata": {
        "id": "xsKeKgOCi3Xs",
        "colab_type": "code",
        "colab": {}
      },
      "source": [
        "# # Scale each feature to 0-1\n",
        "\n",
        "# from sklearn.preprocessing import MinMaxScaler\n",
        "\n",
        "# scaler = MinMaxScaler(feature_range = (0, 1))\n",
        "\n",
        "# scaler.fit(train_test_merged_dummy)\n",
        "# train_test_merged_dummy = pd.DataFrame(scaler.transform(train_test_merged_dummy))\n",
        "\n",
        "# train_test_merged_dummy.columns = features\n",
        "# train_test_merged_dummy.head()"
      ],
      "execution_count": 0,
      "outputs": []
    },
    {
      "cell_type": "code",
      "metadata": {
        "colab_type": "code",
        "outputId": "a534009f-32d8-4074-e886-1ec66f3dfe85",
        "id": "BLae2hORpPMS",
        "colab": {
          "base_uri": "https://localhost:8080/",
          "height": 84
        }
      },
      "source": [
        "train_test_merged_dummy['Train_YN'] = train_test_merged['Train_YN'].copy()\n",
        "train_test_merged_dummy['TARGET'] = train_test_merged['TARGET'].copy()\n",
        "train_test_merged_dummy['TARGET'].value_counts()"
      ],
      "execution_count": 0,
      "outputs": [
        {
          "output_type": "execute_result",
          "data": {
            "text/plain": [
              " 0      282686\n",
              "-999     48744\n",
              " 1       24825\n",
              "Name: TARGET, dtype: int64"
            ]
          },
          "metadata": {
            "tags": []
          },
          "execution_count": 262
        }
      ]
    },
    {
      "cell_type": "code",
      "metadata": {
        "id": "w9cbGiz3bW7L",
        "colab_type": "code",
        "colab": {}
      },
      "source": [
        "train = train_test_merged_dummy[train_test_merged_dummy['Train_YN'] == 1.0].copy()\n",
        "test = train_test_merged_dummy[train_test_merged_dummy['Train_YN'] == 0.0].copy()"
      ],
      "execution_count": 0,
      "outputs": []
    },
    {
      "cell_type": "code",
      "metadata": {
        "id": "2pMhuxC4b_hY",
        "colab_type": "code",
        "outputId": "f1ed08e5-7a5e-4d16-da14-fd3bfc4181c1",
        "colab": {
          "base_uri": "https://localhost:8080/",
          "height": 34
        }
      },
      "source": [
        "test.shape, train.shape"
      ],
      "execution_count": 0,
      "outputs": [
        {
          "output_type": "execute_result",
          "data": {
            "text/plain": [
              "((48744, 237), (307511, 237))"
            ]
          },
          "metadata": {
            "tags": []
          },
          "execution_count": 264
        }
      ]
    },
    {
      "cell_type": "code",
      "metadata": {
        "id": "46BK3qVavosW",
        "colab_type": "code",
        "outputId": "8dd53508-7a8d-4d5b-bc94-b5b0d6f0f21b",
        "colab": {
          "base_uri": "https://localhost:8080/",
          "height": 50
        }
      },
      "source": [
        "test['TARGET'].value_counts()"
      ],
      "execution_count": 0,
      "outputs": [
        {
          "output_type": "execute_result",
          "data": {
            "text/plain": [
              "-999    48744\n",
              "Name: TARGET, dtype: int64"
            ]
          },
          "metadata": {
            "tags": []
          },
          "execution_count": 265
        }
      ]
    },
    {
      "cell_type": "code",
      "metadata": {
        "id": "2qJ4DqpuwUc3",
        "colab_type": "code",
        "colab": {}
      },
      "source": [
        "test.drop(columns = ['TARGET','Train_YN'], inplace = True)\n",
        "train.drop(columns = ['Train_YN'], inplace = True)"
      ],
      "execution_count": 0,
      "outputs": []
    },
    {
      "cell_type": "code",
      "metadata": {
        "id": "_iGi3MpNzI9s",
        "colab_type": "code",
        "outputId": "a5fff15d-920f-4faf-a8e7-5f48ee6d7935",
        "colab": {
          "base_uri": "https://localhost:8080/",
          "height": 34
        }
      },
      "source": [
        "train.shape, test.shape"
      ],
      "execution_count": 0,
      "outputs": [
        {
          "output_type": "execute_result",
          "data": {
            "text/plain": [
              "((307511, 236), (48744, 235))"
            ]
          },
          "metadata": {
            "tags": []
          },
          "execution_count": 267
        }
      ]
    },
    {
      "cell_type": "markdown",
      "metadata": {
        "id": "5_JPKziTcjPO",
        "colab_type": "text"
      },
      "source": [
        "**##** \"train\" and \"test\" are our processed and cleaned data"
      ]
    },
    {
      "cell_type": "code",
      "metadata": {
        "id": "_yJLSBfV7-Qc",
        "colab_type": "code",
        "outputId": "451b69da-22a6-4757-adf1-6a5d7b589383",
        "colab": {
          "base_uri": "https://localhost:8080/",
          "height": 118
        }
      },
      "source": [
        "# y will be target variable\n",
        "y = train['TARGET'].copy()\n",
        "y.head()"
      ],
      "execution_count": 0,
      "outputs": [
        {
          "output_type": "execute_result",
          "data": {
            "text/plain": [
              "0    1\n",
              "1    0\n",
              "2    0\n",
              "3    0\n",
              "4    0\n",
              "Name: TARGET, dtype: int64"
            ]
          },
          "metadata": {
            "tags": []
          },
          "execution_count": 268
        }
      ]
    },
    {
      "cell_type": "code",
      "metadata": {
        "id": "u9G-Ux6V8plO",
        "colab_type": "code",
        "outputId": "e8166f45-b485-4ce3-d172-236ef839f39a",
        "colab": {
          "base_uri": "https://localhost:8080/",
          "height": 34
        }
      },
      "source": [
        "# removing target variable from train, we already have separate target variable field in the above step. Also SK_ID_CURR is just serial number so removing them\n",
        "train.drop(columns = ['TARGET'], inplace = True)\n",
        "train.shape, test.shape"
      ],
      "execution_count": 0,
      "outputs": [
        {
          "output_type": "execute_result",
          "data": {
            "text/plain": [
              "((307511, 235), (48744, 235))"
            ]
          },
          "metadata": {
            "tags": []
          },
          "execution_count": 269
        }
      ]
    },
    {
      "cell_type": "markdown",
      "metadata": {
        "id": "RzE6baUagbau",
        "colab_type": "text"
      },
      "source": [
        "**Treating Data Imbalance - Oversampling using SMOTE**"
      ]
    },
    {
      "cell_type": "code",
      "metadata": {
        "id": "SnEMyXdGgrvs",
        "colab_type": "code",
        "colab": {}
      },
      "source": [
        "# SMOTENC incorporate categorical variables as well but is slower\n",
        "# from imblearn.over_sampling import SMOTENC\n",
        "# categ_column_loc = [train.columns.get_loc(c) for c in train.columns if c in train.columns[train.dtypes.values == 'O']]\n",
        "# sm = SMOTENC(categorical_features = categ_column_loc , random_state = 0)\n",
        "\n",
        "# train_resample, y_resample = sm.fit_resample(train, y)\n",
        "\n",
        "# y_resample = pd.Series(y_resample)\n",
        "# train.shape, y.shape, train_resample.shape, y_resample.shape"
      ],
      "execution_count": 0,
      "outputs": []
    },
    {
      "cell_type": "code",
      "metadata": {
        "id": "UAaO_gwkig0W",
        "colab_type": "code",
        "colab": {}
      },
      "source": [
        "## SMOTE - faster but need to encode categorical data\n",
        "from imblearn.over_sampling import SMOTE\n",
        "train_resample, y_resample = SMOTE().fit_resample(train,y)\n",
        "\n",
        "y_resample = pd.Series(y_resample)\n",
        "train_resample = pd.DataFrame(train_resample)\n",
        "train.shape, y.shape, train_resample.shape, y_resample.shape"
      ],
      "execution_count": 0,
      "outputs": []
    },
    {
      "cell_type": "code",
      "metadata": {
        "id": "IdAsU_Oz02Gn",
        "colab_type": "code",
        "colab": {}
      },
      "source": [
        "train_resample.columns = train.columns"
      ],
      "execution_count": 0,
      "outputs": []
    },
    {
      "cell_type": "code",
      "metadata": {
        "id": "VfgHfmkN1Ekh",
        "colab_type": "code",
        "colab": {}
      },
      "source": [
        "train_resample.head()"
      ],
      "execution_count": 0,
      "outputs": []
    },
    {
      "cell_type": "code",
      "metadata": {
        "id": "ss_dZ-PHjDxI",
        "colab_type": "code",
        "colab": {}
      },
      "source": [
        "y_resample.value_counts()"
      ],
      "execution_count": 0,
      "outputs": []
    },
    {
      "cell_type": "markdown",
      "metadata": {
        "id": "ZcC_82X0lKNT",
        "colab_type": "text"
      },
      "source": [
        "We will use the resampling output for model building"
      ]
    },
    {
      "cell_type": "markdown",
      "metadata": {
        "id": "S_6X1AkFkQK6",
        "colab_type": "text"
      },
      "source": [
        "**Model Building - 2.1 RandomForest without Resampling**"
      ]
    },
    {
      "cell_type": "code",
      "metadata": {
        "id": "avovqph3kOMn",
        "colab_type": "code",
        "colab": {}
      },
      "source": [
        "from sklearn.ensemble import RandomForestClassifier\n",
        "\n",
        "# Initialize\n",
        "random_forest = RandomForestClassifier(n_estimators = 100, random_state = 50, verbose = 1, n_jobs = -1) #n_jobs = -1 meaning utilize all system resources"
      ],
      "execution_count": 0,
      "outputs": []
    },
    {
      "cell_type": "code",
      "metadata": {
        "id": "Bl1e9kxKkk9t",
        "colab_type": "code",
        "outputId": "d7b2d593-4334-4785-fcef-49aa5a2419ef",
        "colab": {
          "base_uri": "https://localhost:8080/",
          "height": 67
        }
      },
      "source": [
        "# Fit the model\n",
        "rf_model = random_forest.fit(train, y)"
      ],
      "execution_count": 0,
      "outputs": [
        {
          "output_type": "stream",
          "text": [
            "[Parallel(n_jobs=-1)]: Using backend ThreadingBackend with 4 concurrent workers.\n",
            "[Parallel(n_jobs=-1)]: Done  42 tasks      | elapsed:   37.6s\n",
            "[Parallel(n_jobs=-1)]: Done 100 out of 100 | elapsed:  1.5min finished\n"
          ],
          "name": "stderr"
        }
      ]
    },
    {
      "cell_type": "code",
      "metadata": {
        "id": "nmRpHs9RkpME",
        "colab_type": "code",
        "outputId": "a2f7904b-255d-48ef-930a-fde52cd3854e",
        "colab": {
          "base_uri": "https://localhost:8080/",
          "height": 67
        }
      },
      "source": [
        "# Make predictions on the test data\n",
        "pred_rf = random_forest.predict_proba(test)[:, 1]"
      ],
      "execution_count": 0,
      "outputs": [
        {
          "output_type": "stream",
          "text": [
            "[Parallel(n_jobs=4)]: Using backend ThreadingBackend with 4 concurrent workers.\n",
            "[Parallel(n_jobs=4)]: Done  42 tasks      | elapsed:    0.3s\n",
            "[Parallel(n_jobs=4)]: Done 100 out of 100 | elapsed:    0.8s finished\n"
          ],
          "name": "stderr"
        }
      ]
    },
    {
      "cell_type": "code",
      "metadata": {
        "id": "fsobIc4_k_Iw",
        "colab_type": "code",
        "colab": {}
      },
      "source": [
        "final_RF_pred = pd.DataFrame(pred_rf)\n",
        "#final_RF_pred.to_csv('rf_pred.csv')"
      ],
      "execution_count": 0,
      "outputs": []
    },
    {
      "cell_type": "code",
      "metadata": {
        "id": "4n3sbFRgyyO6",
        "colab_type": "code",
        "outputId": "1e36d0ac-c77a-4828-8232-4e7e9942f5e9",
        "colab": {
          "base_uri": "https://localhost:8080/",
          "height": 639
        }
      },
      "source": [
        "feature_importances = pd.DataFrame(rf_model.feature_importances_, index = train.columns, columns=['importance']).sort_values('importance', ascending=False)\n",
        "feature_importances[:20]"
      ],
      "execution_count": 0,
      "outputs": [
        {
          "output_type": "execute_result",
          "data": {
            "text/html": [
              "<div>\n",
              "<style scoped>\n",
              "    .dataframe tbody tr th:only-of-type {\n",
              "        vertical-align: middle;\n",
              "    }\n",
              "\n",
              "    .dataframe tbody tr th {\n",
              "        vertical-align: top;\n",
              "    }\n",
              "\n",
              "    .dataframe thead th {\n",
              "        text-align: right;\n",
              "    }\n",
              "</style>\n",
              "<table border=\"1\" class=\"dataframe\">\n",
              "  <thead>\n",
              "    <tr style=\"text-align: right;\">\n",
              "      <th></th>\n",
              "      <th>importance</th>\n",
              "    </tr>\n",
              "  </thead>\n",
              "  <tbody>\n",
              "    <tr>\n",
              "      <th>EXT_SOURCE_2</th>\n",
              "      <td>0.037767</td>\n",
              "    </tr>\n",
              "    <tr>\n",
              "      <th>EXT_SOURCE_3</th>\n",
              "      <td>0.037199</td>\n",
              "    </tr>\n",
              "    <tr>\n",
              "      <th>EXT_SOURCE_1</th>\n",
              "      <td>0.029437</td>\n",
              "    </tr>\n",
              "    <tr>\n",
              "      <th>DAYS_ID_PUBLISH</th>\n",
              "      <td>0.022429</td>\n",
              "    </tr>\n",
              "    <tr>\n",
              "      <th>DAYS_BIRTH</th>\n",
              "      <td>0.021891</td>\n",
              "    </tr>\n",
              "    <tr>\n",
              "      <th>DAYS_REGISTRATION</th>\n",
              "      <td>0.021734</td>\n",
              "    </tr>\n",
              "    <tr>\n",
              "      <th>YEARS_BIRTH</th>\n",
              "      <td>0.021606</td>\n",
              "    </tr>\n",
              "    <tr>\n",
              "      <th>SK_ID_CURR</th>\n",
              "      <td>0.021249</td>\n",
              "    </tr>\n",
              "    <tr>\n",
              "      <th>annuity_income_ratio</th>\n",
              "      <td>0.021149</td>\n",
              "    </tr>\n",
              "    <tr>\n",
              "      <th>credit_income_ratio</th>\n",
              "      <td>0.020210</td>\n",
              "    </tr>\n",
              "    <tr>\n",
              "      <th>YEARS_EMPLOYED</th>\n",
              "      <td>0.020123</td>\n",
              "    </tr>\n",
              "    <tr>\n",
              "      <th>DAYS_EMPLOYED</th>\n",
              "      <td>0.019873</td>\n",
              "    </tr>\n",
              "    <tr>\n",
              "      <th>AMT_ANNUITY</th>\n",
              "      <td>0.019674</td>\n",
              "    </tr>\n",
              "    <tr>\n",
              "      <th>DAYS_LAST_PHONE_CHANGE</th>\n",
              "      <td>0.019183</td>\n",
              "    </tr>\n",
              "    <tr>\n",
              "      <th>LIVINGAREA_AVG</th>\n",
              "      <td>0.018793</td>\n",
              "    </tr>\n",
              "    <tr>\n",
              "      <th>TOTALAREA_MODE</th>\n",
              "      <td>0.018288</td>\n",
              "    </tr>\n",
              "    <tr>\n",
              "      <th>AMT_CREDIT</th>\n",
              "      <td>0.018286</td>\n",
              "    </tr>\n",
              "    <tr>\n",
              "      <th>LIVINGAREA_MODE</th>\n",
              "      <td>0.018151</td>\n",
              "    </tr>\n",
              "    <tr>\n",
              "      <th>LIVINGAREA_MEDI</th>\n",
              "      <td>0.017934</td>\n",
              "    </tr>\n",
              "    <tr>\n",
              "      <th>YEARS_BEGINEXPLUATATION_MEDI</th>\n",
              "      <td>0.017887</td>\n",
              "    </tr>\n",
              "  </tbody>\n",
              "</table>\n",
              "</div>"
            ],
            "text/plain": [
              "                              importance\n",
              "EXT_SOURCE_2                    0.037767\n",
              "EXT_SOURCE_3                    0.037199\n",
              "EXT_SOURCE_1                    0.029437\n",
              "DAYS_ID_PUBLISH                 0.022429\n",
              "DAYS_BIRTH                      0.021891\n",
              "DAYS_REGISTRATION               0.021734\n",
              "YEARS_BIRTH                     0.021606\n",
              "SK_ID_CURR                      0.021249\n",
              "annuity_income_ratio            0.021149\n",
              "credit_income_ratio             0.020210\n",
              "YEARS_EMPLOYED                  0.020123\n",
              "DAYS_EMPLOYED                   0.019873\n",
              "AMT_ANNUITY                     0.019674\n",
              "DAYS_LAST_PHONE_CHANGE          0.019183\n",
              "LIVINGAREA_AVG                  0.018793\n",
              "TOTALAREA_MODE                  0.018288\n",
              "AMT_CREDIT                      0.018286\n",
              "LIVINGAREA_MODE                 0.018151\n",
              "LIVINGAREA_MEDI                 0.017934\n",
              "YEARS_BEGINEXPLUATATION_MEDI    0.017887"
            ]
          },
          "metadata": {
            "tags": []
          },
          "execution_count": 325
        }
      ]
    },
    {
      "cell_type": "code",
      "metadata": {
        "id": "9ayxCG-uzBw6",
        "colab_type": "code",
        "outputId": "c0ab6fdc-9513-475a-b74c-a51c7ed4f0d7",
        "colab": {
          "base_uri": "https://localhost:8080/",
          "height": 450
        }
      },
      "source": [
        "feature_importances[:20].plot(kind='bar')"
      ],
      "execution_count": 0,
      "outputs": [
        {
          "output_type": "execute_result",
          "data": {
            "text/plain": [
              "<matplotlib.axes._subplots.AxesSubplot at 0x7f29c2f2b320>"
            ]
          },
          "metadata": {
            "tags": []
          },
          "execution_count": 326
        },
        {
          "output_type": "display_data",
          "data": {
            "image/png": "[encoded data removed]",
            "text/plain": [
              "<Figure size 432x288 with 1 Axes>"
            ]
          },
          "metadata": {
            "tags": []
          }
        }
      ]
    },
    {
      "cell_type": "markdown",
      "metadata": {
        "id": "7xLZIKsdiYqW",
        "colab_type": "text"
      },
      "source": [
        "*Test AUC - 0.698*"
      ]
    },
    {
      "cell_type": "markdown",
      "metadata": {
        "id": "qZuaqKdThoYj",
        "colab_type": "text"
      },
      "source": [
        "**Model Building - 2.2 RandomForest with SMOTE**"
      ]
    },
    {
      "cell_type": "code",
      "metadata": {
        "id": "Txj4lDxfhvBm",
        "colab_type": "code",
        "colab": {}
      },
      "source": [
        "rf_model_resample = random_forest.fit(train_resample, y_resample)\n",
        "pred_rf_resample = random_forest.predict_proba(test)[:, 1]\n",
        "final_RF_pred_resample = pd.DataFrame(pred_rf_resample)\n",
        "final_RF_pred_resample.to_csv('rf_pred_resample.csv')"
      ],
      "execution_count": 0,
      "outputs": []
    },
    {
      "cell_type": "markdown",
      "metadata": {
        "id": "uM7-orHljWAl",
        "colab_type": "text"
      },
      "source": [
        "*Test AUC - 0.691*"
      ]
    },
    {
      "cell_type": "markdown",
      "metadata": {
        "id": "T7hRgYkh73qK",
        "colab_type": "text"
      },
      "source": [
        "**Logistic Regression**"
      ]
    },
    {
      "cell_type": "code",
      "metadata": {
        "id": "6LGhZWPJ795f",
        "colab_type": "code",
        "outputId": "cdf3a479-2507-4497-bb1e-b69f9af6968c",
        "colab": {
          "base_uri": "https://localhost:8080/",
          "height": 50
        }
      },
      "source": [
        "from sklearn.linear_model import LogisticRegression\n",
        "from sklearn.preprocessing import MinMaxScaler\n",
        "scaler = MinMaxScaler(feature_range = (0, 1))\n",
        "\n",
        "scaler.fit(train)\n",
        "train_scaled = scaler.transform(train)\n",
        "test_scaled = scaler.transform(test)\n",
        "\n",
        "log_model = LogisticRegression(random_state=0, solver='lbfgs', multi_class='multinomial',C=0.1).fit(train_scaled, y)\n",
        "pred_log = log_model.predict_proba(test_scaled)[:,1]"
      ],
      "execution_count": 0,
      "outputs": [
        {
          "output_type": "stream",
          "text": [
            "/usr/local/lib/python3.6/dist-packages/sklearn/linear_model/logistic.py:947: ConvergenceWarning: lbfgs failed to converge. Increase the number of iterations.\n",
            "  \"of iterations.\", ConvergenceWarning)\n"
          ],
          "name": "stderr"
        }
      ]
    },
    {
      "cell_type": "code",
      "metadata": {
        "id": "7Lnz97h_845I",
        "colab_type": "code",
        "outputId": "3b4bb483-f826-4d44-c236-e11695c30986",
        "colab": {
          "base_uri": "https://localhost:8080/",
          "height": 1000
        }
      },
      "source": [
        "log_model.coef_"
      ],
      "execution_count": 0,
      "outputs": [
        {
          "output_type": "execute_result",
          "data": {
            "text/plain": [
              "array([[ 5.97369141e-01,  5.87590129e-01, -9.72336827e-01,\n",
              "         3.81754246e-02,  5.08169155e-02, -4.32882659e-02,\n",
              "        -3.44969167e-01, -8.96825635e-02, -2.22713429e-01,\n",
              "         9.12853364e-02,  2.60724348e-02,  1.67780737e-02,\n",
              "         3.15675897e-02,  2.92410696e-02,  2.89014666e-02,\n",
              "         2.12843377e-01, -2.64910734e-01,  1.60233537e-01,\n",
              "         1.26317257e-01,  1.11341191e-01,  7.24579016e-01,\n",
              "         7.49346455e-01, -2.45879302e-02, -3.14359660e-02,\n",
              "         3.41806052e-02, -5.17743003e-02, -7.42339814e-02,\n",
              "        -7.75546315e-02, -9.76322978e-01, -8.15728640e-01,\n",
              "        -1.17017256e+00, -1.09656945e-01, -1.99017675e-02,\n",
              "        -6.96932294e-02, -9.92765192e-04, -4.19792054e-01,\n",
              "        -3.13204236e-01, -2.89203104e-01, -1.81926133e-01,\n",
              "        -1.07009948e-01, -1.94837225e-01, -7.28157172e-02,\n",
              "         1.35040318e-01,  5.22517654e-02,  4.95775139e-02,\n",
              "         1.55525984e-01, -3.34161417e-02,  1.26432832e-01,\n",
              "         1.23545252e-01,  7.19617867e-03,  5.40557966e-02,\n",
              "         1.16313461e-01, -2.82707958e-02, -6.57092395e-02,\n",
              "        -4.83003135e-03, -3.45235287e-02,  6.52331526e-02,\n",
              "        -4.99626034e-02, -5.80562118e-02, -7.57667358e-02,\n",
              "        -9.06552386e-03,  3.22242409e-02, -6.76378203e-02,\n",
              "         2.30383605e-02,  3.43635965e-03,  1.90521646e-02,\n",
              "         2.27507737e-02, -1.32835831e-02, -6.77097173e-02,\n",
              "         1.05843062e-01,  1.04296620e-01,  3.06533983e-02,\n",
              "         9.69523185e-02, -5.47694340e-02, -8.45482683e-02,\n",
              "         3.55111515e-02, -8.36514566e-03,  5.62289729e-02,\n",
              "        -4.68530403e-02, -7.03517621e-02, -3.09248106e-02,\n",
              "        -2.64910734e-01,  2.12843377e-01,  2.75230753e-01,\n",
              "         6.82913315e-01, -7.40329206e-02,  7.76703905e-02,\n",
              "        -1.04300751e-02,  3.35091866e-02, -2.99989668e-02,\n",
              "        -1.03028250e-02,  5.96525523e-02, -6.64451575e-02,\n",
              "        -1.69084780e-02,  1.01158729e-02, -2.06255724e-02,\n",
              "         2.91137034e-02, -1.52807361e-02,  1.97304123e-02,\n",
              "        -2.65230174e-02, -2.59959684e-01, -2.64802605e-02,\n",
              "         2.38112841e-02,  1.45141547e-01,  1.10694509e-01,\n",
              "         3.95222897e-02, -4.43244564e-02,  2.87041029e-02,\n",
              "         9.25814780e-03, -2.37330358e-03, -3.75793856e-02,\n",
              "        -1.66189144e-02, -1.09016996e-03,  7.15449848e-02,\n",
              "        -9.67337833e-02,  2.91347330e-02,  6.97054455e-03,\n",
              "        -8.75111489e-03, -1.72642672e-02,  7.27442782e-02,\n",
              "        -2.23359640e-01, -3.01785784e-02, -6.76603470e-02,\n",
              "         2.45579891e-01,  2.20971729e-02,  2.99304030e-02,\n",
              "        -7.04145369e-03, -2.88140598e-02, -3.85883519e-02,\n",
              "         5.41910988e-02, -2.45776872e-02,  8.10744564e-03,\n",
              "        -7.19690182e-02,  2.00559153e-02,  1.40670959e-02,\n",
              "        -4.09077158e-02,  5.86046489e-02,  3.75201366e-02,\n",
              "        -5.78926805e-02, -3.17067289e-02,  1.17250498e-02,\n",
              "         9.83981627e-02, -8.85596138e-03, -3.16400157e-02,\n",
              "        -6.92133877e-02, -2.95821138e-02, -4.01633343e-03,\n",
              "         3.02263026e-02,  5.10699334e-02,  1.73241050e-02,\n",
              "         9.42226770e-02,  5.76021095e-02, -9.96637037e-02,\n",
              "         9.20490719e-04,  2.71627946e-02,  5.37830642e-02,\n",
              "         1.13405637e-01,  1.44760164e-01, -2.73650174e-03,\n",
              "        -4.45018884e-02, -6.51502717e-02, -1.18569929e-02,\n",
              "        -1.06058883e-01,  1.03191678e-02,  6.24188313e-02,\n",
              "        -6.43297667e-02,  2.16062656e-02, -2.33247973e-01,\n",
              "         1.77427617e-02, -1.20805832e-01,  7.17279088e-02,\n",
              "         1.43779163e-02, -9.78617710e-02, -1.83065109e-02,\n",
              "        -5.03573558e-03,  3.17719400e-02, -1.21611338e-01,\n",
              "         1.38857834e-02, -5.45640507e-03,  2.46542188e-01,\n",
              "        -5.32612588e-03, -1.70287127e-01,  3.89480673e-02,\n",
              "         1.16290213e-02, -1.13059955e-01,  4.64791690e-02,\n",
              "         3.53486082e-01, -1.13945182e-02,  6.20173815e-02,\n",
              "        -4.40414759e-02, -2.62858065e-02, -1.37486635e-01,\n",
              "         9.44987293e-02,  1.34146207e-02,  9.22319551e-02,\n",
              "        -3.02488225e-03, -9.46097667e-02,  7.90039954e-02,\n",
              "        -1.13870764e-01, -2.53605708e-02, -1.51429197e-01,\n",
              "         6.50298846e-02, -1.60679129e-01, -1.77880162e-02,\n",
              "         2.02009659e-01,  3.32495815e-02, -5.34826113e-02,\n",
              "         4.37097026e-02,  1.15582470e-01, -6.17184356e-02,\n",
              "        -6.06566400e-02,  0.00000000e+00, -1.56294944e-01,\n",
              "         4.80078333e-02,  1.01494505e-01, -2.57407072e-02,\n",
              "         3.07284420e-02, -4.51867741e-02,  5.40613519e-02,\n",
              "        -3.10501410e-02,  1.35301221e-02, -3.13489894e-03,\n",
              "         1.33857058e-02, -1.65746676e-02, -1.82190692e-02,\n",
              "        -3.05343454e-02,  5.90525656e-03,  2.38539791e-02,\n",
              "         1.53905356e-02, -9.35209107e-03, -1.89192805e-02,\n",
              "         9.97691044e-03,  1.15018560e-02, -2.55740005e-02,\n",
              "         1.87813954e-02]])"
            ]
          },
          "metadata": {
            "tags": []
          },
          "execution_count": 271
        }
      ]
    },
    {
      "cell_type": "code",
      "metadata": {
        "id": "hT-FocwBSDRI",
        "colab_type": "code",
        "outputId": "4f51d4c7-fd66-41de-f589-d811ab76ad7e",
        "colab": {
          "base_uri": "https://localhost:8080/",
          "height": 218
        }
      },
      "source": [
        "train.columns"
      ],
      "execution_count": 0,
      "outputs": [
        {
          "output_type": "execute_result",
          "data": {
            "text/plain": [
              "Index(['AMT_ANNUITY', 'AMT_CREDIT', 'AMT_GOODS_PRICE', 'AMT_INCOME_TOTAL',\n",
              "       'AMT_REQ_CREDIT_BUREAU_DAY', 'AMT_REQ_CREDIT_BUREAU_HOUR',\n",
              "       'AMT_REQ_CREDIT_BUREAU_MON', 'AMT_REQ_CREDIT_BUREAU_QRT',\n",
              "       'AMT_REQ_CREDIT_BUREAU_WEEK', 'AMT_REQ_CREDIT_BUREAU_YEAR',\n",
              "       ...\n",
              "       'WEEKDAY_APPR_PROCESS_START_SUNDAY',\n",
              "       'WEEKDAY_APPR_PROCESS_START_THURSDAY',\n",
              "       'WEEKDAY_APPR_PROCESS_START_TUESDAY',\n",
              "       'WEEKDAY_APPR_PROCESS_START_WEDNESDAY', 'FAMILY SIZE_Big',\n",
              "       'FAMILY SIZE_Normal', 'FAMILY SIZE_Single', 'FAMILY SIZE_Small',\n",
              "       'IS_CHILDREN_0', 'IS_CHILDREN_1'],\n",
              "      dtype='object', length=235)"
            ]
          },
          "metadata": {
            "tags": []
          },
          "execution_count": 272
        }
      ]
    },
    {
      "cell_type": "code",
      "metadata": {
        "id": "FoLV6Cdydq96",
        "colab_type": "code",
        "colab": {}
      },
      "source": [
        "log_model_features=pd.DataFrame(log_model.coef_[0])\n",
        "log_model_features.index=train.columns"
      ],
      "execution_count": 0,
      "outputs": []
    },
    {
      "cell_type": "code",
      "metadata": {
        "id": "nsP1nl7QeM5c",
        "colab_type": "code",
        "outputId": "e5955bf0-d742-46e2-97c4-799fc8b1de8c",
        "colab": {
          "base_uri": "https://localhost:8080/",
          "height": 639
        }
      },
      "source": [
        "log_model_features.columns=['Importance Score']\n",
        "log_model_features.sort_values(by='Importance Score',ascending=False)[:20]"
      ],
      "execution_count": 0,
      "outputs": [
        {
          "output_type": "execute_result",
          "data": {
            "text/html": [
              "<div>\n",
              "<style scoped>\n",
              "    .dataframe tbody tr th:only-of-type {\n",
              "        vertical-align: middle;\n",
              "    }\n",
              "\n",
              "    .dataframe tbody tr th {\n",
              "        vertical-align: top;\n",
              "    }\n",
              "\n",
              "    .dataframe thead th {\n",
              "        text-align: right;\n",
              "    }\n",
              "</style>\n",
              "<table border=\"1\" class=\"dataframe\">\n",
              "  <thead>\n",
              "    <tr style=\"text-align: right;\">\n",
              "      <th></th>\n",
              "      <th>Importance Score</th>\n",
              "    </tr>\n",
              "  </thead>\n",
              "  <tbody>\n",
              "    <tr>\n",
              "      <th>DEF_60_CNT_SOCIAL_CIRCLE</th>\n",
              "      <td>0.749346</td>\n",
              "    </tr>\n",
              "    <tr>\n",
              "      <th>DEF_30_CNT_SOCIAL_CIRCLE</th>\n",
              "      <td>0.724579</td>\n",
              "    </tr>\n",
              "    <tr>\n",
              "      <th>annuity_income_ratio</th>\n",
              "      <td>0.682913</td>\n",
              "    </tr>\n",
              "    <tr>\n",
              "      <th>AMT_ANNUITY</th>\n",
              "      <td>0.597369</td>\n",
              "    </tr>\n",
              "    <tr>\n",
              "      <th>AMT_CREDIT</th>\n",
              "      <td>0.587590</td>\n",
              "    </tr>\n",
              "    <tr>\n",
              "      <th>ORGANIZATION_TYPE_Realtor</th>\n",
              "      <td>0.353486</td>\n",
              "    </tr>\n",
              "    <tr>\n",
              "      <th>credit_income_ratio</th>\n",
              "      <td>0.275231</td>\n",
              "    </tr>\n",
              "    <tr>\n",
              "      <th>ORGANIZATION_TYPE_Legal Services</th>\n",
              "      <td>0.246542</td>\n",
              "    </tr>\n",
              "    <tr>\n",
              "      <th>NAME_INCOME_TYPE_Unemployed</th>\n",
              "      <td>0.245580</td>\n",
              "    </tr>\n",
              "    <tr>\n",
              "      <th>DAYS_BIRTH</th>\n",
              "      <td>0.212843</td>\n",
              "    </tr>\n",
              "    <tr>\n",
              "      <th>YEARS_BIRTH</th>\n",
              "      <td>0.212843</td>\n",
              "    </tr>\n",
              "    <tr>\n",
              "      <th>ORGANIZATION_TYPE_Transport: type 3</th>\n",
              "      <td>0.202010</td>\n",
              "    </tr>\n",
              "    <tr>\n",
              "      <th>DAYS_ID_PUBLISH</th>\n",
              "      <td>0.160234</td>\n",
              "    </tr>\n",
              "    <tr>\n",
              "      <th>FLAG_DOCUMENT_3</th>\n",
              "      <td>0.155526</td>\n",
              "    </tr>\n",
              "    <tr>\n",
              "      <th>NAME_EDUCATION_TYPE_Lower secondary</th>\n",
              "      <td>0.145142</td>\n",
              "    </tr>\n",
              "    <tr>\n",
              "      <th>ORGANIZATION_TYPE_Construction</th>\n",
              "      <td>0.144760</td>\n",
              "    </tr>\n",
              "    <tr>\n",
              "      <th>FLAG_DOCUMENT_2</th>\n",
              "      <td>0.135040</td>\n",
              "    </tr>\n",
              "    <tr>\n",
              "      <th>FLAG_DOCUMENT_5</th>\n",
              "      <td>0.126433</td>\n",
              "    </tr>\n",
              "    <tr>\n",
              "      <th>DAYS_LAST_PHONE_CHANGE</th>\n",
              "      <td>0.126317</td>\n",
              "    </tr>\n",
              "    <tr>\n",
              "      <th>FLAG_DOCUMENT_6</th>\n",
              "      <td>0.123545</td>\n",
              "    </tr>\n",
              "  </tbody>\n",
              "</table>\n",
              "</div>"
            ],
            "text/plain": [
              "                                     Importance Score\n",
              "DEF_60_CNT_SOCIAL_CIRCLE                     0.749346\n",
              "DEF_30_CNT_SOCIAL_CIRCLE                     0.724579\n",
              "annuity_income_ratio                         0.682913\n",
              "AMT_ANNUITY                                  0.597369\n",
              "AMT_CREDIT                                   0.587590\n",
              "ORGANIZATION_TYPE_Realtor                    0.353486\n",
              "credit_income_ratio                          0.275231\n",
              "ORGANIZATION_TYPE_Legal Services             0.246542\n",
              "NAME_INCOME_TYPE_Unemployed                  0.245580\n",
              "DAYS_BIRTH                                   0.212843\n",
              "YEARS_BIRTH                                  0.212843\n",
              "ORGANIZATION_TYPE_Transport: type 3          0.202010\n",
              "DAYS_ID_PUBLISH                              0.160234\n",
              "FLAG_DOCUMENT_3                              0.155526\n",
              "NAME_EDUCATION_TYPE_Lower secondary          0.145142\n",
              "ORGANIZATION_TYPE_Construction               0.144760\n",
              "FLAG_DOCUMENT_2                              0.135040\n",
              "FLAG_DOCUMENT_5                              0.126433\n",
              "DAYS_LAST_PHONE_CHANGE                       0.126317\n",
              "FLAG_DOCUMENT_6                              0.123545"
            ]
          },
          "metadata": {
            "tags": []
          },
          "execution_count": 321
        }
      ]
    },
    {
      "cell_type": "markdown",
      "metadata": {
        "id": "V4PwK-KH2YWS",
        "colab_type": "text"
      },
      "source": [
        "**Model Building - 3.1. XGBoost without resampling**"
      ]
    },
    {
      "cell_type": "markdown",
      "metadata": {
        "id": "T2Az2lcXlU-W",
        "colab_type": "text"
      },
      "source": [
        "Without tuning"
      ]
    },
    {
      "cell_type": "code",
      "metadata": {
        "id": "NoYo_-iW2Ds2",
        "colab_type": "code",
        "colab": {}
      },
      "source": [
        "import xgboost as xgb"
      ],
      "execution_count": 0,
      "outputs": []
    },
    {
      "cell_type": "code",
      "metadata": {
        "id": "mZkfJwMJg8PW",
        "colab_type": "code",
        "colab": {}
      },
      "source": [
        "params = {\n",
        "   \n",
        "    'max_depth': 7, # to control over-fitting, optimal value range: 3-10\n",
        "    'gamma' :0, # the minimum loss reduction required to make a split, XGB will build the tree first then prune in case of 0 gamma\n",
        "    'eta':.05, # shrinkage factor, optimal value range: 0.01-0.2\n",
        "    'subsample': 0.7, # fraction of observations to be randomly samples for each tree, optimal value range: 0.5-1\n",
        "    'colsample_bytree': 0.7, # fraction of columns to be randomly samples for each tree, optimal value range: 0.5-1\n",
        "    'scale_pos_weight' : 1.0, # for imbalanced data\n",
        "    'objective':'binary:logistic', # loss function to be minimized\n",
        "    'eval_metric':'auc', # metric to be used for validation data\n",
        "    'silent': 0 # running messages will be printed\n",
        "}"
      ],
      "execution_count": 0,
      "outputs": []
    },
    {
      "cell_type": "code",
      "metadata": {
        "id": "yJkGKJH1hdeE",
        "colab_type": "code",
        "colab": {}
      },
      "source": [
        "def XGBmodel(X_train,X_test,y_train,y_test,params):\n",
        "    matrix_train = xgb.DMatrix(X_train,label=y_train)\n",
        "    matrix_test = xgb.DMatrix(X_test,label=y_test)\n",
        "    model=xgb.train(params=params,\n",
        "                    dtrain=matrix_train,\n",
        "                    num_boost_round=500, # number of boosting rounds or trees to build\n",
        "                    early_stopping_rounds=10, # stop if performance haven’t improved for N rounds\n",
        "                    evals=[(matrix_test,'test')]\n",
        "                   )\n",
        "    return model"
      ],
      "execution_count": 0,
      "outputs": []
    },
    {
      "cell_type": "code",
      "metadata": {
        "id": "qRdUsaarDLq3",
        "colab_type": "code",
        "colab": {}
      },
      "source": [
        "from sklearn.model_selection import train_test_split\n",
        "xgb_train, xgb_val, xgb_y_train, xgb_y_val = train_test_split(train, y, test_size = 0.2, random_state = 42)"
      ],
      "execution_count": 0,
      "outputs": []
    },
    {
      "cell_type": "code",
      "metadata": {
        "id": "WAdiNlLdiNNp",
        "colab_type": "code",
        "outputId": "82d91c86-54df-47fd-e48a-44031f3efe5a",
        "colab": {
          "base_uri": "https://localhost:8080/",
          "height": 1000
        }
      },
      "source": [
        "xgb_model = XGBmodel(xgb_train,xgb_val,xgb_y_train,xgb_y_val,params)"
      ],
      "execution_count": 0,
      "outputs": [
        {
          "output_type": "stream",
          "text": [
            "/usr/local/lib/python3.6/dist-packages/xgboost/core.py:587: FutureWarning: Series.base is deprecated and will be removed in a future version\n",
            "  if getattr(data, 'base', None) is not None and \\\n"
          ],
          "name": "stderr"
        },
        {
          "output_type": "stream",
          "text": [
            "[0]\ttest-auc:0.696488\n",
            "Will train until test-auc hasn't improved in 10 rounds.\n",
            "[1]\ttest-auc:0.70274\n",
            "[2]\ttest-auc:0.720351\n",
            "[3]\ttest-auc:0.723046\n",
            "[4]\ttest-auc:0.723631\n",
            "[5]\ttest-auc:0.72946\n",
            "[6]\ttest-auc:0.73049\n",
            "[7]\ttest-auc:0.734369\n",
            "[8]\ttest-auc:0.735992\n",
            "[9]\ttest-auc:0.736834\n",
            "[10]\ttest-auc:0.73723\n",
            "[11]\ttest-auc:0.737472\n",
            "[12]\ttest-auc:0.737386\n",
            "[13]\ttest-auc:0.737108\n",
            "[14]\ttest-auc:0.736883\n",
            "[15]\ttest-auc:0.738056\n",
            "[16]\ttest-auc:0.7382\n",
            "[17]\ttest-auc:0.738104\n",
            "[18]\ttest-auc:0.73818\n",
            "[19]\ttest-auc:0.738663\n",
            "[20]\ttest-auc:0.73874\n",
            "[21]\ttest-auc:0.738838\n",
            "[22]\ttest-auc:0.739007\n",
            "[23]\ttest-auc:0.739184\n",
            "[24]\ttest-auc:0.73939\n",
            "[25]\ttest-auc:0.739376\n",
            "[26]\ttest-auc:0.739789\n",
            "[27]\ttest-auc:0.740292\n",
            "[28]\ttest-auc:0.740392\n",
            "[29]\ttest-auc:0.740368\n",
            "[30]\ttest-auc:0.74072\n",
            "[31]\ttest-auc:0.740918\n",
            "[32]\ttest-auc:0.741713\n",
            "[33]\ttest-auc:0.742016\n",
            "[34]\ttest-auc:0.742262\n",
            "[35]\ttest-auc:0.742481\n",
            "[36]\ttest-auc:0.742522\n",
            "[37]\ttest-auc:0.743251\n",
            "[38]\ttest-auc:0.743267\n",
            "[39]\ttest-auc:0.743329\n",
            "[40]\ttest-auc:0.743263\n",
            "[41]\ttest-auc:0.743376\n",
            "[42]\ttest-auc:0.743532\n",
            "[43]\ttest-auc:0.743655\n",
            "[44]\ttest-auc:0.743774\n",
            "[45]\ttest-auc:0.743891\n",
            "[46]\ttest-auc:0.744286\n",
            "[47]\ttest-auc:0.744578\n",
            "[48]\ttest-auc:0.74453\n",
            "[49]\ttest-auc:0.744857\n",
            "[50]\ttest-auc:0.745049\n",
            "[51]\ttest-auc:0.7453\n",
            "[52]\ttest-auc:0.745164\n",
            "[53]\ttest-auc:0.74548\n",
            "[54]\ttest-auc:0.745525\n",
            "[55]\ttest-auc:0.745829\n",
            "[56]\ttest-auc:0.745966\n",
            "[57]\ttest-auc:0.746201\n",
            "[58]\ttest-auc:0.746304\n",
            "[59]\ttest-auc:0.746319\n",
            "[60]\ttest-auc:0.746588\n",
            "[61]\ttest-auc:0.746728\n",
            "[62]\ttest-auc:0.747128\n",
            "[63]\ttest-auc:0.747277\n",
            "[64]\ttest-auc:0.747301\n",
            "[65]\ttest-auc:0.747416\n",
            "[66]\ttest-auc:0.747693\n",
            "[67]\ttest-auc:0.74788\n",
            "[68]\ttest-auc:0.748204\n",
            "[69]\ttest-auc:0.74849\n",
            "[70]\ttest-auc:0.74872\n",
            "[71]\ttest-auc:0.74905\n",
            "[72]\ttest-auc:0.749197\n",
            "[73]\ttest-auc:0.74923\n",
            "[74]\ttest-auc:0.749318\n",
            "[75]\ttest-auc:0.749442\n",
            "[76]\ttest-auc:0.749755\n",
            "[77]\ttest-auc:0.74983\n",
            "[78]\ttest-auc:0.750046\n",
            "[79]\ttest-auc:0.750199\n",
            "[80]\ttest-auc:0.750524\n",
            "[81]\ttest-auc:0.750852\n",
            "[82]\ttest-auc:0.75112\n",
            "[83]\ttest-auc:0.751227\n",
            "[84]\ttest-auc:0.75137\n",
            "[85]\ttest-auc:0.751459\n",
            "[86]\ttest-auc:0.751682\n",
            "[87]\ttest-auc:0.751826\n",
            "[88]\ttest-auc:0.751976\n",
            "[89]\ttest-auc:0.752234\n",
            "[90]\ttest-auc:0.752365\n",
            "[91]\ttest-auc:0.75261\n",
            "[92]\ttest-auc:0.752744\n",
            "[93]\ttest-auc:0.752837\n",
            "[94]\ttest-auc:0.752873\n",
            "[95]\ttest-auc:0.753071\n",
            "[96]\ttest-auc:0.753212\n",
            "[97]\ttest-auc:0.753306\n",
            "[98]\ttest-auc:0.753392\n",
            "[99]\ttest-auc:0.753325\n",
            "[100]\ttest-auc:0.753393\n",
            "[101]\ttest-auc:0.753631\n",
            "[102]\ttest-auc:0.753803\n",
            "[103]\ttest-auc:0.753822\n",
            "[104]\ttest-auc:0.754003\n",
            "[105]\ttest-auc:0.754067\n",
            "[106]\ttest-auc:0.75421\n",
            "[107]\ttest-auc:0.754262\n",
            "[108]\ttest-auc:0.754337\n",
            "[109]\ttest-auc:0.754344\n",
            "[110]\ttest-auc:0.754544\n",
            "[111]\ttest-auc:0.754599\n",
            "[112]\ttest-auc:0.754688\n",
            "[113]\ttest-auc:0.754718\n",
            "[114]\ttest-auc:0.754741\n",
            "[115]\ttest-auc:0.754936\n",
            "[116]\ttest-auc:0.754954\n",
            "[117]\ttest-auc:0.755016\n",
            "[118]\ttest-auc:0.755044\n",
            "[119]\ttest-auc:0.755044\n",
            "[120]\ttest-auc:0.755399\n",
            "[121]\ttest-auc:0.755505\n",
            "[122]\ttest-auc:0.755541\n",
            "[123]\ttest-auc:0.755654\n",
            "[124]\ttest-auc:0.75578\n",
            "[125]\ttest-auc:0.755918\n",
            "[126]\ttest-auc:0.756016\n",
            "[127]\ttest-auc:0.755983\n",
            "[128]\ttest-auc:0.756058\n",
            "[129]\ttest-auc:0.756134\n",
            "[130]\ttest-auc:0.756171\n",
            "[131]\ttest-auc:0.756199\n",
            "[132]\ttest-auc:0.756149\n",
            "[133]\ttest-auc:0.756189\n",
            "[134]\ttest-auc:0.756263\n",
            "[135]\ttest-auc:0.756385\n",
            "[136]\ttest-auc:0.756393\n",
            "[137]\ttest-auc:0.756471\n",
            "[138]\ttest-auc:0.756628\n",
            "[139]\ttest-auc:0.756681\n",
            "[140]\ttest-auc:0.756664\n",
            "[141]\ttest-auc:0.756739\n",
            "[142]\ttest-auc:0.756799\n",
            "[143]\ttest-auc:0.756864\n",
            "[144]\ttest-auc:0.756909\n",
            "[145]\ttest-auc:0.757062\n",
            "[146]\ttest-auc:0.757045\n",
            "[147]\ttest-auc:0.757118\n",
            "[148]\ttest-auc:0.75717\n",
            "[149]\ttest-auc:0.757213\n",
            "[150]\ttest-auc:0.7573\n",
            "[151]\ttest-auc:0.757326\n",
            "[152]\ttest-auc:0.757348\n",
            "[153]\ttest-auc:0.757338\n",
            "[154]\ttest-auc:0.757289\n",
            "[155]\ttest-auc:0.757241\n",
            "[156]\ttest-auc:0.757299\n",
            "[157]\ttest-auc:0.75736\n",
            "[158]\ttest-auc:0.75739\n",
            "[159]\ttest-auc:0.757496\n",
            "[160]\ttest-auc:0.757672\n",
            "[161]\ttest-auc:0.757689\n",
            "[162]\ttest-auc:0.757765\n",
            "[163]\ttest-auc:0.757775\n",
            "[164]\ttest-auc:0.757821\n",
            "[165]\ttest-auc:0.75784\n",
            "[166]\ttest-auc:0.757928\n",
            "[167]\ttest-auc:0.75799\n",
            "[168]\ttest-auc:0.758008\n",
            "[169]\ttest-auc:0.758026\n",
            "[170]\ttest-auc:0.758038\n",
            "[171]\ttest-auc:0.758032\n",
            "[172]\ttest-auc:0.758037\n",
            "[173]\ttest-auc:0.758066\n",
            "[174]\ttest-auc:0.758145\n",
            "[175]\ttest-auc:0.758189\n",
            "[176]\ttest-auc:0.758209\n",
            "[177]\ttest-auc:0.758255\n",
            "[178]\ttest-auc:0.758245\n",
            "[179]\ttest-auc:0.758205\n",
            "[180]\ttest-auc:0.758241\n",
            "[181]\ttest-auc:0.758297\n",
            "[182]\ttest-auc:0.758273\n",
            "[183]\ttest-auc:0.758342\n",
            "[184]\ttest-auc:0.758369\n",
            "[185]\ttest-auc:0.758404\n",
            "[186]\ttest-auc:0.758414\n",
            "[187]\ttest-auc:0.758461\n",
            "[188]\ttest-auc:0.758487\n",
            "[189]\ttest-auc:0.758398\n",
            "[190]\ttest-auc:0.758491\n",
            "[191]\ttest-auc:0.758601\n",
            "[192]\ttest-auc:0.758628\n",
            "[193]\ttest-auc:0.758613\n",
            "[194]\ttest-auc:0.758585\n",
            "[195]\ttest-auc:0.758624\n",
            "[196]\ttest-auc:0.758658\n",
            "[197]\ttest-auc:0.758672\n",
            "[198]\ttest-auc:0.758655\n",
            "[199]\ttest-auc:0.758655\n",
            "[200]\ttest-auc:0.758713\n",
            "[201]\ttest-auc:0.758727\n",
            "[202]\ttest-auc:0.758747\n",
            "[203]\ttest-auc:0.758741\n",
            "[204]\ttest-auc:0.758801\n",
            "[205]\ttest-auc:0.758813\n",
            "[206]\ttest-auc:0.758768\n",
            "[207]\ttest-auc:0.758778\n",
            "[208]\ttest-auc:0.758751\n",
            "[209]\ttest-auc:0.758773\n",
            "[210]\ttest-auc:0.758862\n",
            "[211]\ttest-auc:0.758844\n",
            "[212]\ttest-auc:0.758874\n",
            "[213]\ttest-auc:0.758905\n",
            "[214]\ttest-auc:0.758918\n",
            "[215]\ttest-auc:0.758973\n",
            "[216]\ttest-auc:0.75898\n",
            "[217]\ttest-auc:0.759001\n",
            "[218]\ttest-auc:0.759019\n",
            "[219]\ttest-auc:0.759032\n",
            "[220]\ttest-auc:0.759038\n",
            "[221]\ttest-auc:0.758987\n",
            "[222]\ttest-auc:0.758987\n",
            "[223]\ttest-auc:0.758998\n",
            "[224]\ttest-auc:0.75902\n",
            "[225]\ttest-auc:0.759024\n",
            "[226]\ttest-auc:0.759005\n",
            "[227]\ttest-auc:0.758961\n",
            "[228]\ttest-auc:0.759\n",
            "[229]\ttest-auc:0.759001\n",
            "[230]\ttest-auc:0.759021\n",
            "Stopping. Best iteration:\n",
            "[220]\ttest-auc:0.759038\n",
            "\n"
          ],
          "name": "stdout"
        }
      ]
    },
    {
      "cell_type": "code",
      "metadata": {
        "colab_type": "code",
        "id": "yQKtTNZ1dXzN",
        "outputId": "a4081e39-acb4-40cf-e99e-b5fee99344da",
        "colab": {
          "base_uri": "https://localhost:8080/",
          "height": 142
        }
      },
      "source": [
        "xgb_features=pd.DataFrame(xgb_model.get_score(importance_type='gain'), index=[0])\n",
        "xgb_features"
      ],
      "execution_count": 0,
      "outputs": [
        {
          "output_type": "execute_result",
          "data": {
            "text/html": [
              "<div>\n",
              "<style scoped>\n",
              "    .dataframe tbody tr th:only-of-type {\n",
              "        vertical-align: middle;\n",
              "    }\n",
              "\n",
              "    .dataframe tbody tr th {\n",
              "        vertical-align: top;\n",
              "    }\n",
              "\n",
              "    .dataframe thead th {\n",
              "        text-align: right;\n",
              "    }\n",
              "</style>\n",
              "<table border=\"1\" class=\"dataframe\">\n",
              "  <thead>\n",
              "    <tr style=\"text-align: right;\">\n",
              "      <th></th>\n",
              "      <th>EXT_SOURCE_2</th>\n",
              "      <th>EXT_SOURCE_1</th>\n",
              "      <th>REG_CITY_NOT_LIVE_CITY</th>\n",
              "      <th>AMT_INCOME_TOTAL</th>\n",
              "      <th>LIVINGAREA_MEDI</th>\n",
              "      <th>APARTMENTS_MODE</th>\n",
              "      <th>TOTALAREA_MODE</th>\n",
              "      <th>LIVINGAREA_AVG</th>\n",
              "      <th>DAYS_BIRTH</th>\n",
              "      <th>YEARS_BEGINEXPLUATATION_MODE</th>\n",
              "      <th>YEARS_BEGINEXPLUATATION_MEDI</th>\n",
              "      <th>NAME_CONTRACT_TYPE_Cash loans</th>\n",
              "      <th>DAYS_LAST_PHONE_CHANGE</th>\n",
              "      <th>annuity_income_ratio</th>\n",
              "      <th>ORGANIZATION_TYPE_Government</th>\n",
              "      <th>NAME_EDUCATION_TYPE_Higher education</th>\n",
              "      <th>AMT_CREDIT</th>\n",
              "      <th>AMT_GOODS_PRICE</th>\n",
              "      <th>ORGANIZATION_TYPE_Services</th>\n",
              "      <th>AMT_REQ_CREDIT_BUREAU_MON</th>\n",
              "      <th>CODE_GENDER_F</th>\n",
              "      <th>HOUR_APPR_PROCESS_START</th>\n",
              "      <th>ORGANIZATION_TYPE_Business Entity Type 2</th>\n",
              "      <th>REGION_RATING_CLIENT_3.0</th>\n",
              "      <th>ELEVATORS_MEDI</th>\n",
              "      <th>NAME_FAMILY_STATUS_Separated</th>\n",
              "      <th>YEARS_BEGINEXPLUATATION_AVG</th>\n",
              "      <th>NAME_FAMILY_STATUS_Married</th>\n",
              "      <th>FLAG_OWN_CAR_Y</th>\n",
              "      <th>ORGANIZATION_TYPE_School</th>\n",
              "      <th>REGION_POPULATION_RELATIVE</th>\n",
              "      <th>CNT_CHILDREN</th>\n",
              "      <th>NAME_HOUSING_TYPE_Municipal apartment</th>\n",
              "      <th>SK_ID_CURR</th>\n",
              "      <th>ORGANIZATION_TYPE_Telecom</th>\n",
              "      <th>ORGANIZATION_TYPE_Construction</th>\n",
              "      <th>DEF_60_CNT_SOCIAL_CIRCLE</th>\n",
              "      <th>OCCUPATION_TYPE_IT staff</th>\n",
              "      <th>FLAG_DOCUMENT_3</th>\n",
              "      <th>REGION_RATING_CLIENT_W_CITY_3.0</th>\n",
              "      <th>...</th>\n",
              "      <th>FLAG_DOCUMENT_6</th>\n",
              "      <th>NAME_INCOME_TYPE_State servant</th>\n",
              "      <th>EMERGENCYSTATE_MODE_EMERGENCYSTATE_MODE</th>\n",
              "      <th>OCCUPATION_TYPE_Private service staff</th>\n",
              "      <th>OCCUPATION_TYPE_Realty agents</th>\n",
              "      <th>IS_CHILDREN_1</th>\n",
              "      <th>LIVE_CITY_NOT_WORK_CITY</th>\n",
              "      <th>WALLSMATERIAL_MODE_Mixed</th>\n",
              "      <th>ORGANIZATION_TYPE_Security Ministries</th>\n",
              "      <th>REG_REGION_NOT_LIVE_REGION</th>\n",
              "      <th>NAME_HOUSING_TYPE_Office apartment</th>\n",
              "      <th>ORGANIZATION_TYPE_Military</th>\n",
              "      <th>IS_CHILDREN_0</th>\n",
              "      <th>ORGANIZATION_TYPE_Culture</th>\n",
              "      <th>WALLSMATERIAL_MODE_Stone, brick</th>\n",
              "      <th>ORGANIZATION_TYPE_Insurance</th>\n",
              "      <th>FAMILY SIZE_Single</th>\n",
              "      <th>FLAG_DOCUMENT_9</th>\n",
              "      <th>ORGANIZATION_TYPE_University</th>\n",
              "      <th>ORGANIZATION_TYPE_Industry: type 9</th>\n",
              "      <th>ORGANIZATION_TYPE_Other</th>\n",
              "      <th>ORGANIZATION_TYPE_Police</th>\n",
              "      <th>ORGANIZATION_TYPE_XNA</th>\n",
              "      <th>OCCUPATION_TYPE_Medicine staff</th>\n",
              "      <th>ORGANIZATION_TYPE_Legal Services</th>\n",
              "      <th>EMERGENCYSTATE_MODE_Yes</th>\n",
              "      <th>WALLSMATERIAL_MODE_Panel</th>\n",
              "      <th>ORGANIZATION_TYPE_Bank</th>\n",
              "      <th>ORGANIZATION_TYPE_Medicine</th>\n",
              "      <th>OCCUPATION_TYPE_HR staff</th>\n",
              "      <th>NAME_INCOME_TYPE_Unemployed</th>\n",
              "      <th>ORGANIZATION_TYPE_Housing</th>\n",
              "      <th>NAME_INCOME_TYPE_Pensioner</th>\n",
              "      <th>ORGANIZATION_TYPE_Industry: type 12</th>\n",
              "      <th>FLAG_DOCUMENT_15</th>\n",
              "      <th>ORGANIZATION_TYPE_Electricity</th>\n",
              "      <th>ORGANIZATION_TYPE_Trade: type 1</th>\n",
              "      <th>FLAG_DOCUMENT_14</th>\n",
              "      <th>FAMILY SIZE_Big</th>\n",
              "      <th>NAME_EDUCATION_TYPE_Academic degree</th>\n",
              "    </tr>\n",
              "  </thead>\n",
              "  <tbody>\n",
              "    <tr>\n",
              "      <th>0</th>\n",
              "      <td>33.349167</td>\n",
              "      <td>18.670559</td>\n",
              "      <td>8.120631</td>\n",
              "      <td>6.697189</td>\n",
              "      <td>7.079826</td>\n",
              "      <td>7.178056</td>\n",
              "      <td>7.035002</td>\n",
              "      <td>8.082607</td>\n",
              "      <td>8.975064</td>\n",
              "      <td>7.193122</td>\n",
              "      <td>7.314735</td>\n",
              "      <td>12.134093</td>\n",
              "      <td>7.683077</td>\n",
              "      <td>7.708772</td>\n",
              "      <td>6.435409</td>\n",
              "      <td>18.133068</td>\n",
              "      <td>10.579621</td>\n",
              "      <td>12.472697</td>\n",
              "      <td>4.908165</td>\n",
              "      <td>5.546441</td>\n",
              "      <td>13.933801</td>\n",
              "      <td>6.769878</td>\n",
              "      <td>5.97751</td>\n",
              "      <td>10.956816</td>\n",
              "      <td>7.337942</td>\n",
              "      <td>7.695884</td>\n",
              "      <td>7.168713</td>\n",
              "      <td>11.173938</td>\n",
              "      <td>13.816647</td>\n",
              "      <td>6.442523</td>\n",
              "      <td>6.797333</td>\n",
              "      <td>6.147737</td>\n",
              "      <td>5.492866</td>\n",
              "      <td>6.550636</td>\n",
              "      <td>4.418527</td>\n",
              "      <td>7.938052</td>\n",
              "      <td>8.593377</td>\n",
              "      <td>1.080872</td>\n",
              "      <td>13.680862</td>\n",
              "      <td>11.579391</td>\n",
              "      <td>...</td>\n",
              "      <td>7.751254</td>\n",
              "      <td>10.555354</td>\n",
              "      <td>6.365129</td>\n",
              "      <td>6.26427</td>\n",
              "      <td>5.543161</td>\n",
              "      <td>3.600441</td>\n",
              "      <td>6.399611</td>\n",
              "      <td>6.377419</td>\n",
              "      <td>7.715542</td>\n",
              "      <td>8.705201</td>\n",
              "      <td>7.819377</td>\n",
              "      <td>11.407143</td>\n",
              "      <td>6.42772</td>\n",
              "      <td>4.91375</td>\n",
              "      <td>5.283753</td>\n",
              "      <td>7.347967</td>\n",
              "      <td>6.659025</td>\n",
              "      <td>11.646027</td>\n",
              "      <td>2.210052</td>\n",
              "      <td>11.548887</td>\n",
              "      <td>6.237159</td>\n",
              "      <td>9.840857</td>\n",
              "      <td>6.067415</td>\n",
              "      <td>6.168071</td>\n",
              "      <td>9.32551</td>\n",
              "      <td>6.068822</td>\n",
              "      <td>6.437943</td>\n",
              "      <td>8.369655</td>\n",
              "      <td>8.796899</td>\n",
              "      <td>6.023978</td>\n",
              "      <td>8.140802</td>\n",
              "      <td>8.466639</td>\n",
              "      <td>11.480892</td>\n",
              "      <td>7.819219</td>\n",
              "      <td>6.242073</td>\n",
              "      <td>7.44519</td>\n",
              "      <td>7.21301</td>\n",
              "      <td>7.624945</td>\n",
              "      <td>11.408336</td>\n",
              "      <td>6.803688</td>\n",
              "    </tr>\n",
              "  </tbody>\n",
              "</table>\n",
              "<p>1 rows × 207 columns</p>\n",
              "</div>"
            ],
            "text/plain": [
              "   EXT_SOURCE_2  ...  NAME_EDUCATION_TYPE_Academic degree\n",
              "0     33.349167  ...                             6.803688\n",
              "\n",
              "[1 rows x 207 columns]"
            ]
          },
          "metadata": {
            "tags": []
          },
          "execution_count": 306
        }
      ]
    },
    {
      "cell_type": "code",
      "metadata": {
        "id": "KjPNiJfPc1BU",
        "colab_type": "code",
        "outputId": "7c65c677-5a8b-4ef6-c960-3fbce2621b58",
        "colab": {
          "base_uri": "https://localhost:8080/",
          "height": 312
        }
      },
      "source": [
        "xgb.plot_importance(xgb_model, max_num_features=20)"
      ],
      "execution_count": 0,
      "outputs": [
        {
          "output_type": "execute_result",
          "data": {
            "text/plain": [
              "<matplotlib.axes._subplots.AxesSubplot at 0x7f29c3011978>"
            ]
          },
          "metadata": {
            "tags": []
          },
          "execution_count": 303
        },
        {
          "output_type": "display_data",
          "data": {
            "image/png": "[encoded data removed]",
            "text/plain": [
              "<Figure size 432x288 with 1 Axes>"
            ]
          },
          "metadata": {
            "tags": []
          }
        }
      ]
    },
    {
      "cell_type": "markdown",
      "metadata": {
        "id": "x09xnLNQPyOH",
        "colab_type": "text"
      },
      "source": [
        "**XGBoost Hyperparameter Tuning**"
      ]
    },
    {
      "cell_type": "code",
      "metadata": {
        "id": "MOX_rk8ePxyv",
        "colab_type": "code",
        "colab": {}
      },
      "source": [
        "# cv_results = xgb.cv(\n",
        "#                     params=params,\n",
        "#                     dtrain=xgb.DMatrix(xgb_train,label=xgb_y_train),\n",
        "#                     num_boost_round=5000,\n",
        "#                     early_stopping_rounds=10,\n",
        "#                     seed=42,\n",
        "#                     nfold=5,\n",
        "#                     metrics = 'auc'\n",
        "#                     )    \n",
        "# cv_results # returns a table where the rows correspond to the number of boosting trees used"
      ],
      "execution_count": 0,
      "outputs": []
    },
    {
      "cell_type": "code",
      "metadata": {
        "id": "OVHeSUbOeHL3",
        "colab_type": "code",
        "colab": {}
      },
      "source": [
        "# cv_results['test-auc-mean'].max()"
      ],
      "execution_count": 0,
      "outputs": []
    },
    {
      "cell_type": "code",
      "metadata": {
        "id": "EWsHhqrRefA3",
        "colab_type": "code",
        "colab": {}
      },
      "source": [
        "# We will first tune our parameters to maximize the test AUC in cross-validation\n",
        "# then we will check the performance of our model on the validation set"
      ],
      "execution_count": 0,
      "outputs": []
    },
    {
      "cell_type": "code",
      "metadata": {
        "id": "1X2AiXd2eVBz",
        "colab_type": "code",
        "colab": {}
      },
      "source": [
        "# Let's start tuning the parameters subsample and colsample_bytree"
      ],
      "execution_count": 0,
      "outputs": []
    },
    {
      "cell_type": "code",
      "metadata": {
        "id": "EA6rg8R9fSVS",
        "colab_type": "code",
        "colab": {}
      },
      "source": [
        "gridsearch_params = [\n",
        "    (subsample, colsample)\n",
        "    for subsample in [i/10. for i in range(6,9)]\n",
        "    for colsample in [i/10. for i in range(6,9)]\n",
        "]"
      ],
      "execution_count": 0,
      "outputs": []
    },
    {
      "cell_type": "code",
      "metadata": {
        "id": "KIolF3vdfboR",
        "colab_type": "code",
        "outputId": "0a94d936-27d8-482f-a908-858358a0e9a2",
        "colab": {
          "base_uri": "https://localhost:8080/",
          "height": 70
        }
      },
      "source": [
        "# Define initial best params and MAE\n",
        "max_auc = 0\n",
        "best_params = None\n",
        "\n",
        "# Start by the largest values and go down to the smallest\n",
        "for subsample, colsample in reversed(gridsearch_params):\n",
        "    print(\"CV with subsample={}, colsample={}\".format(subsample,colsample))\n",
        "    \n",
        "    # Update parameters\n",
        "    params['subsample'] = subsample\n",
        "    params['colsample_bytree'] = colsample\n",
        "    \n",
        "    # Run CV\n",
        "    cv_results = xgb.cv(\n",
        "                        params=params,\n",
        "                        dtrain=xgb.DMatrix(xgb_train,label=xgb_y_train),\n",
        "                        num_boost_round=5000,\n",
        "                        early_stopping_rounds=10,\n",
        "                        seed=42,\n",
        "                        nfold=5,\n",
        "                        metrics = 'auc'\n",
        "                        )\n",
        "    \n",
        "    # Update best score\n",
        "    mean_auc = cv_results['test-auc-mean'].max()\n",
        "    boost_rounds = cv_results['test-auc-mean'].argmax()\n",
        "    print(\"\\tAUC {} for {} rounds\".format(mean_auc, boost_rounds))\n",
        "    if mean_auc > max_auc:\n",
        "        max_auc = mean_auc\n",
        "        best_params = (subsample,colsample)\n",
        "        \n",
        "print(\"Best params: {}, {}, AUC: {}\".format(best_params[0], best_params[1], max_auc))"
      ],
      "execution_count": 0,
      "outputs": [
        {
          "output_type": "stream",
          "text": [
            "CV with subsample=0.8, colsample=0.8\n"
          ],
          "name": "stdout"
        },
        {
          "output_type": "stream",
          "text": [
            "/usr/local/lib/python3.6/dist-packages/xgboost/core.py:587: FutureWarning: Series.base is deprecated and will be removed in a future version\n",
            "  if getattr(data, 'base', None) is not None and \\\n"
          ],
          "name": "stderr"
        }
      ]
    },
    {
      "cell_type": "code",
      "metadata": {
        "id": "1aI-rGGxt7RJ",
        "colab_type": "code",
        "colab": {}
      },
      "source": [
        "params['subsample'] = 0.7 #best_params[0]\n",
        "params['colsample_bytree'] = 0.7 #best_params[1]"
      ],
      "execution_count": 0,
      "outputs": []
    },
    {
      "cell_type": "code",
      "metadata": {
        "id": "jqIdp4zVtdOW",
        "colab_type": "code",
        "colab": {}
      },
      "source": [
        "# Tuning shrinkage factor\n",
        "\n",
        "max_auc = 0\n",
        "best_params = None\n",
        "\n",
        "for eta in [.2, .1, .05, .01]:\n",
        "    print(\"CV with eta={}\".format(eta))\n",
        "    \n",
        "    # Update parameters\n",
        "    params['eta'] = eta\n",
        "    \n",
        "    # Run CV\n",
        "    cv_results = xgb.cv(\n",
        "                        params=params,\n",
        "                        dtrain=xgb.DMatrix(xgb_train,label=xgb_y_train),\n",
        "                        num_boost_round=5000,\n",
        "                        early_stopping_rounds=10,\n",
        "                        seed=42,\n",
        "                        nfold=5,\n",
        "                        metrics = 'auc'\n",
        "                        )\n",
        "    \n",
        "    # Update best score\n",
        "    mean_auc = cv_results['test-auc-mean'].max()\n",
        "    boost_rounds = cv_results['test-auc-mean'].argmax()\n",
        "    print(\"\\tAUC {} for {} rounds\".format(mean_auc, boost_rounds))\n",
        "    if mean_auc > max_auc:\n",
        "        max_auc = mean_auc\n",
        "        best_params = (subsample,colsample)\n",
        "        \n",
        "print(\"Best params: {}, {}, AUC: {}\".format(best_params[0], best_params[1], max_auc))"
      ],
      "execution_count": 0,
      "outputs": []
    },
    {
      "cell_type": "code",
      "metadata": {
        "id": "sY4TlMmvuPad",
        "colab_type": "code",
        "colab": {}
      },
      "source": [
        "# final tuned parameters\n",
        "params = {\n",
        "   \n",
        "    'max_depth': 7, # to control over-fitting, optimal value range: 3-10\n",
        "    'gamma' :0, # the minimum loss reduction required to make a split, XGB will build the tree first then prune in case of 0 gamma\n",
        "    'eta':.03, # shrinkage factor, optimal value range: 0.01-0.2\n",
        "    'subsample': 0.8, # fraction of observations to be randomly samples for each tree, optimal value range: 0.5-1\n",
        "    'colsample_bytree': 0.8, # fraction of columns to be randomly samples for each tree, optimal value range: 0.5-1\n",
        "    'scale_pos_weight' : 11.0, # for imbalanced data\n",
        "    'objective':'binary:logistic', # loss function to be minimized\n",
        "    'eval_metric':'auc', # metric to be used for validation data\n",
        "    'silent': 0 # running messages will be printed\n",
        "}\n"
      ],
      "execution_count": 0,
      "outputs": []
    },
    {
      "cell_type": "code",
      "metadata": {
        "id": "jUGHkOMRulXN",
        "colab_type": "code",
        "outputId": "0597a37f-e3ef-4d71-b688-1806ee6a128b",
        "colab": {
          "base_uri": "https://localhost:8080/",
          "height": 1000
        }
      },
      "source": [
        "# train final model using tuned parameters\n",
        "xgb_model = XGBmodel(xgb_train,xgb_val,xgb_y_train,xgb_y_val,params)"
      ],
      "execution_count": 0,
      "outputs": [
        {
          "output_type": "stream",
          "text": [
            "/usr/local/lib/python3.6/dist-packages/xgboost/core.py:587: FutureWarning: Series.base is deprecated and will be removed in a future version\n",
            "  if getattr(data, 'base', None) is not None and \\\n"
          ],
          "name": "stderr"
        },
        {
          "output_type": "stream",
          "text": [
            "[0]\ttest-auc:0.71512\n",
            "Will train until test-auc hasn't improved in 10 rounds.\n",
            "[1]\ttest-auc:0.72364\n",
            "[2]\ttest-auc:0.731121\n",
            "[3]\ttest-auc:0.731369\n",
            "[4]\ttest-auc:0.731221\n",
            "[5]\ttest-auc:0.733251\n",
            "[6]\ttest-auc:0.734827\n",
            "[7]\ttest-auc:0.736995\n",
            "[8]\ttest-auc:0.738025\n",
            "[9]\ttest-auc:0.738286\n",
            "[10]\ttest-auc:0.73856\n",
            "[11]\ttest-auc:0.738612\n",
            "[12]\ttest-auc:0.738741\n",
            "[13]\ttest-auc:0.738935\n",
            "[14]\ttest-auc:0.738733\n",
            "[15]\ttest-auc:0.739676\n",
            "[16]\ttest-auc:0.740165\n",
            "[17]\ttest-auc:0.740416\n",
            "[18]\ttest-auc:0.740384\n",
            "[19]\ttest-auc:0.740349\n",
            "[20]\ttest-auc:0.740596\n",
            "[21]\ttest-auc:0.740811\n",
            "[22]\ttest-auc:0.741109\n",
            "[23]\ttest-auc:0.741148\n",
            "[24]\ttest-auc:0.741358\n",
            "[25]\ttest-auc:0.741624\n",
            "[26]\ttest-auc:0.741776\n",
            "[27]\ttest-auc:0.742012\n",
            "[28]\ttest-auc:0.742177\n",
            "[29]\ttest-auc:0.742454\n",
            "[30]\ttest-auc:0.742519\n",
            "[31]\ttest-auc:0.742757\n",
            "[32]\ttest-auc:0.743169\n",
            "[33]\ttest-auc:0.743286\n",
            "[34]\ttest-auc:0.743299\n",
            "[35]\ttest-auc:0.743626\n",
            "[36]\ttest-auc:0.743815\n",
            "[37]\ttest-auc:0.74427\n",
            "[38]\ttest-auc:0.744425\n",
            "[39]\ttest-auc:0.744696\n",
            "[40]\ttest-auc:0.744808\n",
            "[41]\ttest-auc:0.744895\n",
            "[42]\ttest-auc:0.745114\n",
            "[43]\ttest-auc:0.745335\n",
            "[44]\ttest-auc:0.745295\n",
            "[45]\ttest-auc:0.745416\n",
            "[46]\ttest-auc:0.74549\n",
            "[47]\ttest-auc:0.745628\n",
            "[48]\ttest-auc:0.745751\n",
            "[49]\ttest-auc:0.745941\n",
            "[50]\ttest-auc:0.745963\n",
            "[51]\ttest-auc:0.746092\n",
            "[52]\ttest-auc:0.746215\n",
            "[53]\ttest-auc:0.74638\n",
            "[54]\ttest-auc:0.74657\n",
            "[55]\ttest-auc:0.746805\n",
            "[56]\ttest-auc:0.746964\n",
            "[57]\ttest-auc:0.747111\n",
            "[58]\ttest-auc:0.747362\n",
            "[59]\ttest-auc:0.747495\n",
            "[60]\ttest-auc:0.747653\n",
            "[61]\ttest-auc:0.747755\n",
            "[62]\ttest-auc:0.747714\n",
            "[63]\ttest-auc:0.747947\n",
            "[64]\ttest-auc:0.748123\n",
            "[65]\ttest-auc:0.748228\n",
            "[66]\ttest-auc:0.748394\n",
            "[67]\ttest-auc:0.748603\n",
            "[68]\ttest-auc:0.748807\n",
            "[69]\ttest-auc:0.748906\n",
            "[70]\ttest-auc:0.749004\n",
            "[71]\ttest-auc:0.749216\n",
            "[72]\ttest-auc:0.74922\n",
            "[73]\ttest-auc:0.749292\n",
            "[74]\ttest-auc:0.749435\n",
            "[75]\ttest-auc:0.749465\n",
            "[76]\ttest-auc:0.749633\n",
            "[77]\ttest-auc:0.749766\n",
            "[78]\ttest-auc:0.749839\n",
            "[79]\ttest-auc:0.74998\n",
            "[80]\ttest-auc:0.75012\n",
            "[81]\ttest-auc:0.750437\n",
            "[82]\ttest-auc:0.750508\n",
            "[83]\ttest-auc:0.750642\n",
            "[84]\ttest-auc:0.750697\n",
            "[85]\ttest-auc:0.750737\n",
            "[86]\ttest-auc:0.75088\n",
            "[87]\ttest-auc:0.750914\n",
            "[88]\ttest-auc:0.751124\n",
            "[89]\ttest-auc:0.75123\n",
            "[90]\ttest-auc:0.751284\n",
            "[91]\ttest-auc:0.751498\n",
            "[92]\ttest-auc:0.751718\n",
            "[93]\ttest-auc:0.751768\n",
            "[94]\ttest-auc:0.751839\n",
            "[95]\ttest-auc:0.751882\n",
            "[96]\ttest-auc:0.751973\n",
            "[97]\ttest-auc:0.752075\n",
            "[98]\ttest-auc:0.752224\n",
            "[99]\ttest-auc:0.752296\n",
            "[100]\ttest-auc:0.752332\n",
            "[101]\ttest-auc:0.752353\n",
            "[102]\ttest-auc:0.752597\n",
            "[103]\ttest-auc:0.752776\n",
            "[104]\ttest-auc:0.752803\n",
            "[105]\ttest-auc:0.752898\n",
            "[106]\ttest-auc:0.753034\n",
            "[107]\ttest-auc:0.753087\n",
            "[108]\ttest-auc:0.753078\n",
            "[109]\ttest-auc:0.753252\n",
            "[110]\ttest-auc:0.753336\n",
            "[111]\ttest-auc:0.753354\n",
            "[112]\ttest-auc:0.753388\n",
            "[113]\ttest-auc:0.753426\n",
            "[114]\ttest-auc:0.753435\n",
            "[115]\ttest-auc:0.753525\n",
            "[116]\ttest-auc:0.753545\n",
            "[117]\ttest-auc:0.753596\n",
            "[118]\ttest-auc:0.753643\n",
            "[119]\ttest-auc:0.753708\n",
            "[120]\ttest-auc:0.753867\n",
            "[121]\ttest-auc:0.753904\n",
            "[122]\ttest-auc:0.753972\n",
            "[123]\ttest-auc:0.754045\n",
            "[124]\ttest-auc:0.754074\n",
            "[125]\ttest-auc:0.754138\n",
            "[126]\ttest-auc:0.754198\n",
            "[127]\ttest-auc:0.754321\n",
            "[128]\ttest-auc:0.754406\n",
            "[129]\ttest-auc:0.754493\n",
            "[130]\ttest-auc:0.754494\n",
            "[131]\ttest-auc:0.754543\n",
            "[132]\ttest-auc:0.754625\n",
            "[133]\ttest-auc:0.754734\n",
            "[134]\ttest-auc:0.754748\n",
            "[135]\ttest-auc:0.754825\n",
            "[136]\ttest-auc:0.754852\n",
            "[137]\ttest-auc:0.754987\n",
            "[138]\ttest-auc:0.75499\n",
            "[139]\ttest-auc:0.755045\n",
            "[140]\ttest-auc:0.755031\n",
            "[141]\ttest-auc:0.755086\n",
            "[142]\ttest-auc:0.755092\n",
            "[143]\ttest-auc:0.755172\n",
            "[144]\ttest-auc:0.755229\n",
            "[145]\ttest-auc:0.755275\n",
            "[146]\ttest-auc:0.755339\n",
            "[147]\ttest-auc:0.755405\n",
            "[148]\ttest-auc:0.75544\n",
            "[149]\ttest-auc:0.755425\n",
            "[150]\ttest-auc:0.755427\n",
            "[151]\ttest-auc:0.755462\n",
            "[152]\ttest-auc:0.75549\n",
            "[153]\ttest-auc:0.755542\n",
            "[154]\ttest-auc:0.755565\n",
            "[155]\ttest-auc:0.755655\n",
            "[156]\ttest-auc:0.755714\n",
            "[157]\ttest-auc:0.755719\n",
            "[158]\ttest-auc:0.755817\n",
            "[159]\ttest-auc:0.755831\n",
            "[160]\ttest-auc:0.755895\n",
            "[161]\ttest-auc:0.755934\n",
            "[162]\ttest-auc:0.75594\n",
            "[163]\ttest-auc:0.755932\n",
            "[164]\ttest-auc:0.755988\n",
            "[165]\ttest-auc:0.755962\n",
            "[166]\ttest-auc:0.755986\n",
            "[167]\ttest-auc:0.755998\n",
            "[168]\ttest-auc:0.756069\n",
            "[169]\ttest-auc:0.756193\n",
            "[170]\ttest-auc:0.756253\n",
            "[171]\ttest-auc:0.756263\n",
            "[172]\ttest-auc:0.75625\n",
            "[173]\ttest-auc:0.75625\n",
            "[174]\ttest-auc:0.756236\n",
            "[175]\ttest-auc:0.756271\n",
            "[176]\ttest-auc:0.756285\n",
            "[177]\ttest-auc:0.756369\n",
            "[178]\ttest-auc:0.756381\n",
            "[179]\ttest-auc:0.756398\n",
            "[180]\ttest-auc:0.756397\n",
            "[181]\ttest-auc:0.756499\n",
            "[182]\ttest-auc:0.756487\n",
            "[183]\ttest-auc:0.756497\n",
            "[184]\ttest-auc:0.756515\n",
            "[185]\ttest-auc:0.75655\n",
            "[186]\ttest-auc:0.756515\n",
            "[187]\ttest-auc:0.756549\n",
            "[188]\ttest-auc:0.756572\n",
            "[189]\ttest-auc:0.756599\n",
            "[190]\ttest-auc:0.756647\n",
            "[191]\ttest-auc:0.756651\n",
            "[192]\ttest-auc:0.756677\n",
            "[193]\ttest-auc:0.756711\n",
            "[194]\ttest-auc:0.756784\n",
            "[195]\ttest-auc:0.756837\n",
            "[196]\ttest-auc:0.756828\n",
            "[197]\ttest-auc:0.756858\n",
            "[198]\ttest-auc:0.756886\n",
            "[199]\ttest-auc:0.756885\n",
            "[200]\ttest-auc:0.756924\n",
            "[201]\ttest-auc:0.756962\n",
            "[202]\ttest-auc:0.757021\n",
            "[203]\ttest-auc:0.757044\n",
            "[204]\ttest-auc:0.757066\n",
            "[205]\ttest-auc:0.75708\n",
            "[206]\ttest-auc:0.757067\n",
            "[207]\ttest-auc:0.757071\n",
            "[208]\ttest-auc:0.757079\n",
            "[209]\ttest-auc:0.757121\n",
            "[210]\ttest-auc:0.757183\n",
            "[211]\ttest-auc:0.757221\n",
            "[212]\ttest-auc:0.757176\n",
            "[213]\ttest-auc:0.757184\n",
            "[214]\ttest-auc:0.757214\n",
            "[215]\ttest-auc:0.757191\n",
            "[216]\ttest-auc:0.757167\n",
            "[217]\ttest-auc:0.757227\n",
            "[218]\ttest-auc:0.757267\n",
            "[219]\ttest-auc:0.757287\n",
            "[220]\ttest-auc:0.757303\n",
            "[221]\ttest-auc:0.757358\n",
            "[222]\ttest-auc:0.757386\n",
            "[223]\ttest-auc:0.757425\n",
            "[224]\ttest-auc:0.757463\n",
            "[225]\ttest-auc:0.75746\n",
            "[226]\ttest-auc:0.757462\n",
            "[227]\ttest-auc:0.757425\n",
            "[228]\ttest-auc:0.757428\n",
            "[229]\ttest-auc:0.757401\n",
            "[230]\ttest-auc:0.757399\n",
            "[231]\ttest-auc:0.757419\n",
            "[232]\ttest-auc:0.75743\n",
            "[233]\ttest-auc:0.757438\n",
            "[234]\ttest-auc:0.757478\n",
            "[235]\ttest-auc:0.757452\n",
            "[236]\ttest-auc:0.75747\n",
            "[237]\ttest-auc:0.757502\n",
            "[238]\ttest-auc:0.75756\n",
            "[239]\ttest-auc:0.757598\n",
            "[240]\ttest-auc:0.757523\n",
            "[241]\ttest-auc:0.757586\n",
            "[242]\ttest-auc:0.757619\n",
            "[243]\ttest-auc:0.757603\n",
            "[244]\ttest-auc:0.757561\n",
            "[245]\ttest-auc:0.757553\n",
            "[246]\ttest-auc:0.757565\n",
            "[247]\ttest-auc:0.757565\n",
            "[248]\ttest-auc:0.7576\n",
            "[249]\ttest-auc:0.757607\n",
            "[250]\ttest-auc:0.757595\n",
            "[251]\ttest-auc:0.757594\n",
            "[252]\ttest-auc:0.757615\n",
            "Stopping. Best iteration:\n",
            "[242]\ttest-auc:0.757619\n",
            "\n"
          ],
          "name": "stdout"
        }
      ]
    },
    {
      "cell_type": "code",
      "metadata": {
        "id": "tDMS9mXZyzfG",
        "colab_type": "code",
        "colab": {}
      },
      "source": [
        "xgb_test = xgb.DMatrix(test)"
      ],
      "execution_count": 0,
      "outputs": []
    },
    {
      "cell_type": "code",
      "metadata": {
        "id": "Qc3TvkkthmRO",
        "colab_type": "code",
        "colab": {}
      },
      "source": [
        "pred_xgb = xgb_model.predict(xgb_test, ntree_limit = xgb_model.best_ntree_limit).tolist()\n",
        "final_xgb_pred = pd.DataFrame(pred_xgb)"
      ],
      "execution_count": 0,
      "outputs": []
    },
    {
      "cell_type": "code",
      "metadata": {
        "id": "YwSKNqZa1XmE",
        "colab_type": "code",
        "colab": {}
      },
      "source": [
        "final_xgb_pred.to_csv('XGB.csv')"
      ],
      "execution_count": 0,
      "outputs": []
    },
    {
      "cell_type": "markdown",
      "metadata": {
        "id": "2PIgu0PrlwK1",
        "colab_type": "text"
      },
      "source": [
        "*Test AUC - 0.74*"
      ]
    },
    {
      "cell_type": "markdown",
      "metadata": {
        "id": "py9Y2js7juVM",
        "colab_type": "text"
      },
      "source": [
        "**Model Building - 3.1. XGBoost with SMOTE resampling**"
      ]
    },
    {
      "cell_type": "code",
      "metadata": {
        "id": "DPf2PAhsj7R2",
        "colab_type": "code",
        "outputId": "bb23f001-2f4e-49c9-a30b-dd49aa4e3cad",
        "colab": {
          "base_uri": "https://localhost:8080/",
          "height": 1000
        }
      },
      "source": [
        "params['scale_pos_weight'] = 1\n",
        "\n",
        "xgb_train_resample, xgb_val_resample, xgb_y_train_resample, xgb_y_val_resample = train_test_split(train_resample, y_resample, test_size = 0.2, random_state = 42)\n",
        "\n",
        "xgb_model_resample = XGBmodel(xgb_train_resample,xgb_val_resample,xgb_y_train_resample,xgb_y_val_resample,params)\n",
        "\n",
        "pred_xgb_resample = xgb_model_resample.predict(xgb_test, ntree_limit = xgb_model_resample.best_ntree_limit).tolist()\n",
        "final_xgb_pred_resample = pd.DataFrame(pred_xgb_resample)\n",
        "\n",
        "final_xgb_pred_resample.to_csv('XGB_resample.csv')"
      ],
      "execution_count": 0,
      "outputs": [
        {
          "output_type": "stream",
          "text": [
            "/usr/local/lib/python3.6/dist-packages/xgboost/core.py:587: FutureWarning: Series.base is deprecated and will be removed in a future version\n",
            "  if getattr(data, 'base', None) is not None and \\\n"
          ],
          "name": "stderr"
        },
        {
          "output_type": "stream",
          "text": [
            "[0]\ttest-auc:0.936419\n",
            "Will train until test-auc hasn't improved in 10 rounds.\n",
            "[1]\ttest-auc:0.954369\n",
            "[2]\ttest-auc:0.957356\n",
            "[3]\ttest-auc:0.958322\n",
            "[4]\ttest-auc:0.958141\n",
            "[5]\ttest-auc:0.958022\n",
            "[6]\ttest-auc:0.958831\n",
            "[7]\ttest-auc:0.961947\n",
            "[8]\ttest-auc:0.965782\n",
            "[9]\ttest-auc:0.966969\n",
            "[10]\ttest-auc:0.967625\n",
            "[11]\ttest-auc:0.96783\n",
            "[12]\ttest-auc:0.968445\n",
            "[13]\ttest-auc:0.96842\n",
            "[14]\ttest-auc:0.968351\n",
            "[15]\ttest-auc:0.968436\n",
            "[16]\ttest-auc:0.968956\n",
            "[17]\ttest-auc:0.968908\n",
            "[18]\ttest-auc:0.969449\n",
            "[19]\ttest-auc:0.969687\n",
            "[20]\ttest-auc:0.969887\n",
            "[21]\ttest-auc:0.970204\n",
            "[22]\ttest-auc:0.970598\n",
            "[23]\ttest-auc:0.97077\n",
            "[24]\ttest-auc:0.971102\n",
            "[25]\ttest-auc:0.971279\n",
            "[26]\ttest-auc:0.971449\n",
            "[27]\ttest-auc:0.971694\n",
            "[28]\ttest-auc:0.971883\n",
            "[29]\ttest-auc:0.972003\n",
            "[30]\ttest-auc:0.97215\n",
            "[31]\ttest-auc:0.972283\n",
            "[32]\ttest-auc:0.972399\n",
            "[33]\ttest-auc:0.972529\n",
            "[34]\ttest-auc:0.972657\n",
            "[35]\ttest-auc:0.972812\n",
            "[36]\ttest-auc:0.972903\n",
            "[37]\ttest-auc:0.972998\n",
            "[38]\ttest-auc:0.973154\n",
            "[39]\ttest-auc:0.973258\n",
            "[40]\ttest-auc:0.973334\n",
            "[41]\ttest-auc:0.97337\n",
            "[42]\ttest-auc:0.973455\n",
            "[43]\ttest-auc:0.973552\n",
            "[44]\ttest-auc:0.97366\n",
            "[45]\ttest-auc:0.973765\n",
            "[46]\ttest-auc:0.973842\n",
            "[47]\ttest-auc:0.973903\n",
            "[48]\ttest-auc:0.97396\n",
            "[49]\ttest-auc:0.974037\n",
            "[50]\ttest-auc:0.974128\n",
            "[51]\ttest-auc:0.974211\n",
            "[52]\ttest-auc:0.974274\n",
            "[53]\ttest-auc:0.974321\n",
            "[54]\ttest-auc:0.974378\n",
            "[55]\ttest-auc:0.974439\n",
            "[56]\ttest-auc:0.974486\n",
            "[57]\ttest-auc:0.974553\n",
            "[58]\ttest-auc:0.974602\n",
            "[59]\ttest-auc:0.974653\n",
            "[60]\ttest-auc:0.974712\n",
            "[61]\ttest-auc:0.974765\n",
            "[62]\ttest-auc:0.974816\n",
            "[63]\ttest-auc:0.974858\n",
            "[64]\ttest-auc:0.974907\n",
            "[65]\ttest-auc:0.97494\n",
            "[66]\ttest-auc:0.97499\n",
            "[67]\ttest-auc:0.975043\n",
            "[68]\ttest-auc:0.975084\n",
            "[69]\ttest-auc:0.975191\n",
            "[70]\ttest-auc:0.975237\n",
            "[71]\ttest-auc:0.975273\n",
            "[72]\ttest-auc:0.975295\n",
            "[73]\ttest-auc:0.9754\n",
            "[74]\ttest-auc:0.975432\n",
            "[75]\ttest-auc:0.975459\n",
            "[76]\ttest-auc:0.975488\n",
            "[77]\ttest-auc:0.975516\n",
            "[78]\ttest-auc:0.975553\n",
            "[79]\ttest-auc:0.975569\n",
            "[80]\ttest-auc:0.975599\n",
            "[81]\ttest-auc:0.975671\n",
            "[82]\ttest-auc:0.975695\n",
            "[83]\ttest-auc:0.975723\n",
            "[84]\ttest-auc:0.975745\n",
            "[85]\ttest-auc:0.975804\n",
            "[86]\ttest-auc:0.975832\n",
            "[87]\ttest-auc:0.975851\n",
            "[88]\ttest-auc:0.97587\n",
            "[89]\ttest-auc:0.975898\n",
            "[90]\ttest-auc:0.975914\n",
            "[91]\ttest-auc:0.975958\n",
            "[92]\ttest-auc:0.97598\n",
            "[93]\ttest-auc:0.976031\n",
            "[94]\ttest-auc:0.976069\n",
            "[95]\ttest-auc:0.976092\n",
            "[96]\ttest-auc:0.976106\n",
            "[97]\ttest-auc:0.976129\n",
            "[98]\ttest-auc:0.976152\n",
            "[99]\ttest-auc:0.97618\n",
            "[100]\ttest-auc:0.976191\n",
            "[101]\ttest-auc:0.976231\n",
            "[102]\ttest-auc:0.976251\n",
            "[103]\ttest-auc:0.976283\n",
            "[104]\ttest-auc:0.976321\n",
            "[105]\ttest-auc:0.976349\n",
            "[106]\ttest-auc:0.976361\n",
            "[107]\ttest-auc:0.976385\n",
            "[108]\ttest-auc:0.976407\n",
            "[109]\ttest-auc:0.976434\n",
            "[110]\ttest-auc:0.976451\n",
            "[111]\ttest-auc:0.976478\n",
            "[112]\ttest-auc:0.976494\n",
            "[113]\ttest-auc:0.97651\n",
            "[114]\ttest-auc:0.976537\n",
            "[115]\ttest-auc:0.976556\n",
            "[116]\ttest-auc:0.976586\n",
            "[117]\ttest-auc:0.976609\n",
            "[118]\ttest-auc:0.97663\n",
            "[119]\ttest-auc:0.976648\n",
            "[120]\ttest-auc:0.97666\n",
            "[121]\ttest-auc:0.976685\n",
            "[122]\ttest-auc:0.976699\n",
            "[123]\ttest-auc:0.976712\n",
            "[124]\ttest-auc:0.97673\n",
            "[125]\ttest-auc:0.976746\n",
            "[126]\ttest-auc:0.976765\n",
            "[127]\ttest-auc:0.97679\n",
            "[128]\ttest-auc:0.9768\n",
            "[129]\ttest-auc:0.976823\n",
            "[130]\ttest-auc:0.976834\n",
            "[131]\ttest-auc:0.976859\n",
            "[132]\ttest-auc:0.976878\n",
            "[133]\ttest-auc:0.976886\n",
            "[134]\ttest-auc:0.976902\n",
            "[135]\ttest-auc:0.976922\n",
            "[136]\ttest-auc:0.976937\n",
            "[137]\ttest-auc:0.976956\n",
            "[138]\ttest-auc:0.976973\n",
            "[139]\ttest-auc:0.976988\n",
            "[140]\ttest-auc:0.977004\n",
            "[141]\ttest-auc:0.977014\n",
            "[142]\ttest-auc:0.977027\n",
            "[143]\ttest-auc:0.977035\n",
            "[144]\ttest-auc:0.977055\n",
            "[145]\ttest-auc:0.977076\n",
            "[146]\ttest-auc:0.977106\n",
            "[147]\ttest-auc:0.977133\n",
            "[148]\ttest-auc:0.97715\n",
            "[149]\ttest-auc:0.977174\n",
            "[150]\ttest-auc:0.977195\n",
            "[151]\ttest-auc:0.97722\n",
            "[152]\ttest-auc:0.97723\n",
            "[153]\ttest-auc:0.977244\n",
            "[154]\ttest-auc:0.977263\n",
            "[155]\ttest-auc:0.977291\n",
            "[156]\ttest-auc:0.97731\n",
            "[157]\ttest-auc:0.977323\n",
            "[158]\ttest-auc:0.977331\n",
            "[159]\ttest-auc:0.977348\n",
            "[160]\ttest-auc:0.977364\n",
            "[161]\ttest-auc:0.977374\n",
            "[162]\ttest-auc:0.97739\n",
            "[163]\ttest-auc:0.977408\n",
            "[164]\ttest-auc:0.977428\n",
            "[165]\ttest-auc:0.977438\n",
            "[166]\ttest-auc:0.977446\n",
            "[167]\ttest-auc:0.977464\n",
            "[168]\ttest-auc:0.97748\n",
            "[169]\ttest-auc:0.977488\n",
            "[170]\ttest-auc:0.977502\n",
            "[171]\ttest-auc:0.97752\n",
            "[172]\ttest-auc:0.977532\n",
            "[173]\ttest-auc:0.977551\n",
            "[174]\ttest-auc:0.977557\n",
            "[175]\ttest-auc:0.977572\n",
            "[176]\ttest-auc:0.977591\n",
            "[177]\ttest-auc:0.977604\n",
            "[178]\ttest-auc:0.97762\n",
            "[179]\ttest-auc:0.977628\n",
            "[180]\ttest-auc:0.977635\n",
            "[181]\ttest-auc:0.977667\n",
            "[182]\ttest-auc:0.977671\n",
            "[183]\ttest-auc:0.977684\n",
            "[184]\ttest-auc:0.977698\n",
            "[185]\ttest-auc:0.977714\n",
            "[186]\ttest-auc:0.977729\n",
            "[187]\ttest-auc:0.977736\n",
            "[188]\ttest-auc:0.977755\n",
            "[189]\ttest-auc:0.977762\n",
            "[190]\ttest-auc:0.977768\n",
            "[191]\ttest-auc:0.977776\n",
            "[192]\ttest-auc:0.977791\n",
            "[193]\ttest-auc:0.977802\n",
            "[194]\ttest-auc:0.977813\n",
            "[195]\ttest-auc:0.977833\n",
            "[196]\ttest-auc:0.977848\n",
            "[197]\ttest-auc:0.977858\n",
            "[198]\ttest-auc:0.977863\n",
            "[199]\ttest-auc:0.977877\n",
            "[200]\ttest-auc:0.97789\n",
            "[201]\ttest-auc:0.977893\n",
            "[202]\ttest-auc:0.977906\n",
            "[203]\ttest-auc:0.977915\n",
            "[204]\ttest-auc:0.97792\n",
            "[205]\ttest-auc:0.977947\n",
            "[206]\ttest-auc:0.977956\n",
            "[207]\ttest-auc:0.977969\n",
            "[208]\ttest-auc:0.977978\n",
            "[209]\ttest-auc:0.977985\n",
            "[210]\ttest-auc:0.977995\n",
            "[211]\ttest-auc:0.978011\n",
            "[212]\ttest-auc:0.978017\n",
            "[213]\ttest-auc:0.978027\n",
            "[214]\ttest-auc:0.978042\n",
            "[215]\ttest-auc:0.978048\n",
            "[216]\ttest-auc:0.978057\n",
            "[217]\ttest-auc:0.978068\n",
            "[218]\ttest-auc:0.978089\n",
            "[219]\ttest-auc:0.978105\n",
            "[220]\ttest-auc:0.978114\n",
            "[221]\ttest-auc:0.978119\n",
            "[222]\ttest-auc:0.978125\n",
            "[223]\ttest-auc:0.978134\n",
            "[224]\ttest-auc:0.97814\n",
            "[225]\ttest-auc:0.978145\n",
            "[226]\ttest-auc:0.978151\n",
            "[227]\ttest-auc:0.97816\n",
            "[228]\ttest-auc:0.978166\n",
            "[229]\ttest-auc:0.978169\n",
            "[230]\ttest-auc:0.978176\n",
            "[231]\ttest-auc:0.978196\n",
            "[232]\ttest-auc:0.978201\n",
            "[233]\ttest-auc:0.978219\n",
            "[234]\ttest-auc:0.978227\n",
            "[235]\ttest-auc:0.978233\n",
            "[236]\ttest-auc:0.978236\n",
            "[237]\ttest-auc:0.97824\n",
            "[238]\ttest-auc:0.978249\n",
            "[239]\ttest-auc:0.978253\n",
            "[240]\ttest-auc:0.978257\n",
            "[241]\ttest-auc:0.978265\n",
            "[242]\ttest-auc:0.978265\n",
            "[243]\ttest-auc:0.978263\n",
            "[244]\ttest-auc:0.978274\n",
            "[245]\ttest-auc:0.978284\n",
            "[246]\ttest-auc:0.978288\n",
            "[247]\ttest-auc:0.97829\n",
            "[248]\ttest-auc:0.978297\n",
            "[249]\ttest-auc:0.9783\n",
            "[250]\ttest-auc:0.978313\n",
            "[251]\ttest-auc:0.97832\n",
            "[252]\ttest-auc:0.978321\n",
            "[253]\ttest-auc:0.978326\n",
            "[254]\ttest-auc:0.978328\n",
            "[255]\ttest-auc:0.978329\n",
            "[256]\ttest-auc:0.978339\n",
            "[257]\ttest-auc:0.978344\n",
            "[258]\ttest-auc:0.978355\n",
            "[259]\ttest-auc:0.978365\n",
            "[260]\ttest-auc:0.97837\n",
            "[261]\ttest-auc:0.978383\n",
            "[262]\ttest-auc:0.978393\n",
            "[263]\ttest-auc:0.978396\n",
            "[264]\ttest-auc:0.9784\n",
            "[265]\ttest-auc:0.978402\n",
            "[266]\ttest-auc:0.978409\n",
            "[267]\ttest-auc:0.978413\n",
            "[268]\ttest-auc:0.978417\n",
            "[269]\ttest-auc:0.978424\n",
            "[270]\ttest-auc:0.978429\n",
            "[271]\ttest-auc:0.978431\n",
            "[272]\ttest-auc:0.978439\n",
            "[273]\ttest-auc:0.978452\n",
            "[274]\ttest-auc:0.978459\n",
            "[275]\ttest-auc:0.97846\n",
            "[276]\ttest-auc:0.978464\n",
            "[277]\ttest-auc:0.97846\n",
            "[278]\ttest-auc:0.978464\n",
            "[279]\ttest-auc:0.978467\n",
            "[280]\ttest-auc:0.97847\n",
            "[281]\ttest-auc:0.978476\n",
            "[282]\ttest-auc:0.978478\n",
            "[283]\ttest-auc:0.978482\n",
            "[284]\ttest-auc:0.978485\n",
            "[285]\ttest-auc:0.978488\n",
            "[286]\ttest-auc:0.978489\n",
            "[287]\ttest-auc:0.978495\n",
            "[288]\ttest-auc:0.978496\n",
            "[289]\ttest-auc:0.978495\n",
            "[290]\ttest-auc:0.978503\n",
            "[291]\ttest-auc:0.9785\n",
            "[292]\ttest-auc:0.978512\n",
            "[293]\ttest-auc:0.978516\n",
            "[294]\ttest-auc:0.978519\n",
            "[295]\ttest-auc:0.978521\n",
            "[296]\ttest-auc:0.978523\n",
            "[297]\ttest-auc:0.978528\n",
            "[298]\ttest-auc:0.97853\n",
            "[299]\ttest-auc:0.978533\n",
            "[300]\ttest-auc:0.978533\n",
            "[301]\ttest-auc:0.978533\n",
            "[302]\ttest-auc:0.978536\n",
            "[303]\ttest-auc:0.978542\n",
            "[304]\ttest-auc:0.978549\n",
            "[305]\ttest-auc:0.978551\n",
            "[306]\ttest-auc:0.978555\n",
            "[307]\ttest-auc:0.978564\n",
            "[308]\ttest-auc:0.978572\n",
            "[309]\ttest-auc:0.978574\n",
            "[310]\ttest-auc:0.97858\n",
            "[311]\ttest-auc:0.978585\n",
            "[312]\ttest-auc:0.97859\n",
            "[313]\ttest-auc:0.978593\n",
            "[314]\ttest-auc:0.978595\n",
            "[315]\ttest-auc:0.978595\n",
            "[316]\ttest-auc:0.9786\n",
            "[317]\ttest-auc:0.978603\n",
            "[318]\ttest-auc:0.97861\n",
            "[319]\ttest-auc:0.978614\n",
            "[320]\ttest-auc:0.978618\n",
            "[321]\ttest-auc:0.978618\n",
            "[322]\ttest-auc:0.978618\n",
            "[323]\ttest-auc:0.978622\n",
            "[324]\ttest-auc:0.978621\n",
            "[325]\ttest-auc:0.978625\n",
            "[326]\ttest-auc:0.978627\n",
            "[327]\ttest-auc:0.978627\n",
            "[328]\ttest-auc:0.978628\n",
            "[329]\ttest-auc:0.978629\n",
            "[330]\ttest-auc:0.978635\n",
            "[331]\ttest-auc:0.978637\n",
            "[332]\ttest-auc:0.978639\n",
            "[333]\ttest-auc:0.978639\n",
            "[334]\ttest-auc:0.978643\n",
            "[335]\ttest-auc:0.978648\n",
            "[336]\ttest-auc:0.978652\n",
            "[337]\ttest-auc:0.978654\n",
            "[338]\ttest-auc:0.978665\n",
            "[339]\ttest-auc:0.978666\n",
            "[340]\ttest-auc:0.978668\n",
            "[341]\ttest-auc:0.978668\n",
            "[342]\ttest-auc:0.97867\n",
            "[343]\ttest-auc:0.978681\n",
            "[344]\ttest-auc:0.978683\n",
            "[345]\ttest-auc:0.978689\n",
            "[346]\ttest-auc:0.978696\n",
            "[347]\ttest-auc:0.978699\n",
            "[348]\ttest-auc:0.978698\n",
            "[349]\ttest-auc:0.978701\n",
            "[350]\ttest-auc:0.978709\n",
            "[351]\ttest-auc:0.978718\n",
            "[352]\ttest-auc:0.978724\n",
            "[353]\ttest-auc:0.978726\n",
            "[354]\ttest-auc:0.978724\n",
            "[355]\ttest-auc:0.978726\n",
            "[356]\ttest-auc:0.978729\n",
            "[357]\ttest-auc:0.978737\n",
            "[358]\ttest-auc:0.978737\n",
            "[359]\ttest-auc:0.978741\n",
            "[360]\ttest-auc:0.978747\n",
            "[361]\ttest-auc:0.97875\n",
            "[362]\ttest-auc:0.978755\n",
            "[363]\ttest-auc:0.978753\n",
            "[364]\ttest-auc:0.978754\n",
            "[365]\ttest-auc:0.978755\n",
            "[366]\ttest-auc:0.978758\n",
            "[367]\ttest-auc:0.978761\n",
            "[368]\ttest-auc:0.978764\n",
            "[369]\ttest-auc:0.978766\n",
            "[370]\ttest-auc:0.978772\n",
            "[371]\ttest-auc:0.978771\n",
            "[372]\ttest-auc:0.978776\n",
            "[373]\ttest-auc:0.978773\n",
            "[374]\ttest-auc:0.978775\n",
            "[375]\ttest-auc:0.978775\n",
            "[376]\ttest-auc:0.978775\n",
            "[377]\ttest-auc:0.978776\n",
            "[378]\ttest-auc:0.978776\n",
            "[379]\ttest-auc:0.97878\n",
            "[380]\ttest-auc:0.978783\n",
            "[381]\ttest-auc:0.978785\n",
            "[382]\ttest-auc:0.978786\n",
            "[383]\ttest-auc:0.978793\n",
            "[384]\ttest-auc:0.978795\n",
            "[385]\ttest-auc:0.978795\n",
            "[386]\ttest-auc:0.978798\n",
            "[387]\ttest-auc:0.9788\n",
            "[388]\ttest-auc:0.978803\n",
            "[389]\ttest-auc:0.978805\n",
            "[390]\ttest-auc:0.97881\n",
            "[391]\ttest-auc:0.978811\n",
            "[392]\ttest-auc:0.978813\n",
            "[393]\ttest-auc:0.978812\n",
            "[394]\ttest-auc:0.978812\n",
            "[395]\ttest-auc:0.978816\n",
            "[396]\ttest-auc:0.978815\n",
            "[397]\ttest-auc:0.978818\n",
            "[398]\ttest-auc:0.978818\n",
            "[399]\ttest-auc:0.978821\n",
            "[400]\ttest-auc:0.978824\n",
            "[401]\ttest-auc:0.978824\n",
            "[402]\ttest-auc:0.978826\n",
            "[403]\ttest-auc:0.978826\n",
            "[404]\ttest-auc:0.978833\n",
            "[405]\ttest-auc:0.978829\n",
            "[406]\ttest-auc:0.978831\n",
            "[407]\ttest-auc:0.978834\n",
            "[408]\ttest-auc:0.978835\n",
            "[409]\ttest-auc:0.978833\n",
            "[410]\ttest-auc:0.978833\n",
            "[411]\ttest-auc:0.978835\n",
            "[412]\ttest-auc:0.978835\n",
            "[413]\ttest-auc:0.978833\n",
            "[414]\ttest-auc:0.978834\n",
            "[415]\ttest-auc:0.978836\n",
            "[416]\ttest-auc:0.978838\n",
            "[417]\ttest-auc:0.978839\n",
            "[418]\ttest-auc:0.978841\n",
            "[419]\ttest-auc:0.978843\n",
            "[420]\ttest-auc:0.978847\n",
            "[421]\ttest-auc:0.97885\n",
            "[422]\ttest-auc:0.978852\n",
            "[423]\ttest-auc:0.978854\n",
            "[424]\ttest-auc:0.97886\n",
            "[425]\ttest-auc:0.978862\n",
            "[426]\ttest-auc:0.978863\n",
            "[427]\ttest-auc:0.978867\n",
            "[428]\ttest-auc:0.978867\n",
            "[429]\ttest-auc:0.978868\n",
            "[430]\ttest-auc:0.97887\n",
            "[431]\ttest-auc:0.978876\n",
            "[432]\ttest-auc:0.978879\n",
            "[433]\ttest-auc:0.97888\n",
            "[434]\ttest-auc:0.978882\n",
            "[435]\ttest-auc:0.978881\n",
            "[436]\ttest-auc:0.978881\n",
            "[437]\ttest-auc:0.978885\n",
            "[438]\ttest-auc:0.978888\n",
            "[439]\ttest-auc:0.978888\n",
            "[440]\ttest-auc:0.978889\n",
            "[441]\ttest-auc:0.978887\n",
            "[442]\ttest-auc:0.978888\n",
            "[443]\ttest-auc:0.978889\n",
            "[444]\ttest-auc:0.978891\n",
            "[445]\ttest-auc:0.978899\n",
            "[446]\ttest-auc:0.9789\n",
            "[447]\ttest-auc:0.978902\n",
            "[448]\ttest-auc:0.978906\n",
            "[449]\ttest-auc:0.978907\n",
            "[450]\ttest-auc:0.978914\n",
            "[451]\ttest-auc:0.978919\n",
            "[452]\ttest-auc:0.978919\n",
            "[453]\ttest-auc:0.97892\n",
            "[454]\ttest-auc:0.978921\n",
            "[455]\ttest-auc:0.97892\n",
            "[456]\ttest-auc:0.978925\n",
            "[457]\ttest-auc:0.978927\n",
            "[458]\ttest-auc:0.978931\n",
            "[459]\ttest-auc:0.97893\n",
            "[460]\ttest-auc:0.978931\n",
            "[461]\ttest-auc:0.978929\n",
            "[462]\ttest-auc:0.978927\n",
            "[463]\ttest-auc:0.978929\n",
            "[464]\ttest-auc:0.978929\n",
            "[465]\ttest-auc:0.978928\n",
            "[466]\ttest-auc:0.97893\n",
            "[467]\ttest-auc:0.97893\n",
            "[468]\ttest-auc:0.97893\n",
            "Stopping. Best iteration:\n",
            "[458]\ttest-auc:0.978931\n",
            "\n"
          ],
          "name": "stdout"
        }
      ]
    },
    {
      "cell_type": "markdown",
      "metadata": {
        "id": "gyMcgQsfr5W0",
        "colab_type": "text"
      },
      "source": [
        "*Test AUC - 0.746*"
      ]
    },
    {
      "cell_type": "markdown",
      "metadata": {
        "id": "O7yiIObeUoDY",
        "colab_type": "text"
      },
      "source": [
        "**Model Building - 4.1. LGBM without resampling**"
      ]
    },
    {
      "cell_type": "code",
      "metadata": {
        "id": "bUEq_ZUTUqW7",
        "colab_type": "code",
        "colab": {}
      },
      "source": [
        "import lightgbm as lgb"
      ],
      "execution_count": 0,
      "outputs": []
    },
    {
      "cell_type": "code",
      "metadata": {
        "id": "YQH9MpOKhclf",
        "colab_type": "code",
        "colab": {}
      },
      "source": [
        "# lgbm_train = train\n",
        "# lgbm_test = test"
      ],
      "execution_count": 0,
      "outputs": []
    },
    {
      "cell_type": "code",
      "metadata": {
        "id": "xX7KoQruw3h6",
        "colab_type": "code",
        "colab": {}
      },
      "source": [
        "# lgbm_categ_column = ['NAME_CONTRACT_TYPE', 'CODE_GENDER', 'FLAG_OWN_CAR', 'FLAG_OWN_REALTY',\n",
        "#        'NAME_TYPE_SUITE', 'NAME_INCOME_TYPE', 'NAME_EDUCATION_TYPE',\n",
        "#        'NAME_FAMILY_STATUS', 'NAME_HOUSING_TYPE', 'OCCUPATION_TYPE',\n",
        "#        'WEEKDAY_APPR_PROCESS_START', 'ORGANIZATION_TYPE']"
      ],
      "execution_count": 0,
      "outputs": []
    },
    {
      "cell_type": "code",
      "metadata": {
        "id": "sKLLC5-5yKCH",
        "colab_type": "code",
        "colab": {}
      },
      "source": [
        "lgbm_train,lgbm_val,lgbm_y_train,lgbm_y_val = train_test_split(train,y, test_size = 0.2, random_state = 42)"
      ],
      "execution_count": 0,
      "outputs": []
    },
    {
      "cell_type": "code",
      "metadata": {
        "id": "pfTg1WCA0m4L",
        "colab_type": "code",
        "colab": {}
      },
      "source": [
        "# taking data as LightGBM format\n",
        "trn_data = lgb.Dataset(lgbm_train, label=lgbm_y_train)\n",
        "val_data = lgb.Dataset(lgbm_val, label=lgbm_y_val)"
      ],
      "execution_count": 0,
      "outputs": []
    },
    {
      "cell_type": "code",
      "metadata": {
        "id": "qGapaGWR0LBU",
        "colab_type": "code",
        "colab": {}
      },
      "source": [
        "lgbm_model = {\n",
        "    \"objective\" : \"binary\",\n",
        "    \"metric\" : \"auc\",\n",
        "    \"boosting\": 'gbdt',\n",
        "    \"max_depth\" : 8,\n",
        "    \"sub_sample\":0.8,\n",
        "    \"num_leaves\" : 31,\n",
        "    \"learning_rate\" : 0.05,\n",
        "    \"seed\": 42}"
      ],
      "execution_count": 0,
      "outputs": []
    },
    {
      "cell_type": "code",
      "metadata": {
        "id": "VPnzIqb91FJy",
        "colab_type": "code",
        "outputId": "a2974ad2-62aa-425b-9ce7-b7f34adca50b",
        "colab": {
          "base_uri": "https://localhost:8080/",
          "height": 84
        }
      },
      "source": [
        "fit_lgbm = lgb.train(lgbm_model, trn_data, num_boost_round= 500, valid_sets = [trn_data, val_data], verbose_eval=500, \n",
        "                early_stopping_rounds = 100)"
      ],
      "execution_count": 0,
      "outputs": [
        {
          "output_type": "stream",
          "text": [
            "Training until validation scores don't improve for 100 rounds.\n",
            "[500]\ttraining's auc: 0.847107\tvalid_1's auc: 0.759631\n",
            "Did not meet early stopping. Best iteration is:\n",
            "[500]\ttraining's auc: 0.847107\tvalid_1's auc: 0.759631\n"
          ],
          "name": "stdout"
        }
      ]
    },
    {
      "cell_type": "code",
      "metadata": {
        "id": "oDFXYKJL1IFw",
        "colab_type": "code",
        "colab": {}
      },
      "source": [
        "pred_lgbm = fit_lgbm.predict(test, num_iteration=fit_lgbm.best_iteration)"
      ],
      "execution_count": 0,
      "outputs": []
    },
    {
      "cell_type": "code",
      "metadata": {
        "id": "0Gl6LbQoaJx-",
        "colab_type": "code",
        "outputId": "025943ff-00e7-4ced-8205-9532acf722c1",
        "colab": {
          "base_uri": "https://localhost:8080/",
          "height": 312
        }
      },
      "source": [
        "lgb.plot_importance(fit_lgbm,max_num_features=20)"
      ],
      "execution_count": 0,
      "outputs": [
        {
          "output_type": "execute_result",
          "data": {
            "text/plain": [
              "<matplotlib.axes._subplots.AxesSubplot at 0x7f29cc05e278>"
            ]
          },
          "metadata": {
            "tags": []
          },
          "execution_count": 290
        },
        {
          "output_type": "display_data",
          "data": {
            "image/png": "[encoded data removed]",
            "text/plain": [
              "<Figure size 432x288 with 1 Axes>"
            ]
          },
          "metadata": {
            "tags": []
          }
        }
      ]
    },
    {
      "cell_type": "code",
      "metadata": {
        "id": "4ewEh_yi16ys",
        "colab_type": "code",
        "colab": {}
      },
      "source": [
        "final_lgbm_pred = pd.DataFrame(pred_lgbm)"
      ],
      "execution_count": 0,
      "outputs": []
    },
    {
      "cell_type": "code",
      "metadata": {
        "colab_type": "code",
        "id": "NzN38eNw_Y-w",
        "colab": {}
      },
      "source": [
        "final_lgbm_pred.to_csv('lgb.csv')"
      ],
      "execution_count": 0,
      "outputs": []
    },
    {
      "cell_type": "markdown",
      "metadata": {
        "id": "--b9WGh2skRG",
        "colab_type": "text"
      },
      "source": [
        "*Test AUC - 0.743*"
      ]
    },
    {
      "cell_type": "markdown",
      "metadata": {
        "id": "jaKqsDYDsWOF",
        "colab_type": "text"
      },
      "source": [
        "**Model Building - 4.2. LGBM with SMOTE resampling**"
      ]
    },
    {
      "cell_type": "code",
      "metadata": {
        "id": "zwhb2iZNsuWL",
        "colab_type": "code",
        "outputId": "905633ca-7f57-475f-9157-f20e2d52a34b",
        "colab": {
          "base_uri": "https://localhost:8080/",
          "height": 88
        }
      },
      "source": [
        "lgbm_train_resample,lgbm_val_resample,lgbm_y_train_resample,lgbm_y_val_resample = train_test_split(train_resample, y_resample, test_size = 0.2, random_state = 42)\n",
        "\n",
        "trn_data_resample = lgb.Dataset(lgbm_train_resample, label=lgbm_y_train_resample)\n",
        "val_data_resample = lgb.Dataset(lgbm_val_resample, label=lgbm_y_val_resample)\n",
        "\n",
        "fit_lgbm_resample = lgb.train(lgbm_model, trn_data_resample, num_boost_round= 500, valid_sets = [trn_data_resample, val_data_resample], verbose_eval=500, \n",
        "                early_stopping_rounds = 100)\n",
        "\n",
        "pred_lgbm_resample = fit_lgbm_resample.predict(test, num_iteration=fit_lgbm_resample.best_iteration)\n",
        "final_lgbm_pred_resample = pd.DataFrame(pred_lgbm_resample)\n",
        "final_lgbm_pred_resample.to_csv('lgb_resample.csv')"
      ],
      "execution_count": 0,
      "outputs": [
        {
          "output_type": "stream",
          "text": [
            "Training until validation scores don't improve for 100 rounds.\n",
            "[500]\ttraining's auc: 0.98525\tvalid_1's auc: 0.978718\n",
            "Did not meet early stopping. Best iteration is:\n",
            "[500]\ttraining's auc: 0.98525\tvalid_1's auc: 0.978718\n"
          ],
          "name": "stdout"
        }
      ]
    },
    {
      "cell_type": "markdown",
      "metadata": {
        "id": "2T9V6RGltti6",
        "colab_type": "text"
      },
      "source": [
        "*Test AUC - 0.75*"
      ]
    },
    {
      "cell_type": "markdown",
      "metadata": {
        "id": "Mcr52XAWVGGl",
        "colab_type": "text"
      },
      "source": [
        "**Model Building - 5. CATBoost**"
      ]
    },
    {
      "cell_type": "code",
      "metadata": {
        "id": "fCj1crqNcwoO",
        "colab_type": "code",
        "outputId": "58cf40e4-0b4c-4e09-f3c7-393c72f59ff9",
        "colab": {
          "base_uri": "https://localhost:8080/",
          "height": 553
        }
      },
      "source": [
        "!pip install catboost\n",
        "\n",
        "import catboost\n",
        "from catboost import Pool, CatBoostClassifier,cv"
      ],
      "execution_count": 0,
      "outputs": [
        {
          "output_type": "stream",
          "text": [
            "Collecting catboost\n",
            "\u001b[?25l  Downloading https://files.pythonhosted.org/packages/46/1f/3a3136ec9eeaaee2898ec01a3d5bde7933c4aa873bc924b790befc482ea0/catboost-0.16.1-cp36-none-manylinux1_x86_64.whl (61.7MB)\n",
            "     |████████████████████████████████| 61.7MB 456kB/s \n",
            "\u001b[?25hRequirement already satisfied: graphviz in /usr/local/lib/python3.6/dist-packages (from catboost) (0.10.1)\n",
            "Requirement already satisfied: six in /usr/local/lib/python3.6/dist-packages (from catboost) (1.12.0)\n",
            "Requirement already satisfied: plotly in /usr/local/lib/python3.6/dist-packages (from catboost) (3.6.1)\n",
            "Requirement already satisfied: pandas>=0.19.1 in /usr/local/lib/python3.6/dist-packages (from catboost) (0.24.2)\n",
            "Requirement already satisfied: numpy>=1.16.0 in /usr/local/lib/python3.6/dist-packages (from catboost) (1.16.4)\n",
            "Requirement already satisfied: matplotlib in /usr/local/lib/python3.6/dist-packages (from catboost) (3.0.3)\n",
            "Requirement already satisfied: retrying>=1.3.3 in /usr/local/lib/python3.6/dist-packages (from plotly->catboost) (1.3.3)\n",
            "Requirement already satisfied: requests in /usr/local/lib/python3.6/dist-packages (from plotly->catboost) (2.21.0)\n",
            "Requirement already satisfied: decorator>=4.0.6 in /usr/local/lib/python3.6/dist-packages (from plotly->catboost) (4.4.0)\n",
            "Requirement already satisfied: nbformat>=4.2 in /usr/local/lib/python3.6/dist-packages (from plotly->catboost) (4.4.0)\n",
            "Requirement already satisfied: pytz in /usr/local/lib/python3.6/dist-packages (from plotly->catboost) (2018.9)\n",
            "Requirement already satisfied: python-dateutil>=2.5.0 in /usr/local/lib/python3.6/dist-packages (from pandas>=0.19.1->catboost) (2.5.3)\n",
            "Requirement already satisfied: cycler>=0.10 in /usr/local/lib/python3.6/dist-packages (from matplotlib->catboost) (0.10.0)\n",
            "Requirement already satisfied: kiwisolver>=1.0.1 in /usr/local/lib/python3.6/dist-packages (from matplotlib->catboost) (1.1.0)\n",
            "Requirement already satisfied: pyparsing!=2.0.4,!=2.1.2,!=2.1.6,>=2.0.1 in /usr/local/lib/python3.6/dist-packages (from matplotlib->catboost) (2.4.0)\n",
            "Requirement already satisfied: urllib3<1.25,>=1.21.1 in /usr/local/lib/python3.6/dist-packages (from requests->plotly->catboost) (1.24.3)\n",
            "Requirement already satisfied: chardet<3.1.0,>=3.0.2 in /usr/local/lib/python3.6/dist-packages (from requests->plotly->catboost) (3.0.4)\n",
            "Requirement already satisfied: certifi>=2017.4.17 in /usr/local/lib/python3.6/dist-packages (from requests->plotly->catboost) (2019.6.16)\n",
            "Requirement already satisfied: idna<2.9,>=2.5 in /usr/local/lib/python3.6/dist-packages (from requests->plotly->catboost) (2.8)\n",
            "Requirement already satisfied: ipython-genutils in /usr/local/lib/python3.6/dist-packages (from nbformat>=4.2->plotly->catboost) (0.2.0)\n",
            "Requirement already satisfied: traitlets>=4.1 in /usr/local/lib/python3.6/dist-packages (from nbformat>=4.2->plotly->catboost) (4.3.2)\n",
            "Requirement already satisfied: jsonschema!=2.5.0,>=2.4 in /usr/local/lib/python3.6/dist-packages (from nbformat>=4.2->plotly->catboost) (2.6.0)\n",
            "Requirement already satisfied: jupyter-core in /usr/local/lib/python3.6/dist-packages (from nbformat>=4.2->plotly->catboost) (4.5.0)\n",
            "Requirement already satisfied: setuptools in /usr/local/lib/python3.6/dist-packages (from kiwisolver>=1.0.1->matplotlib->catboost) (41.0.1)\n",
            "Installing collected packages: catboost\n",
            "Successfully installed catboost-0.16.1\n"
          ],
          "name": "stdout"
        }
      ]
    },
    {
      "cell_type": "code",
      "metadata": {
        "id": "1BOhE90nokJf",
        "colab_type": "code",
        "outputId": "15ca8b49-07f8-41b2-f656-9693dcd960dd",
        "colab": {
          "base_uri": "https://localhost:8080/",
          "height": 35
        }
      },
      "source": [
        "cat_train = train_test_merged[train_test_merged['Train_YN'] == 1].copy()\n",
        "cat_test = train_test_merged[train_test_merged['Train_YN'] == 0].copy()\n",
        "\n",
        "cat_test.drop(columns = ['TARGET','Train_YN'], inplace = True)\n",
        "cat_train.drop(columns = ['Train_YN'], inplace = True)\n",
        "\n",
        "cat_y = cat_train['TARGET'].copy()\n",
        "\n",
        "cat_train.drop(columns = ['TARGET'], inplace = True)\n",
        "cat_train.shape, cat_test.shape, cat_y.shape"
      ],
      "execution_count": 0,
      "outputs": [
        {
          "output_type": "execute_result",
          "data": {
            "text/plain": [
              "((307511, 104), (48744, 104), (307511,))"
            ]
          },
          "metadata": {
            "tags": []
          },
          "execution_count": 146
        }
      ]
    },
    {
      "cell_type": "code",
      "metadata": {
        "id": "K91VFTiBpNzO",
        "colab_type": "code",
        "outputId": "65bce0cf-d317-4f60-e454-34dbf4496d29",
        "colab": {
          "base_uri": "https://localhost:8080/",
          "height": 141
        }
      },
      "source": [
        "# categorical columns\n",
        "\n",
        "cat_train.columns[cat_train.dtypes.values == 'O']"
      ],
      "execution_count": 0,
      "outputs": [
        {
          "output_type": "execute_result",
          "data": {
            "text/plain": [
              "Index(['CODE_GENDER', 'EMERGENCYSTATE_MODE', 'FLAG_OWN_CAR', 'FLAG_OWN_REALTY',\n",
              "       'HOUSETYPE_MODE', 'NAME_CONTRACT_TYPE', 'NAME_EDUCATION_TYPE',\n",
              "       'NAME_FAMILY_STATUS', 'NAME_HOUSING_TYPE', 'NAME_INCOME_TYPE',\n",
              "       'NAME_TYPE_SUITE', 'OCCUPATION_TYPE', 'ORGANIZATION_TYPE',\n",
              "       'WALLSMATERIAL_MODE', 'WEEKDAY_APPR_PROCESS_START', 'FAMILY SIZE',\n",
              "       'IS_CHILDREN'],\n",
              "      dtype='object')"
            ]
          },
          "metadata": {
            "tags": []
          },
          "execution_count": 147
        }
      ]
    },
    {
      "cell_type": "code",
      "metadata": {
        "id": "HqEetka29vV6",
        "colab_type": "code",
        "colab": {}
      },
      "source": [
        "categ_column = ['CODE_GENDER', 'EMERGENCYSTATE_MODE', 'FLAG_OWN_CAR', 'FLAG_OWN_REALTY',\n",
        "       'HOUSETYPE_MODE', 'NAME_CONTRACT_TYPE', 'NAME_EDUCATION_TYPE',\n",
        "       'NAME_FAMILY_STATUS', 'NAME_HOUSING_TYPE', 'NAME_INCOME_TYPE',\n",
        "       'NAME_TYPE_SUITE', 'OCCUPATION_TYPE', 'ORGANIZATION_TYPE',\n",
        "       'WALLSMATERIAL_MODE', 'WEEKDAY_APPR_PROCESS_START', 'FAMILY SIZE',\n",
        "       'IS_CHILDREN']"
      ],
      "execution_count": 0,
      "outputs": []
    },
    {
      "cell_type": "code",
      "metadata": {
        "id": "q9RZXcsCph4g",
        "colab_type": "code",
        "colab": {}
      },
      "source": [
        "x_train, x_val , y_train, y_val = train_test_split(cat_train,cat_y,test_size=0.20)"
      ],
      "execution_count": 0,
      "outputs": []
    },
    {
      "cell_type": "code",
      "metadata": {
        "id": "E87OaUOSdnaJ",
        "colab_type": "code",
        "colab": {}
      },
      "source": [
        "_train = Pool(x_train, label=y_train,cat_features= categ_column)\n",
        "_valid = Pool(x_val, label=y_val,cat_features= categ_column)"
      ],
      "execution_count": 0,
      "outputs": []
    },
    {
      "cell_type": "code",
      "metadata": {
        "id": "O7qDGH_x-gZ2",
        "colab_type": "code",
        "outputId": "c49a879b-bf6f-4c1e-c500-096cea04327a",
        "colab": {
          "base_uri": "https://localhost:8080/",
          "height": 124
        }
      },
      "source": [
        "model = CatBoostClassifier(subsample=0.6,\n",
        "                           custom_loss='Logloss',\n",
        "                           l2_leaf_reg = 10,\n",
        "                           random_strength = 0,\n",
        "                           max_depth=7,\n",
        "                           eval_metric=\"AUC\",\n",
        "                           learning_rate=0.03,\n",
        "                           iterations=60000,\n",
        "                           bootstrap_type='Bernoulli',\n",
        "                           task_type=\"GPU\",\n",
        "                           random_seed=42,\n",
        "                           od_type=\"Iter\")\n",
        "\n",
        "fit_model = model.fit(_train,verbose_eval=1000, early_stopping_rounds=100,eval_set=[_valid],use_best_model=True,plot=False)"
      ],
      "execution_count": 0,
      "outputs": [
        {
          "output_type": "stream",
          "text": [
            "0:\tlearn: 0.7136440\ttest: 0.7083797\tbest: 0.7083797 (0)\ttotal: 150ms\tremaining: 2h 29m 44s\n",
            "1000:\tlearn: 0.7890156\ttest: 0.7567133\tbest: 0.7567133 (1000)\ttotal: 1m 56s\tremaining: 1h 54m 21s\n",
            "2000:\tlearn: 0.8144173\ttest: 0.7583712\tbest: 0.7583915 (1990)\ttotal: 3m 53s\tremaining: 1h 52m 55s\n",
            "bestTest = 0.7584802806\n",
            "bestIteration = 2186\n",
            "Shrink model to first 2187 iterations.\n"
          ],
          "name": "stdout"
        }
      ]
    },
    {
      "cell_type": "code",
      "metadata": {
        "id": "qLbWXpZwAdV_",
        "colab_type": "code",
        "colab": {}
      },
      "source": [
        "# prediction\n",
        "y_pred = fit_model.predict_proba(cat_test)"
      ],
      "execution_count": 0,
      "outputs": []
    },
    {
      "cell_type": "code",
      "metadata": {
        "id": "EK0H-P2FA0dT",
        "colab_type": "code",
        "outputId": "f45bf919-a043-4275-beea-cbf7a2030053",
        "colab": {
          "base_uri": "https://localhost:8080/",
          "height": 204
        }
      },
      "source": [
        "final_catboost_pred = pd.DataFrame(y_pred)\n",
        "final_catboost_pred.head()"
      ],
      "execution_count": 0,
      "outputs": [
        {
          "output_type": "execute_result",
          "data": {
            "text/html": [
              "<div>\n",
              "<style scoped>\n",
              "    .dataframe tbody tr th:only-of-type {\n",
              "        vertical-align: middle;\n",
              "    }\n",
              "\n",
              "    .dataframe tbody tr th {\n",
              "        vertical-align: top;\n",
              "    }\n",
              "\n",
              "    .dataframe thead th {\n",
              "        text-align: right;\n",
              "    }\n",
              "</style>\n",
              "<table border=\"1\" class=\"dataframe\">\n",
              "  <thead>\n",
              "    <tr style=\"text-align: right;\">\n",
              "      <th></th>\n",
              "      <th>0</th>\n",
              "      <th>1</th>\n",
              "    </tr>\n",
              "  </thead>\n",
              "  <tbody>\n",
              "    <tr>\n",
              "      <th>0</th>\n",
              "      <td>0.942000</td>\n",
              "      <td>0.058000</td>\n",
              "    </tr>\n",
              "    <tr>\n",
              "      <th>1</th>\n",
              "      <td>0.843728</td>\n",
              "      <td>0.156272</td>\n",
              "    </tr>\n",
              "    <tr>\n",
              "      <th>2</th>\n",
              "      <td>0.980848</td>\n",
              "      <td>0.019152</td>\n",
              "    </tr>\n",
              "    <tr>\n",
              "      <th>3</th>\n",
              "      <td>0.962766</td>\n",
              "      <td>0.037234</td>\n",
              "    </tr>\n",
              "    <tr>\n",
              "      <th>4</th>\n",
              "      <td>0.870387</td>\n",
              "      <td>0.129613</td>\n",
              "    </tr>\n",
              "  </tbody>\n",
              "</table>\n",
              "</div>"
            ],
            "text/plain": [
              "          0         1\n",
              "0  0.942000  0.058000\n",
              "1  0.843728  0.156272\n",
              "2  0.980848  0.019152\n",
              "3  0.962766  0.037234\n",
              "4  0.870387  0.129613"
            ]
          },
          "metadata": {
            "tags": []
          },
          "execution_count": 153
        }
      ]
    },
    {
      "cell_type": "code",
      "metadata": {
        "id": "J_f8wd4UEAQU",
        "colab_type": "code",
        "colab": {}
      },
      "source": [
        "final_catboost_pred.to_csv('catboost_pred.csv')"
      ],
      "execution_count": 0,
      "outputs": []
    },
    {
      "cell_type": "markdown",
      "metadata": {
        "id": "odda95ve180n",
        "colab_type": "text"
      },
      "source": [
        "*Test AUC - 0.740*"
      ]
    },
    {
      "cell_type": "markdown",
      "metadata": {
        "id": "PRC8_Rcv_N7E",
        "colab_type": "text"
      },
      "source": [
        "**Model Building - 6. H20.ai Auto ML, let's benchmark**"
      ]
    },
    {
      "cell_type": "code",
      "metadata": {
        "id": "K-2zIBcs_Nh_",
        "colab_type": "code",
        "outputId": "be693c93-b7a2-495b-8f5f-e624f79ad82f",
        "colab": {
          "base_uri": "https://localhost:8080/",
          "height": 1000
        }
      },
      "source": [
        "# setting up the package\n",
        "\n",
        "!pip install requests\n",
        "!pip install tabulate\n",
        "!pip install \"colorama>=0.3.8\"\n",
        "!pip install future\n",
        "!pip install -f http://h2o-release.s3.amazonaws.com/h2o/latest_stable_Py.html h2o\n",
        "  \n",
        "import h2o\n",
        "from h2o.automl import H2OAutoML\n",
        "h2o.init()"
      ],
      "execution_count": 0,
      "outputs": [
        {
          "output_type": "stream",
          "text": [
            "Requirement already satisfied: requests in /usr/local/lib/python3.6/dist-packages (2.21.0)\n",
            "Requirement already satisfied: chardet<3.1.0,>=3.0.2 in /usr/local/lib/python3.6/dist-packages (from requests) (3.0.4)\n",
            "Requirement already satisfied: certifi>=2017.4.17 in /usr/local/lib/python3.6/dist-packages (from requests) (2019.6.16)\n",
            "Requirement already satisfied: urllib3<1.25,>=1.21.1 in /usr/local/lib/python3.6/dist-packages (from requests) (1.24.3)\n",
            "Requirement already satisfied: idna<2.9,>=2.5 in /usr/local/lib/python3.6/dist-packages (from requests) (2.8)\n",
            "Requirement already satisfied: tabulate in /usr/local/lib/python3.6/dist-packages (0.8.3)\n",
            "Collecting colorama>=0.3.8\n",
            "  Downloading https://files.pythonhosted.org/packages/4f/a6/728666f39bfff1719fc94c481890b2106837da9318031f71a8424b662e12/colorama-0.4.1-py2.py3-none-any.whl\n",
            "Installing collected packages: colorama\n",
            "Successfully installed colorama-0.4.1\n",
            "Requirement already satisfied: future in /usr/local/lib/python3.6/dist-packages (0.16.0)\n",
            "Looking in links: http://h2o-release.s3.amazonaws.com/h2o/latest_stable_Py.html\n",
            "Collecting h2o\n",
            "\u001b[33m  WARNING: The repository located at h2o-release.s3.amazonaws.com is not a trusted or secure host and is being ignored. If this repository is available via HTTPS we recommend you use HTTPS instead, otherwise you may silence this warning and allow it anyway with '--trusted-host h2o-release.s3.amazonaws.com'.\u001b[0m\n",
            "\u001b[?25l  Downloading https://files.pythonhosted.org/packages/5b/73/588dd867f9b41a39d313ac03d8642d2c9dd1fbef8155e5ba50f03ffa29c1/h2o-3.26.0.2.tar.gz (122.7MB)\n",
            "\u001b[K     |████████████████████████████████| 122.7MB 1.3MB/s \n",
            "\u001b[?25hRequirement already satisfied: requests in /usr/local/lib/python3.6/dist-packages (from h2o) (2.21.0)\n",
            "Requirement already satisfied: tabulate in /usr/local/lib/python3.6/dist-packages (from h2o) (0.8.3)\n",
            "Requirement already satisfied: future in /usr/local/lib/python3.6/dist-packages (from h2o) (0.16.0)\n",
            "Requirement already satisfied: colorama>=0.3.8 in /usr/local/lib/python3.6/dist-packages (from h2o) (0.4.1)\n",
            "Requirement already satisfied: urllib3<1.25,>=1.21.1 in /usr/local/lib/python3.6/dist-packages (from requests->h2o) (1.24.3)\n",
            "Requirement already satisfied: chardet<3.1.0,>=3.0.2 in /usr/local/lib/python3.6/dist-packages (from requests->h2o) (3.0.4)\n",
            "Requirement already satisfied: certifi>=2017.4.17 in /usr/local/lib/python3.6/dist-packages (from requests->h2o) (2019.6.16)\n",
            "Requirement already satisfied: idna<2.9,>=2.5 in /usr/local/lib/python3.6/dist-packages (from requests->h2o) (2.8)\n",
            "Building wheels for collected packages: h2o\n",
            "  Building wheel for h2o (setup.py) ... \u001b[?25l\u001b[?25hdone\n",
            "  Stored in directory: /root/.cache/pip/wheels/76/01/62/d6b7bfc9d599463401118db95eab37c134a6f24040828d31ab\n",
            "Successfully built h2o\n",
            "Installing collected packages: h2o\n",
            "Successfully installed h2o-3.26.0.2\n",
            "Checking whether there is an H2O instance running at http://localhost:54321 ..... not found.\n",
            "Attempting to start a local H2O server...\n",
            "  Java Version: openjdk version \"11.0.3\" 2019-04-16; OpenJDK Runtime Environment (build 11.0.3+7-Ubuntu-1ubuntu218.04.1); OpenJDK 64-Bit Server VM (build 11.0.3+7-Ubuntu-1ubuntu218.04.1, mixed mode, sharing)\n",
            "  Starting server from /usr/local/lib/python3.6/dist-packages/h2o/backend/bin/h2o.jar\n",
            "  Ice root: /tmp/tmpvfanjvdd\n",
            "  JVM stdout: /tmp/tmpvfanjvdd/h2o_unknownUser_started_from_python.out\n",
            "  JVM stderr: /tmp/tmpvfanjvdd/h2o_unknownUser_started_from_python.err\n",
            "  Server is running at http://127.0.0.1:54321\n",
            "Connecting to H2O server at http://127.0.0.1:54321 ... successful.\n"
          ],
          "name": "stdout"
        },
        {
          "output_type": "display_data",
          "data": {
            "text/html": [
              "<div style=\"overflow:auto\"><table style=\"width:50%\"><tr><td>H2O cluster uptime:</td>\n",
              "<td>02 secs</td></tr>\n",
              "<tr><td>H2O cluster timezone:</td>\n",
              "<td>Etc/UTC</td></tr>\n",
              "<tr><td>H2O data parsing timezone:</td>\n",
              "<td>UTC</td></tr>\n",
              "<tr><td>H2O cluster version:</td>\n",
              "<td>3.26.0.2</td></tr>\n",
              "<tr><td>H2O cluster version age:</td>\n",
              "<td>4 days </td></tr>\n",
              "<tr><td>H2O cluster name:</td>\n",
              "<td>H2O_from_python_unknownUser_8iyqzp</td></tr>\n",
              "<tr><td>H2O cluster total nodes:</td>\n",
              "<td>1</td></tr>\n",
              "<tr><td>H2O cluster free memory:</td>\n",
              "<td>6.188 Gb</td></tr>\n",
              "<tr><td>H2O cluster total cores:</td>\n",
              "<td>4</td></tr>\n",
              "<tr><td>H2O cluster allowed cores:</td>\n",
              "<td>4</td></tr>\n",
              "<tr><td>H2O cluster status:</td>\n",
              "<td>accepting new members, healthy</td></tr>\n",
              "<tr><td>H2O connection url:</td>\n",
              "<td>http://127.0.0.1:54321</td></tr>\n",
              "<tr><td>H2O connection proxy:</td>\n",
              "<td>None</td></tr>\n",
              "<tr><td>H2O internal security:</td>\n",
              "<td>False</td></tr>\n",
              "<tr><td>H2O API Extensions:</td>\n",
              "<td>Amazon S3, XGBoost, Algos, AutoML, Core V3, Core V4</td></tr>\n",
              "<tr><td>Python version:</td>\n",
              "<td>3.6.8 final</td></tr></table></div>"
            ],
            "text/plain": [
              "--------------------------  ---------------------------------------------------\n",
              "H2O cluster uptime:         02 secs\n",
              "H2O cluster timezone:       Etc/UTC\n",
              "H2O data parsing timezone:  UTC\n",
              "H2O cluster version:        3.26.0.2\n",
              "H2O cluster version age:    4 days\n",
              "H2O cluster name:           H2O_from_python_unknownUser_8iyqzp\n",
              "H2O cluster total nodes:    1\n",
              "H2O cluster free memory:    6.188 Gb\n",
              "H2O cluster total cores:    4\n",
              "H2O cluster allowed cores:  4\n",
              "H2O cluster status:         accepting new members, healthy\n",
              "H2O connection url:         http://127.0.0.1:54321\n",
              "H2O connection proxy:\n",
              "H2O internal security:      False\n",
              "H2O API Extensions:         Amazon S3, XGBoost, Algos, AutoML, Core V3, Core V4\n",
              "Python version:             3.6.8 final\n",
              "--------------------------  ---------------------------------------------------"
            ]
          },
          "metadata": {
            "tags": []
          }
        }
      ]
    },
    {
      "cell_type": "code",
      "metadata": {
        "id": "HpOPNTyLFAFl",
        "colab_type": "code",
        "colab": {}
      },
      "source": [
        "train_h2o = train.copy()"
      ],
      "execution_count": 0,
      "outputs": []
    },
    {
      "cell_type": "code",
      "metadata": {
        "id": "WfguiB2IFHMv",
        "colab_type": "code",
        "colab": {}
      },
      "source": [
        "train_h2o['TARGET'] = y.copy()"
      ],
      "execution_count": 0,
      "outputs": []
    },
    {
      "cell_type": "code",
      "metadata": {
        "id": "A7GRYureIXBY",
        "colab_type": "code",
        "outputId": "41ea6761-6994-480a-81d9-32478dcd58f3",
        "colab": {
          "base_uri": "https://localhost:8080/",
          "height": 35
        }
      },
      "source": [
        "#train_h2o['TARGET'] = train_h2o['TARGET']_toframe.asfactor()\n",
        "train_h2o = h2o.H2OFrame(train_h2o)"
      ],
      "execution_count": 0,
      "outputs": [
        {
          "output_type": "stream",
          "text": [
            "Parse progress: |█████████████████████████████████████████████████████████| 100%\n"
          ],
          "name": "stdout"
        }
      ]
    },
    {
      "cell_type": "code",
      "metadata": {
        "id": "foP3rkKEJKm6",
        "colab_type": "code",
        "colab": {}
      },
      "source": [
        "train_h2o['TARGET'] = train_h2o['TARGET'].asfactor()"
      ],
      "execution_count": 0,
      "outputs": []
    },
    {
      "cell_type": "code",
      "metadata": {
        "id": "Y13WAh3YAGOC",
        "colab_type": "code",
        "colab": {}
      },
      "source": [
        "h2o_automl = H2OAutoML(max_models = 2, max_runtime_secs=1500, seed = 1)\n"
      ],
      "execution_count": 0,
      "outputs": []
    },
    {
      "cell_type": "code",
      "metadata": {
        "id": "0pG1Vw69C8Kz",
        "colab_type": "code",
        "outputId": "279d1ef3-ae0c-48ba-a01a-adf2cc3524fd",
        "colab": {
          "base_uri": "https://localhost:8080/",
          "height": 35
        }
      },
      "source": [
        "h2o_automl.train(y = 'TARGET', training_frame = train_h2o)"
      ],
      "execution_count": 0,
      "outputs": [
        {
          "output_type": "stream",
          "text": [
            "AutoML progress: |████████████████████████████████████████████████████████| 100%\n"
          ],
          "name": "stdout"
        }
      ]
    },
    {
      "cell_type": "code",
      "metadata": {
        "id": "HL5oL_LLAJ_1",
        "colab_type": "code",
        "outputId": "06c44c1f-bf32-4e22-fc52-15dc9b2331ef",
        "colab": {
          "base_uri": "https://localhost:8080/",
          "height": 60
        }
      },
      "source": [
        "h2o_leaderboard = h2o_automl.leaderboard\n",
        "h2o_leaderboard.head()\n",
        "h2o_leaderboard.head(rows=h2o_leaderboard.nrows) # Entire leaderboard"
      ],
      "execution_count": 0,
      "outputs": [
        {
          "output_type": "display_data",
          "data": {
            "text/html": [
              "<table>\n",
              "<thead>\n",
              "<tr><th>model_id                        </th><th style=\"text-align: right;\">     auc</th><th style=\"text-align: right;\">  logloss</th><th style=\"text-align: right;\">  mean_per_class_error</th><th style=\"text-align: right;\">    rmse</th><th style=\"text-align: right;\">      mse</th></tr>\n",
              "</thead>\n",
              "<tbody>\n",
              "<tr><td>XGBoost_1_AutoML_20190731_063357</td><td style=\"text-align: right;\">0.710324</td><td style=\"text-align: right;\"> 0.263267</td><td style=\"text-align: right;\">              0.370636</td><td style=\"text-align: right;\">0.266322</td><td style=\"text-align: right;\">0.0709274</td></tr>\n",
              "</tbody>\n",
              "</table>"
            ]
          },
          "metadata": {
            "tags": []
          }
        },
        {
          "output_type": "execute_result",
          "data": {
            "text/plain": [
              ""
            ]
          },
          "metadata": {
            "tags": []
          },
          "execution_count": 141
        }
      ]
    },
    {
      "cell_type": "code",
      "metadata": {
        "id": "ONiWcD8EuQBU",
        "colab_type": "code",
        "outputId": "45949c40-7a4f-4c6e-f8b0-52d250052120",
        "colab": {
          "base_uri": "https://localhost:8080/",
          "height": 35
        }
      },
      "source": [
        "test_h2o = h2o.H2OFrame(test)"
      ],
      "execution_count": 0,
      "outputs": [
        {
          "output_type": "stream",
          "text": [
            "Parse progress: |█████████████████████████████████████████████████████████| 100%\n"
          ],
          "name": "stdout"
        }
      ]
    },
    {
      "cell_type": "code",
      "metadata": {
        "id": "tCxWgqrtAONs",
        "colab_type": "code",
        "outputId": "a8574c2c-fc14-42fb-cd5e-0c3cf0264dfe",
        "colab": {
          "base_uri": "https://localhost:8080/",
          "height": 35
        }
      },
      "source": [
        "h20_prediction = h2o_automl.predict(test_h2o)"
      ],
      "execution_count": 0,
      "outputs": [
        {
          "output_type": "stream",
          "text": [
            "xgboost prediction progress: |████████████████████████████████████████████| 100%\n"
          ],
          "name": "stdout"
        }
      ]
    },
    {
      "cell_type": "code",
      "metadata": {
        "id": "FxpYSJuzmVmm",
        "colab_type": "code",
        "colab": {}
      },
      "source": [
        "h20_prediction.as_data_frame(use_pandas=True).to_csv('h20_pred.csv')"
      ],
      "execution_count": 0,
      "outputs": []
    },
    {
      "cell_type": "markdown",
      "metadata": {
        "id": "uRrg-etQvFYA",
        "colab_type": "text"
      },
      "source": [
        "*Test AUC - 0.737*"
      ]
    }
  ]
}